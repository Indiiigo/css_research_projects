{
 "cells": [
  {
   "cell_type": "markdown",
   "id": "94042c72",
   "metadata": {},
   "source": [
    "# Exploring some of the datasets for the RP_CSSP projects"
   ]
  },
  {
   "cell_type": "code",
   "execution_count": 1,
   "id": "c43d75a0",
   "metadata": {},
   "outputs": [],
   "source": [
    "import pandas as pd"
   ]
  },
  {
   "cell_type": "markdown",
   "id": "6e6b2d73",
   "metadata": {},
   "source": [
    "### Dataset 1: Reddit Politicians\n",
    "\n",
    "This is 1% of the total data available at: https://dataverse.harvard.edu/dataset.xhtml?persistentId=doi:10.7910/DVN/YWRXEP&version=1.0"
   ]
  },
  {
   "cell_type": "code",
   "execution_count": 2,
   "id": "a98765b2",
   "metadata": {},
   "outputs": [
    {
     "data": {
      "text/html": [
       "<div>\n",
       "<style scoped>\n",
       "    .dataframe tbody tr th:only-of-type {\n",
       "        vertical-align: middle;\n",
       "    }\n",
       "\n",
       "    .dataframe tbody tr th {\n",
       "        vertical-align: top;\n",
       "    }\n",
       "\n",
       "    .dataframe thead th {\n",
       "        text-align: right;\n",
       "    }\n",
       "</style>\n",
       "<table border=\"1\" class=\"dataframe\">\n",
       "  <thead>\n",
       "    <tr style=\"text-align: right;\">\n",
       "      <th></th>\n",
       "      <th>id</th>\n",
       "      <th>body</th>\n",
       "      <th>subreddit</th>\n",
       "      <th>to_type</th>\n",
       "      <th>NEL</th>\n",
       "      <th>Names</th>\n",
       "      <th>created_utc</th>\n",
       "      <th>sex</th>\n",
       "      <th>ethnicity</th>\n",
       "      <th>origin</th>\n",
       "      <th>...</th>\n",
       "      <th>nickname_used</th>\n",
       "      <th>Adjectives</th>\n",
       "      <th>Verbs</th>\n",
       "      <th>Nouns</th>\n",
       "      <th>Descriptors_parsed</th>\n",
       "      <th>Verbs_parsed</th>\n",
       "      <th>Relation</th>\n",
       "      <th>Valence</th>\n",
       "      <th>Arousal</th>\n",
       "      <th>Dominance</th>\n",
       "    </tr>\n",
       "  </thead>\n",
       "  <tbody>\n",
       "    <tr>\n",
       "      <th>0</th>\n",
       "      <td>e2r5x8o</td>\n",
       "      <td>Paul Joseph Watson, Count Dankula and more ha...</td>\n",
       "      <td>The_Donald</td>\n",
       "      <td>t1</td>\n",
       "      <td>Q291169</td>\n",
       "      <td>['Jeremy Corbyn']</td>\n",
       "      <td>NaN</td>\n",
       "      <td>male</td>\n",
       "      <td>NaN</td>\n",
       "      <td>United Kingdom</td>\n",
       "      <td>...</td>\n",
       "      <td>False</td>\n",
       "      <td>['more', 'parliamentary', 'small', 'effective'...</td>\n",
       "      <td>['have', 'be', 'have', 'be', 'take', 'get', 'g...</td>\n",
       "      <td>['system', 'party', 'system', 'seat', 'winner'...</td>\n",
       "      <td>[]</td>\n",
       "      <td>[]</td>\n",
       "      <td>['nmod']</td>\n",
       "      <td>0.570419</td>\n",
       "      <td>0.425279</td>\n",
       "      <td>0.563581</td>\n",
       "    </tr>\n",
       "    <tr>\n",
       "      <th>1</th>\n",
       "      <td>e2r5x9y</td>\n",
       "      <td>Just wait til [NAME] releases [NAME] tapes! .....</td>\n",
       "      <td>politics</td>\n",
       "      <td>t1</td>\n",
       "      <td>Q7747</td>\n",
       "      <td>['Putin']</td>\n",
       "      <td>NaN</td>\n",
       "      <td>male</td>\n",
       "      <td>Russians</td>\n",
       "      <td>Russia</td>\n",
       "      <td>...</td>\n",
       "      <td>False</td>\n",
       "      <td>[]</td>\n",
       "      <td>['wait']</td>\n",
       "      <td>['name', 'release', 'name', 'tape', 'music', '...</td>\n",
       "      <td>[]</td>\n",
       "      <td>[]</td>\n",
       "      <td>['nmod', 'npadvmod']</td>\n",
       "      <td>0.569800</td>\n",
       "      <td>0.381400</td>\n",
       "      <td>0.425200</td>\n",
       "    </tr>\n",
       "    <tr>\n",
       "      <th>2</th>\n",
       "      <td>e2r5zwt</td>\n",
       "      <td>I want Michael Avenatti to live a long time, a...</td>\n",
       "      <td>politics</td>\n",
       "      <td>t1</td>\n",
       "      <td>Q22686</td>\n",
       "      <td>['Donald Trump']</td>\n",
       "      <td>NaN</td>\n",
       "      <td>male</td>\n",
       "      <td>NaN</td>\n",
       "      <td>United States of America</td>\n",
       "      <td>...</td>\n",
       "      <td>False</td>\n",
       "      <td>['long']</td>\n",
       "      <td>['want', 'live', 'want', 'lose', 'say', 'need'...</td>\n",
       "      <td>['time', 'dignity', 'name', 'name', 'poison', ...</td>\n",
       "      <td>[]</td>\n",
       "      <td>['say']</td>\n",
       "      <td>['dep']</td>\n",
       "      <td>0.600769</td>\n",
       "      <td>0.472000</td>\n",
       "      <td>0.527231</td>\n",
       "    </tr>\n",
       "    <tr>\n",
       "      <th>3</th>\n",
       "      <td>e2r640r</td>\n",
       "      <td>I think we've established [NAME]'s 'type'...ty...</td>\n",
       "      <td>politics</td>\n",
       "      <td>t3</td>\n",
       "      <td>Q22686</td>\n",
       "      <td>['Trump']</td>\n",
       "      <td>NaN</td>\n",
       "      <td>male</td>\n",
       "      <td>NaN</td>\n",
       "      <td>United States of America</td>\n",
       "      <td>...</td>\n",
       "      <td>False</td>\n",
       "      <td>['young', 'nubile']</td>\n",
       "      <td>['think', 'establish', 'prefer', 'remind']</td>\n",
       "      <td>['name', \"type'\", 'type', 'chick', 'type']</td>\n",
       "      <td>[]</td>\n",
       "      <td>['establish']</td>\n",
       "      <td>['dobj']</td>\n",
       "      <td>0.669714</td>\n",
       "      <td>0.372143</td>\n",
       "      <td>0.507857</td>\n",
       "    </tr>\n",
       "    <tr>\n",
       "      <th>4</th>\n",
       "      <td>e2r66h0</td>\n",
       "      <td>There's no way [NAME] or Trump know exactly wh...</td>\n",
       "      <td>politics</td>\n",
       "      <td>t3</td>\n",
       "      <td>Q212648</td>\n",
       "      <td>['Giuliani']</td>\n",
       "      <td>NaN</td>\n",
       "      <td>male</td>\n",
       "      <td>NaN</td>\n",
       "      <td>United States of America</td>\n",
       "      <td>...</td>\n",
       "      <td>False</td>\n",
       "      <td>['able', 'several', 'treasonous', 'mere', 'rus...</td>\n",
       "      <td>['know', 'record', 'be', 'get', 'expect', 'rel...</td>\n",
       "      <td>['way', 'name', 'trump', 'name', 'trump', 'mag...</td>\n",
       "      <td>['trump', 'able']</td>\n",
       "      <td>['be']</td>\n",
       "      <td>['parataxis', 'dep']</td>\n",
       "      <td>0.549697</td>\n",
       "      <td>0.484636</td>\n",
       "      <td>0.545667</td>\n",
       "    </tr>\n",
       "  </tbody>\n",
       "</table>\n",
       "<p>5 rows × 28 columns</p>\n",
       "</div>"
      ],
      "text/plain": [
       "        id                                               body   subreddit  \\\n",
       "0  e2r5x8o   Paul Joseph Watson, Count Dankula and more ha...  The_Donald   \n",
       "1  e2r5x9y  Just wait til [NAME] releases [NAME] tapes! .....    politics   \n",
       "2  e2r5zwt  I want Michael Avenatti to live a long time, a...    politics   \n",
       "3  e2r640r  I think we've established [NAME]'s 'type'...ty...    politics   \n",
       "4  e2r66h0  There's no way [NAME] or Trump know exactly wh...    politics   \n",
       "\n",
       "  to_type      NEL              Names  created_utc   sex ethnicity  \\\n",
       "0      t1  Q291169  ['Jeremy Corbyn']          NaN  male       NaN   \n",
       "1      t1    Q7747          ['Putin']          NaN  male  Russians   \n",
       "2      t1   Q22686   ['Donald Trump']          NaN  male       NaN   \n",
       "3      t3   Q22686          ['Trump']          NaN  male       NaN   \n",
       "4      t3  Q212648       ['Giuliani']          NaN  male       NaN   \n",
       "\n",
       "                     origin  ... nickname_used  \\\n",
       "0            United Kingdom  ...         False   \n",
       "1                    Russia  ...         False   \n",
       "2  United States of America  ...         False   \n",
       "3  United States of America  ...         False   \n",
       "4  United States of America  ...         False   \n",
       "\n",
       "                                          Adjectives  \\\n",
       "0  ['more', 'parliamentary', 'small', 'effective'...   \n",
       "1                                                 []   \n",
       "2                                           ['long']   \n",
       "3                                ['young', 'nubile']   \n",
       "4  ['able', 'several', 'treasonous', 'mere', 'rus...   \n",
       "\n",
       "                                               Verbs  \\\n",
       "0  ['have', 'be', 'have', 'be', 'take', 'get', 'g...   \n",
       "1                                           ['wait']   \n",
       "2  ['want', 'live', 'want', 'lose', 'say', 'need'...   \n",
       "3         ['think', 'establish', 'prefer', 'remind']   \n",
       "4  ['know', 'record', 'be', 'get', 'expect', 'rel...   \n",
       "\n",
       "                                               Nouns Descriptors_parsed  \\\n",
       "0  ['system', 'party', 'system', 'seat', 'winner'...                 []   \n",
       "1  ['name', 'release', 'name', 'tape', 'music', '...                 []   \n",
       "2  ['time', 'dignity', 'name', 'name', 'poison', ...                 []   \n",
       "3         ['name', \"type'\", 'type', 'chick', 'type']                 []   \n",
       "4  ['way', 'name', 'trump', 'name', 'trump', 'mag...  ['trump', 'able']   \n",
       "\n",
       "    Verbs_parsed              Relation   Valence   Arousal Dominance  \n",
       "0             []              ['nmod']  0.570419  0.425279  0.563581  \n",
       "1             []  ['nmod', 'npadvmod']  0.569800  0.381400  0.425200  \n",
       "2        ['say']               ['dep']  0.600769  0.472000  0.527231  \n",
       "3  ['establish']              ['dobj']  0.669714  0.372143  0.507857  \n",
       "4         ['be']  ['parataxis', 'dep']  0.549697  0.484636  0.545667  \n",
       "\n",
       "[5 rows x 28 columns]"
      ]
     },
     "execution_count": 2,
     "metadata": {},
     "output_type": "execute_result"
    }
   ],
   "source": [
    "pol_reddit = pd.read_csv('data/all_politicians_comments/all_comments_sample_137K.csv')\n",
    "pol_reddit.head()"
   ]
  },
  {
   "cell_type": "code",
   "execution_count": 3,
   "id": "6a020a04",
   "metadata": {},
   "outputs": [
    {
     "data": {
      "text/plain": [
       "Index(['id', 'body', 'subreddit', 'to_type', 'NEL', 'Names', 'created_utc',\n",
       "       'sex', 'ethnicity', 'origin', 'DOB', 'highest_position', 'party',\n",
       "       'entity_given_name', 'entity_family_name', 'given_name_used',\n",
       "       'family_name_used', 'full_name_used', 'nickname_used', 'Adjectives',\n",
       "       'Verbs', 'Nouns', 'Descriptors_parsed', 'Verbs_parsed', 'Relation',\n",
       "       'Valence', 'Arousal', 'Dominance'],\n",
       "      dtype='object')"
      ]
     },
     "execution_count": 3,
     "metadata": {},
     "output_type": "execute_result"
    }
   ],
   "source": [
    "pol_reddit.columns"
   ]
  },
  {
   "cell_type": "code",
   "execution_count": null,
   "id": "cdca927c",
   "metadata": {},
   "outputs": [],
   "source": []
  },
  {
   "cell_type": "code",
   "execution_count": null,
   "id": "bd373793",
   "metadata": {},
   "outputs": [],
   "source": []
  },
  {
   "cell_type": "code",
   "execution_count": null,
   "id": "2a261b60",
   "metadata": {},
   "outputs": [],
   "source": []
  },
  {
   "cell_type": "markdown",
   "id": "18211724",
   "metadata": {},
   "source": [
    "### Dataset 2: Stance Detection\n",
    "\n",
    "P-Stance [https://aclanthology.org/2021.findings-acl.208/] is relatively new dataset about stance towards several politicians. You can download it from here: https://drive.google.com/drive/folders/1so8lY1XKpnhUtTvb15edEz6aeHt7CSuh\n",
    "\n",
    "For now, we will look at one of the files with stance towards Donald Trump: "
   ]
  },
  {
   "cell_type": "code",
   "execution_count": 17,
   "id": "1afae759",
   "metadata": {},
   "outputs": [
    {
     "data": {
      "text/html": [
       "<div>\n",
       "<style scoped>\n",
       "    .dataframe tbody tr th:only-of-type {\n",
       "        vertical-align: middle;\n",
       "    }\n",
       "\n",
       "    .dataframe tbody tr th {\n",
       "        vertical-align: top;\n",
       "    }\n",
       "\n",
       "    .dataframe thead th {\n",
       "        text-align: right;\n",
       "    }\n",
       "</style>\n",
       "<table border=\"1\" class=\"dataframe\">\n",
       "  <thead>\n",
       "    <tr style=\"text-align: right;\">\n",
       "      <th></th>\n",
       "      <th>Tweet</th>\n",
       "      <th>Target</th>\n",
       "      <th>Stance</th>\n",
       "    </tr>\n",
       "  </thead>\n",
       "  <tbody>\n",
       "    <tr>\n",
       "      <th>0</th>\n",
       "      <td>You COWARD... you should have been at THE WHIT...</td>\n",
       "      <td>Donald Trump</td>\n",
       "      <td>AGAINST</td>\n",
       "    </tr>\n",
       "    <tr>\n",
       "      <th>1</th>\n",
       "      <td>Cool. I trust he requested the same records fo...</td>\n",
       "      <td>Donald Trump</td>\n",
       "      <td>AGAINST</td>\n",
       "    </tr>\n",
       "    <tr>\n",
       "      <th>2</th>\n",
       "      <td>Off your meds again Donnie? You are surrounded...</td>\n",
       "      <td>Donald Trump</td>\n",
       "      <td>AGAINST</td>\n",
       "    </tr>\n",
       "    <tr>\n",
       "      <th>3</th>\n",
       "      <td>That has to happen anyway. But his profits wil...</td>\n",
       "      <td>Donald Trump</td>\n",
       "      <td>AGAINST</td>\n",
       "    </tr>\n",
       "    <tr>\n",
       "      <th>4</th>\n",
       "      <td>This is so stupid. Unmasking lets them know wh...</td>\n",
       "      <td>Donald Trump</td>\n",
       "      <td>AGAINST</td>\n",
       "    </tr>\n",
       "  </tbody>\n",
       "</table>\n",
       "</div>"
      ],
      "text/plain": [
       "                                               Tweet        Target   Stance\n",
       "0  You COWARD... you should have been at THE WHIT...  Donald Trump  AGAINST\n",
       "1  Cool. I trust he requested the same records fo...  Donald Trump  AGAINST\n",
       "2  Off your meds again Donnie? You are surrounded...  Donald Trump  AGAINST\n",
       "3  That has to happen anyway. But his profits wil...  Donald Trump  AGAINST\n",
       "4  This is so stupid. Unmasking lets them know wh...  Donald Trump  AGAINST"
      ]
     },
     "execution_count": 17,
     "metadata": {},
     "output_type": "execute_result"
    }
   ],
   "source": [
    "trump_stance = pd.read_csv('data/p_stance/raw_train_trump.csv')\n",
    "trump_stance.head()"
   ]
  },
  {
   "cell_type": "code",
   "execution_count": 18,
   "id": "94b68c1d",
   "metadata": {},
   "outputs": [
    {
     "data": {
      "text/plain": [
       "Index(['Tweet', 'Target', 'Stance'], dtype='object')"
      ]
     },
     "execution_count": 18,
     "metadata": {},
     "output_type": "execute_result"
    }
   ],
   "source": [
    "trump_stance.columns"
   ]
  },
  {
   "cell_type": "code",
   "execution_count": null,
   "id": "acd23699",
   "metadata": {},
   "outputs": [],
   "source": []
  },
  {
   "cell_type": "code",
   "execution_count": null,
   "id": "f57b752a",
   "metadata": {},
   "outputs": [],
   "source": []
  },
  {
   "cell_type": "code",
   "execution_count": null,
   "id": "c092206a",
   "metadata": {},
   "outputs": [],
   "source": []
  },
  {
   "cell_type": "markdown",
   "id": "87009cbe",
   "metadata": {},
   "source": [
    "### Dataset 3: Annotator Disagreement\n",
    "\n",
    "There are several NLP datasets which have individual-level annotations and annotator backgrounds (See slide 52 in Lecture 3). One of them is the 'Social Bias Frames' dataset: https://aclanthology.org/2020.acl-main.486/ available on huggingface: https://huggingface.co/datasets/social_bias_frames"
   ]
  },
  {
   "cell_type": "code",
   "execution_count": 4,
   "id": "c28fdd05",
   "metadata": {},
   "outputs": [],
   "source": [
    "from datasets import load_dataset\n",
    "\n",
    "sbf = load_dataset(\"social_bias_frames\")"
   ]
  },
  {
   "cell_type": "code",
   "execution_count": 11,
   "id": "68848282",
   "metadata": {},
   "outputs": [],
   "source": [
    "# convert hugginface dataset object to pandas dataframe\n",
    "train_df = sbf['train'].to_pandas()\n",
    "test_df = sbf['test'].to_pandas()\n",
    "validation_df = sbf['validation'].to_pandas()"
   ]
  },
  {
   "cell_type": "code",
   "execution_count": 12,
   "id": "59a8ca7e",
   "metadata": {},
   "outputs": [
    {
     "data": {
      "text/plain": [
       "(112900, 17501, 16738)"
      ]
     },
     "execution_count": 12,
     "metadata": {},
     "output_type": "execute_result"
    }
   ],
   "source": [
    "len(train_df), len(test_df), len(validation_df)"
   ]
  },
  {
   "cell_type": "code",
   "execution_count": 13,
   "id": "edb64a4a",
   "metadata": {},
   "outputs": [
    {
     "data": {
      "text/plain": [
       "147139"
      ]
     },
     "execution_count": 13,
     "metadata": {},
     "output_type": "execute_result"
    }
   ],
   "source": [
    "all_sbf_data = pd.concat([train_df, test_df, validation_df]).reset_index()\n",
    "len(all_sbf_data)"
   ]
  },
  {
   "cell_type": "code",
   "execution_count": 16,
   "id": "13926d10",
   "metadata": {},
   "outputs": [
    {
     "data": {
      "text/html": [
       "<div>\n",
       "<style scoped>\n",
       "    .dataframe tbody tr th:only-of-type {\n",
       "        vertical-align: middle;\n",
       "    }\n",
       "\n",
       "    .dataframe tbody tr th {\n",
       "        vertical-align: top;\n",
       "    }\n",
       "\n",
       "    .dataframe thead th {\n",
       "        text-align: right;\n",
       "    }\n",
       "</style>\n",
       "<table border=\"1\" class=\"dataframe\">\n",
       "  <thead>\n",
       "    <tr style=\"text-align: right;\">\n",
       "      <th></th>\n",
       "      <th>index</th>\n",
       "      <th>whoTarget</th>\n",
       "      <th>intentYN</th>\n",
       "      <th>sexYN</th>\n",
       "      <th>sexReason</th>\n",
       "      <th>offensiveYN</th>\n",
       "      <th>annotatorGender</th>\n",
       "      <th>annotatorMinority</th>\n",
       "      <th>sexPhrase</th>\n",
       "      <th>speakerMinorityYN</th>\n",
       "      <th>WorkerId</th>\n",
       "      <th>HITId</th>\n",
       "      <th>annotatorPolitics</th>\n",
       "      <th>annotatorRace</th>\n",
       "      <th>annotatorAge</th>\n",
       "      <th>post</th>\n",
       "      <th>targetMinority</th>\n",
       "      <th>targetCategory</th>\n",
       "      <th>targetStereotype</th>\n",
       "      <th>dataSource</th>\n",
       "    </tr>\n",
       "  </thead>\n",
       "  <tbody>\n",
       "    <tr>\n",
       "      <th>0</th>\n",
       "      <td>0</td>\n",
       "      <td>0.0</td>\n",
       "      <td>0.66</td>\n",
       "      <td>0.0</td>\n",
       "      <td></td>\n",
       "      <td>1.0</td>\n",
       "      <td>woman</td>\n",
       "      <td></td>\n",
       "      <td></td>\n",
       "      <td></td>\n",
       "      <td>-8935932304856669427</td>\n",
       "      <td>363A7XIFV4G2799C5V96YERJA9AVAM</td>\n",
       "      <td>liberal</td>\n",
       "      <td>white</td>\n",
       "      <td>45.0</td>\n",
       "      <td>RT @_LexC__: I'm convinced that some of y'all ...</td>\n",
       "      <td></td>\n",
       "      <td></td>\n",
       "      <td></td>\n",
       "      <td>t/davidson</td>\n",
       "    </tr>\n",
       "    <tr>\n",
       "      <th>1</th>\n",
       "      <td>1</td>\n",
       "      <td>0.0</td>\n",
       "      <td>0.66</td>\n",
       "      <td>0.0</td>\n",
       "      <td></td>\n",
       "      <td>0.5</td>\n",
       "      <td>man</td>\n",
       "      <td></td>\n",
       "      <td></td>\n",
       "      <td></td>\n",
       "      <td>6347880360297734464</td>\n",
       "      <td>363A7XIFV4G2799C5V96YERJA9AVAM</td>\n",
       "      <td>mod-liberal</td>\n",
       "      <td>white</td>\n",
       "      <td>35.0</td>\n",
       "      <td>RT @_LexC__: I'm convinced that some of y'all ...</td>\n",
       "      <td></td>\n",
       "      <td></td>\n",
       "      <td></td>\n",
       "      <td>t/davidson</td>\n",
       "    </tr>\n",
       "    <tr>\n",
       "      <th>2</th>\n",
       "      <td>2</td>\n",
       "      <td>0.0</td>\n",
       "      <td>0.33</td>\n",
       "      <td>0.0</td>\n",
       "      <td></td>\n",
       "      <td>0.5</td>\n",
       "      <td>man</td>\n",
       "      <td></td>\n",
       "      <td></td>\n",
       "      <td></td>\n",
       "      <td>-7452610791699819066</td>\n",
       "      <td>363A7XIFV4G2799C5V96YERJA9AVAM</td>\n",
       "      <td>liberal</td>\n",
       "      <td>asian</td>\n",
       "      <td>23.0</td>\n",
       "      <td>RT @_LexC__: I'm convinced that some of y'all ...</td>\n",
       "      <td></td>\n",
       "      <td></td>\n",
       "      <td></td>\n",
       "      <td>t/davidson</td>\n",
       "    </tr>\n",
       "    <tr>\n",
       "      <th>3</th>\n",
       "      <td>3</td>\n",
       "      <td>1.0</td>\n",
       "      <td>1.0</td>\n",
       "      <td>0.0</td>\n",
       "      <td></td>\n",
       "      <td>1.0</td>\n",
       "      <td>man</td>\n",
       "      <td></td>\n",
       "      <td></td>\n",
       "      <td>0.0</td>\n",
       "      <td>-500114755446676507</td>\n",
       "      <td>3JTPR5MTZS6RLS3JBV4IOU0G2X35K5</td>\n",
       "      <td>liberal</td>\n",
       "      <td>white</td>\n",
       "      <td>25.0</td>\n",
       "      <td>RT @iBeZo: Stupid fucking nigger LeBron. You f...</td>\n",
       "      <td>black folks</td>\n",
       "      <td>race</td>\n",
       "      <td>all stupid</td>\n",
       "      <td>t/davidson</td>\n",
       "    </tr>\n",
       "    <tr>\n",
       "      <th>4</th>\n",
       "      <td>4</td>\n",
       "      <td>1.0</td>\n",
       "      <td>1.0</td>\n",
       "      <td>0.0</td>\n",
       "      <td></td>\n",
       "      <td>1.0</td>\n",
       "      <td>man</td>\n",
       "      <td></td>\n",
       "      <td></td>\n",
       "      <td>0.0</td>\n",
       "      <td>-500114755446676507</td>\n",
       "      <td>3JTPR5MTZS6RLS3JBV4IOU0G2X35K5</td>\n",
       "      <td>liberal</td>\n",
       "      <td>white</td>\n",
       "      <td>25.0</td>\n",
       "      <td>RT @iBeZo: Stupid fucking nigger LeBron. You f...</td>\n",
       "      <td>black folks</td>\n",
       "      <td>race</td>\n",
       "      <td>are not people but apes.</td>\n",
       "      <td>t/davidson</td>\n",
       "    </tr>\n",
       "  </tbody>\n",
       "</table>\n",
       "</div>"
      ],
      "text/plain": [
       "   index whoTarget intentYN sexYN sexReason offensiveYN annotatorGender  \\\n",
       "0      0       0.0     0.66   0.0                   1.0           woman   \n",
       "1      1       0.0     0.66   0.0                   0.5             man   \n",
       "2      2       0.0     0.33   0.0                   0.5             man   \n",
       "3      3       1.0      1.0   0.0                   1.0             man   \n",
       "4      4       1.0      1.0   0.0                   1.0             man   \n",
       "\n",
       "  annotatorMinority sexPhrase speakerMinorityYN              WorkerId  \\\n",
       "0                                                -8935932304856669427   \n",
       "1                                                 6347880360297734464   \n",
       "2                                                -7452610791699819066   \n",
       "3                                           0.0   -500114755446676507   \n",
       "4                                           0.0   -500114755446676507   \n",
       "\n",
       "                            HITId annotatorPolitics annotatorRace  \\\n",
       "0  363A7XIFV4G2799C5V96YERJA9AVAM           liberal         white   \n",
       "1  363A7XIFV4G2799C5V96YERJA9AVAM       mod-liberal         white   \n",
       "2  363A7XIFV4G2799C5V96YERJA9AVAM           liberal         asian   \n",
       "3  3JTPR5MTZS6RLS3JBV4IOU0G2X35K5           liberal         white   \n",
       "4  3JTPR5MTZS6RLS3JBV4IOU0G2X35K5           liberal         white   \n",
       "\n",
       "  annotatorAge                                               post  \\\n",
       "0         45.0  RT @_LexC__: I'm convinced that some of y'all ...   \n",
       "1         35.0  RT @_LexC__: I'm convinced that some of y'all ...   \n",
       "2         23.0  RT @_LexC__: I'm convinced that some of y'all ...   \n",
       "3         25.0  RT @iBeZo: Stupid fucking nigger LeBron. You f...   \n",
       "4         25.0  RT @iBeZo: Stupid fucking nigger LeBron. You f...   \n",
       "\n",
       "  targetMinority targetCategory          targetStereotype  dataSource  \n",
       "0                                                          t/davidson  \n",
       "1                                                          t/davidson  \n",
       "2                                                          t/davidson  \n",
       "3    black folks           race                all stupid  t/davidson  \n",
       "4    black folks           race  are not people but apes.  t/davidson  "
      ]
     },
     "execution_count": 16,
     "metadata": {},
     "output_type": "execute_result"
    }
   ],
   "source": [
    "all_sbf_data.head()"
   ]
  },
  {
   "cell_type": "code",
   "execution_count": 14,
   "id": "d5645f5f",
   "metadata": {},
   "outputs": [
    {
     "data": {
      "text/plain": [
       "Index(['index', 'whoTarget', 'intentYN', 'sexYN', 'sexReason', 'offensiveYN',\n",
       "       'annotatorGender', 'annotatorMinority', 'sexPhrase',\n",
       "       'speakerMinorityYN', 'WorkerId', 'HITId', 'annotatorPolitics',\n",
       "       'annotatorRace', 'annotatorAge', 'post', 'targetMinority',\n",
       "       'targetCategory', 'targetStereotype', 'dataSource'],\n",
       "      dtype='object')"
      ]
     },
     "execution_count": 14,
     "metadata": {},
     "output_type": "execute_result"
    }
   ],
   "source": [
    "all_sbf_data.columns"
   ]
  },
  {
   "cell_type": "code",
   "execution_count": 15,
   "id": "253066c1",
   "metadata": {},
   "outputs": [
    {
     "data": {
      "text/plain": [
       "44671"
      ]
     },
     "execution_count": 15,
     "metadata": {},
     "output_type": "execute_result"
    }
   ],
   "source": [
    "len(all_sbf_data['post'].unique())"
   ]
  },
  {
   "cell_type": "code",
   "execution_count": null,
   "id": "349f611c",
   "metadata": {},
   "outputs": [],
   "source": []
  },
  {
   "cell_type": "code",
   "execution_count": null,
   "id": "f2268029",
   "metadata": {},
   "outputs": [],
   "source": []
  },
  {
   "cell_type": "code",
   "execution_count": null,
   "id": "106da51f",
   "metadata": {},
   "outputs": [],
   "source": []
  },
  {
   "cell_type": "code",
   "execution_count": null,
   "id": "25086265",
   "metadata": {},
   "outputs": [],
   "source": []
  }
 ],
 "metadata": {
  "kernelspec": {
   "display_name": "Python 3 (ipykernel)",
   "language": "python",
   "name": "python3"
  },
  "language_info": {
   "codemirror_mode": {
    "name": "ipython",
    "version": 3
   },
   "file_extension": ".py",
   "mimetype": "text/x-python",
   "name": "python",
   "nbconvert_exporter": "python",
   "pygments_lexer": "ipython3",
   "version": "3.11.5"
  }
 },
 "nbformat": 4,
 "nbformat_minor": 5
}
