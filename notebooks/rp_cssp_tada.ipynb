{
 "cells": [
  {
   "cell_type": "markdown",
   "id": "5ec1a83e",
   "metadata": {
    "id": "29SwYw8JKCx-"
   },
   "source": [
    "# Data Cleaning and Augmentation\n",
    "\n",
    "The LDA Topic Modeling part is adapted from https://github.com/susanli2016/Machine-Learning-with-Python/blob/master/topic_modeling_Gensim.ipynb"
   ]
  },
  {
   "cell_type": "markdown",
   "id": "aa8cf548",
   "metadata": {
    "id": "o8txzgDQKCyM"
   },
   "source": [
    "## Data Cleaning"
   ]
  },
  {
   "cell_type": "markdown",
   "id": "dc8b2e72",
   "metadata": {
    "id": "AdPme3moKCyN"
   },
   "source": [
    "As we discussed in the slides, we will start with data preprocessing which is sometimes also called data cleaning. Depending on the type of data you have, you might have different workflows for data cleaning. But we will assume that at this step our data is available in a rectangular format which can loaded using dataframes. And we will primarily clean text data. What is meant by data cleaning?\n",
    "\n",
    "- remove social media specific language\n",
    "- remove stopwords\n",
    "- tokenization\n",
    "\n",
    "One can also include dropping or imputing missing values a part of data cleaning but we will not cover that here."
   ]
  },
  {
   "cell_type": "code",
   "execution_count": 1,
   "id": "fecf5bf4",
   "metadata": {},
   "outputs": [
    {
     "name": "stderr",
     "output_type": "stream",
     "text": [
      "C:\\Users\\isen1\\anaconda3\\Lib\\site-packages\\pandas\\core\\arrays\\masked.py:60: UserWarning: Pandas requires version '1.3.6' or newer of 'bottleneck' (version '1.3.5' currently installed).\n",
      "  from pandas.core import (\n"
     ]
    }
   ],
   "source": [
    "import pandas as pd"
   ]
  },
  {
   "cell_type": "code",
   "execution_count": 2,
   "id": "1bbcbbc3",
   "metadata": {},
   "outputs": [
    {
     "data": {
      "text/plain": [
       "137555"
      ]
     },
     "execution_count": 2,
     "metadata": {},
     "output_type": "execute_result"
    }
   ],
   "source": [
    "# df = pd.read_csv('all_comments_sample_CT_sample.csv')\n",
    "df = pd.read_csv('data/all_politicians_comments/all_comments_sample_137K.csv')\n",
    "len(df)"
   ]
  },
  {
   "cell_type": "code",
   "execution_count": 3,
   "id": "c47570d0",
   "metadata": {},
   "outputs": [
    {
     "data": {
      "text/html": [
       "<div>\n",
       "<style scoped>\n",
       "    .dataframe tbody tr th:only-of-type {\n",
       "        vertical-align: middle;\n",
       "    }\n",
       "\n",
       "    .dataframe tbody tr th {\n",
       "        vertical-align: top;\n",
       "    }\n",
       "\n",
       "    .dataframe thead th {\n",
       "        text-align: right;\n",
       "    }\n",
       "</style>\n",
       "<table border=\"1\" class=\"dataframe\">\n",
       "  <thead>\n",
       "    <tr style=\"text-align: right;\">\n",
       "      <th></th>\n",
       "      <th>id</th>\n",
       "      <th>body</th>\n",
       "      <th>subreddit</th>\n",
       "      <th>to_type</th>\n",
       "      <th>NEL</th>\n",
       "      <th>Names</th>\n",
       "      <th>created_utc</th>\n",
       "      <th>sex</th>\n",
       "      <th>ethnicity</th>\n",
       "      <th>origin</th>\n",
       "      <th>...</th>\n",
       "      <th>nickname_used</th>\n",
       "      <th>Adjectives</th>\n",
       "      <th>Verbs</th>\n",
       "      <th>Nouns</th>\n",
       "      <th>Descriptors_parsed</th>\n",
       "      <th>Verbs_parsed</th>\n",
       "      <th>Relation</th>\n",
       "      <th>Valence</th>\n",
       "      <th>Arousal</th>\n",
       "      <th>Dominance</th>\n",
       "    </tr>\n",
       "  </thead>\n",
       "  <tbody>\n",
       "    <tr>\n",
       "      <th>0</th>\n",
       "      <td>e2r5x8o</td>\n",
       "      <td>Paul Joseph Watson, Count Dankula and more ha...</td>\n",
       "      <td>The_Donald</td>\n",
       "      <td>t1</td>\n",
       "      <td>Q291169</td>\n",
       "      <td>['Jeremy Corbyn']</td>\n",
       "      <td>NaN</td>\n",
       "      <td>male</td>\n",
       "      <td>NaN</td>\n",
       "      <td>United Kingdom</td>\n",
       "      <td>...</td>\n",
       "      <td>False</td>\n",
       "      <td>['more', 'parliamentary', 'small', 'effective'...</td>\n",
       "      <td>['have', 'be', 'have', 'be', 'take', 'get', 'g...</td>\n",
       "      <td>['system', 'party', 'system', 'seat', 'winner'...</td>\n",
       "      <td>[]</td>\n",
       "      <td>[]</td>\n",
       "      <td>['nmod']</td>\n",
       "      <td>0.570419</td>\n",
       "      <td>0.425279</td>\n",
       "      <td>0.563581</td>\n",
       "    </tr>\n",
       "    <tr>\n",
       "      <th>1</th>\n",
       "      <td>e2r5x9y</td>\n",
       "      <td>Just wait til [NAME] releases [NAME] tapes! .....</td>\n",
       "      <td>politics</td>\n",
       "      <td>t1</td>\n",
       "      <td>Q7747</td>\n",
       "      <td>['Putin']</td>\n",
       "      <td>NaN</td>\n",
       "      <td>male</td>\n",
       "      <td>Russians</td>\n",
       "      <td>Russia</td>\n",
       "      <td>...</td>\n",
       "      <td>False</td>\n",
       "      <td>[]</td>\n",
       "      <td>['wait']</td>\n",
       "      <td>['name', 'release', 'name', 'tape', 'music', '...</td>\n",
       "      <td>[]</td>\n",
       "      <td>[]</td>\n",
       "      <td>['nmod', 'npadvmod']</td>\n",
       "      <td>0.569800</td>\n",
       "      <td>0.381400</td>\n",
       "      <td>0.425200</td>\n",
       "    </tr>\n",
       "    <tr>\n",
       "      <th>2</th>\n",
       "      <td>e2r5zwt</td>\n",
       "      <td>I want Michael Avenatti to live a long time, a...</td>\n",
       "      <td>politics</td>\n",
       "      <td>t1</td>\n",
       "      <td>Q22686</td>\n",
       "      <td>['Donald Trump']</td>\n",
       "      <td>NaN</td>\n",
       "      <td>male</td>\n",
       "      <td>NaN</td>\n",
       "      <td>United States of America</td>\n",
       "      <td>...</td>\n",
       "      <td>False</td>\n",
       "      <td>['long']</td>\n",
       "      <td>['want', 'live', 'want', 'lose', 'say', 'need'...</td>\n",
       "      <td>['time', 'dignity', 'name', 'name', 'poison', ...</td>\n",
       "      <td>[]</td>\n",
       "      <td>['say']</td>\n",
       "      <td>['dep']</td>\n",
       "      <td>0.600769</td>\n",
       "      <td>0.472000</td>\n",
       "      <td>0.527231</td>\n",
       "    </tr>\n",
       "    <tr>\n",
       "      <th>3</th>\n",
       "      <td>e2r640r</td>\n",
       "      <td>I think we've established [NAME]'s 'type'...ty...</td>\n",
       "      <td>politics</td>\n",
       "      <td>t3</td>\n",
       "      <td>Q22686</td>\n",
       "      <td>['Trump']</td>\n",
       "      <td>NaN</td>\n",
       "      <td>male</td>\n",
       "      <td>NaN</td>\n",
       "      <td>United States of America</td>\n",
       "      <td>...</td>\n",
       "      <td>False</td>\n",
       "      <td>['young', 'nubile']</td>\n",
       "      <td>['think', 'establish', 'prefer', 'remind']</td>\n",
       "      <td>['name', \"type'\", 'type', 'chick', 'type']</td>\n",
       "      <td>[]</td>\n",
       "      <td>['establish']</td>\n",
       "      <td>['dobj']</td>\n",
       "      <td>0.669714</td>\n",
       "      <td>0.372143</td>\n",
       "      <td>0.507857</td>\n",
       "    </tr>\n",
       "    <tr>\n",
       "      <th>4</th>\n",
       "      <td>e2r66h0</td>\n",
       "      <td>There's no way [NAME] or Trump know exactly wh...</td>\n",
       "      <td>politics</td>\n",
       "      <td>t3</td>\n",
       "      <td>Q212648</td>\n",
       "      <td>['Giuliani']</td>\n",
       "      <td>NaN</td>\n",
       "      <td>male</td>\n",
       "      <td>NaN</td>\n",
       "      <td>United States of America</td>\n",
       "      <td>...</td>\n",
       "      <td>False</td>\n",
       "      <td>['able', 'several', 'treasonous', 'mere', 'rus...</td>\n",
       "      <td>['know', 'record', 'be', 'get', 'expect', 'rel...</td>\n",
       "      <td>['way', 'name', 'trump', 'name', 'trump', 'mag...</td>\n",
       "      <td>['trump', 'able']</td>\n",
       "      <td>['be']</td>\n",
       "      <td>['parataxis', 'dep']</td>\n",
       "      <td>0.549697</td>\n",
       "      <td>0.484636</td>\n",
       "      <td>0.545667</td>\n",
       "    </tr>\n",
       "  </tbody>\n",
       "</table>\n",
       "<p>5 rows × 28 columns</p>\n",
       "</div>"
      ],
      "text/plain": [
       "        id                                               body   subreddit  \\\n",
       "0  e2r5x8o   Paul Joseph Watson, Count Dankula and more ha...  The_Donald   \n",
       "1  e2r5x9y  Just wait til [NAME] releases [NAME] tapes! .....    politics   \n",
       "2  e2r5zwt  I want Michael Avenatti to live a long time, a...    politics   \n",
       "3  e2r640r  I think we've established [NAME]'s 'type'...ty...    politics   \n",
       "4  e2r66h0  There's no way [NAME] or Trump know exactly wh...    politics   \n",
       "\n",
       "  to_type      NEL              Names  created_utc   sex ethnicity  \\\n",
       "0      t1  Q291169  ['Jeremy Corbyn']          NaN  male       NaN   \n",
       "1      t1    Q7747          ['Putin']          NaN  male  Russians   \n",
       "2      t1   Q22686   ['Donald Trump']          NaN  male       NaN   \n",
       "3      t3   Q22686          ['Trump']          NaN  male       NaN   \n",
       "4      t3  Q212648       ['Giuliani']          NaN  male       NaN   \n",
       "\n",
       "                     origin  ... nickname_used  \\\n",
       "0            United Kingdom  ...         False   \n",
       "1                    Russia  ...         False   \n",
       "2  United States of America  ...         False   \n",
       "3  United States of America  ...         False   \n",
       "4  United States of America  ...         False   \n",
       "\n",
       "                                          Adjectives  \\\n",
       "0  ['more', 'parliamentary', 'small', 'effective'...   \n",
       "1                                                 []   \n",
       "2                                           ['long']   \n",
       "3                                ['young', 'nubile']   \n",
       "4  ['able', 'several', 'treasonous', 'mere', 'rus...   \n",
       "\n",
       "                                               Verbs  \\\n",
       "0  ['have', 'be', 'have', 'be', 'take', 'get', 'g...   \n",
       "1                                           ['wait']   \n",
       "2  ['want', 'live', 'want', 'lose', 'say', 'need'...   \n",
       "3         ['think', 'establish', 'prefer', 'remind']   \n",
       "4  ['know', 'record', 'be', 'get', 'expect', 'rel...   \n",
       "\n",
       "                                               Nouns Descriptors_parsed  \\\n",
       "0  ['system', 'party', 'system', 'seat', 'winner'...                 []   \n",
       "1  ['name', 'release', 'name', 'tape', 'music', '...                 []   \n",
       "2  ['time', 'dignity', 'name', 'name', 'poison', ...                 []   \n",
       "3         ['name', \"type'\", 'type', 'chick', 'type']                 []   \n",
       "4  ['way', 'name', 'trump', 'name', 'trump', 'mag...  ['trump', 'able']   \n",
       "\n",
       "    Verbs_parsed              Relation   Valence   Arousal Dominance  \n",
       "0             []              ['nmod']  0.570419  0.425279  0.563581  \n",
       "1             []  ['nmod', 'npadvmod']  0.569800  0.381400  0.425200  \n",
       "2        ['say']               ['dep']  0.600769  0.472000  0.527231  \n",
       "3  ['establish']              ['dobj']  0.669714  0.372143  0.507857  \n",
       "4         ['be']  ['parataxis', 'dep']  0.549697  0.484636  0.545667  \n",
       "\n",
       "[5 rows x 28 columns]"
      ]
     },
     "execution_count": 3,
     "metadata": {},
     "output_type": "execute_result"
    }
   ],
   "source": [
    "df.head()"
   ]
  },
  {
   "cell_type": "code",
   "execution_count": 4,
   "id": "2ff66f69",
   "metadata": {
    "id": "k8Z0fG8jKCyU"
   },
   "outputs": [],
   "source": [
    "import spacy\n",
    "# !python -m spacy download en\n",
    "# spacy.load('en')\n",
    "from spacy.lang.en import English\n",
    "parser = English()\n",
    "\n",
    "def tokenize(text):\n",
    "    lda_tokens = []\n",
    "    tokens = parser(text)\n",
    "    for token in tokens:\n",
    "        if token.orth_.isspace():\n",
    "            continue\n",
    "        elif token.like_url:\n",
    "            lda_tokens.append('URL')\n",
    "        elif token.orth_.startswith('@'):\n",
    "            lda_tokens.append('SCREEN_NAME')\n",
    "        else:\n",
    "            lda_tokens.append(token.lower_)\n",
    "    return lda_tokens"
   ]
  },
  {
   "cell_type": "markdown",
   "id": "08e68606",
   "metadata": {
    "id": "LX4SjimUKCyV"
   },
   "source": [
    "Let's try an example of tokenization with the function we just defined."
   ]
  },
  {
   "cell_type": "code",
   "execution_count": 5,
   "id": "724c7b32",
   "metadata": {
    "colab": {
     "base_uri": "https://localhost:8080/",
     "height": 35
    },
    "id": "IUbXKjlfKCyX",
    "outputId": "0152d798-39de-49b1-b997-dc73d6210451"
   },
   "outputs": [
    {
     "data": {
      "text/plain": [
       "' Paul Joseph Watson, Count Dankula and more have a Parliamentary system, so smaller parties can be more effective No, because while we have a parliamentary system, seats are winner-takes all, on a a first-past-the-post basis. There is no PR.UKIP got 30% of the vote one time and got 0/650 seats to show for it.If that 30% of the popuar vote had gone to the conservatives instead, the conservatives would have won a number of marginal seats and had a majority right now.UKIp splitting the tory vote, with the polls so close, and a majority so slim, would be a great way for a [NAME] government to happen.And that would be the end of Britain.'"
      ]
     },
     "execution_count": 5,
     "metadata": {},
     "output_type": "execute_result"
    }
   ],
   "source": [
    "text_example = df['body'][0]\n",
    "text_example"
   ]
  },
  {
   "cell_type": "code",
   "execution_count": 6,
   "id": "a186e82b",
   "metadata": {
    "colab": {
     "base_uri": "https://localhost:8080/"
    },
    "id": "lCeWgYHXKCyZ",
    "outputId": "65569c33-71e1-4fa9-f9c7-59cfa9acd480"
   },
   "outputs": [
    {
     "data": {
      "text/plain": [
       "['paul',\n",
       " 'joseph',\n",
       " 'watson',\n",
       " ',',\n",
       " 'count',\n",
       " 'dankula',\n",
       " 'and',\n",
       " 'more',\n",
       " 'have',\n",
       " 'a',\n",
       " 'parliamentary',\n",
       " 'system',\n",
       " ',',\n",
       " 'so',\n",
       " 'smaller',\n",
       " 'parties',\n",
       " 'can',\n",
       " 'be',\n",
       " 'more',\n",
       " 'effective',\n",
       " 'no',\n",
       " ',',\n",
       " 'because',\n",
       " 'while',\n",
       " 'we',\n",
       " 'have',\n",
       " 'a',\n",
       " 'parliamentary',\n",
       " 'system',\n",
       " ',',\n",
       " 'seats',\n",
       " 'are',\n",
       " 'winner',\n",
       " '-',\n",
       " 'takes',\n",
       " 'all',\n",
       " ',',\n",
       " 'on',\n",
       " 'a',\n",
       " 'a',\n",
       " 'first',\n",
       " '-',\n",
       " 'past',\n",
       " '-',\n",
       " 'the',\n",
       " '-',\n",
       " 'post',\n",
       " 'basis',\n",
       " '.',\n",
       " 'there',\n",
       " 'is',\n",
       " 'no',\n",
       " 'pr.ukip',\n",
       " 'got',\n",
       " '30',\n",
       " '%',\n",
       " 'of',\n",
       " 'the',\n",
       " 'vote',\n",
       " 'one',\n",
       " 'time',\n",
       " 'and',\n",
       " 'got',\n",
       " '0/650',\n",
       " 'seats',\n",
       " 'to',\n",
       " 'show',\n",
       " 'for',\n",
       " 'it',\n",
       " '.',\n",
       " 'if',\n",
       " 'that',\n",
       " '30',\n",
       " '%',\n",
       " 'of',\n",
       " 'the',\n",
       " 'popuar',\n",
       " 'vote',\n",
       " 'had',\n",
       " 'gone',\n",
       " 'to',\n",
       " 'the',\n",
       " 'conservatives',\n",
       " 'instead',\n",
       " ',',\n",
       " 'the',\n",
       " 'conservatives',\n",
       " 'would',\n",
       " 'have',\n",
       " 'won',\n",
       " 'a',\n",
       " 'number',\n",
       " 'of',\n",
       " 'marginal',\n",
       " 'seats',\n",
       " 'and',\n",
       " 'had',\n",
       " 'a',\n",
       " 'majority',\n",
       " 'right',\n",
       " 'now',\n",
       " '.',\n",
       " 'ukip',\n",
       " 'splitting',\n",
       " 'the',\n",
       " 'tory',\n",
       " 'vote',\n",
       " ',',\n",
       " 'with',\n",
       " 'the',\n",
       " 'polls',\n",
       " 'so',\n",
       " 'close',\n",
       " ',',\n",
       " 'and',\n",
       " 'a',\n",
       " 'majority',\n",
       " 'so',\n",
       " 'slim',\n",
       " ',',\n",
       " 'would',\n",
       " 'be',\n",
       " 'a',\n",
       " 'great',\n",
       " 'way',\n",
       " 'for',\n",
       " 'a',\n",
       " '[',\n",
       " 'name',\n",
       " ']',\n",
       " 'government',\n",
       " 'to',\n",
       " 'happen',\n",
       " '.',\n",
       " 'and',\n",
       " 'that',\n",
       " 'would',\n",
       " 'be',\n",
       " 'the',\n",
       " 'end',\n",
       " 'of',\n",
       " 'britain',\n",
       " '.']"
      ]
     },
     "execution_count": 6,
     "metadata": {},
     "output_type": "execute_result"
    }
   ],
   "source": [
    "tokenize(text_example)"
   ]
  },
  {
   "cell_type": "code",
   "execution_count": 7,
   "id": "50a2f797",
   "metadata": {
    "colab": {
     "base_uri": "https://localhost:8080/"
    },
    "id": "OUy9JrIsKCyb",
    "outputId": "fb5e1795-39b6-4874-ca7f-56ef7f09b0f6"
   },
   "outputs": [
    {
     "name": "stderr",
     "output_type": "stream",
     "text": [
      "[nltk_data] Downloading package wordnet to\n",
      "[nltk_data]     C:\\Users\\isen1\\AppData\\Roaming\\nltk_data...\n",
      "[nltk_data]   Package wordnet is already up-to-date!\n"
     ]
    },
    {
     "data": {
      "text/plain": [
       "True"
      ]
     },
     "execution_count": 7,
     "metadata": {},
     "output_type": "execute_result"
    }
   ],
   "source": [
    "import nltk\n",
    "nltk.download('wordnet')"
   ]
  },
  {
   "cell_type": "code",
   "execution_count": 8,
   "id": "73c717a2",
   "metadata": {
    "id": "I9dgYEHQKCyc"
   },
   "outputs": [],
   "source": [
    "from nltk.corpus import wordnet as wn\n",
    "def get_lemma(word):\n",
    "    lemma = wn.morphy(word)\n",
    "    if lemma is None:\n",
    "        return word\n",
    "    else:\n",
    "        return lemma\n",
    "    \n",
    "from nltk.stem.wordnet import WordNetLemmatizer\n",
    "def get_lemma2(word):\n",
    "    return WordNetLemmatizer().lemmatize(word)"
   ]
  },
  {
   "cell_type": "code",
   "execution_count": 9,
   "id": "63cbb733",
   "metadata": {
    "colab": {
     "base_uri": "https://localhost:8080/"
    },
    "id": "imlON3oCfJ3P",
    "outputId": "8f12a0de-8bce-4dcf-986e-2e50a5454af2"
   },
   "outputs": [
    {
     "name": "stderr",
     "output_type": "stream",
     "text": [
      "[nltk_data] Downloading package omw-1.4 to\n",
      "[nltk_data]     C:\\Users\\isen1\\AppData\\Roaming\\nltk_data...\n",
      "[nltk_data]   Package omw-1.4 is already up-to-date!\n"
     ]
    },
    {
     "data": {
      "text/plain": [
       "True"
      ]
     },
     "execution_count": 9,
     "metadata": {},
     "output_type": "execute_result"
    }
   ],
   "source": [
    "nltk.download('omw-1.4')"
   ]
  },
  {
   "cell_type": "code",
   "execution_count": 10,
   "id": "14b0c5b1",
   "metadata": {
    "colab": {
     "base_uri": "https://localhost:8080/"
    },
    "id": "JkeLGNjHKCyc",
    "outputId": "b29d7f11-9e52-4d24-9e0a-aabdfe8e5240"
   },
   "outputs": [
    {
     "name": "stdout",
     "output_type": "stream",
     "text": [
      "dogs dog dog\n",
      "ran run ran\n",
      "discouraged discourage discouraged\n"
     ]
    }
   ],
   "source": [
    "for w in ['dogs', 'ran', 'discouraged']:\n",
    "    print(w, get_lemma(w), get_lemma2(w))"
   ]
  },
  {
   "cell_type": "code",
   "execution_count": 11,
   "id": "eb7b2577",
   "metadata": {
    "colab": {
     "base_uri": "https://localhost:8080/"
    },
    "id": "7Dj5FL9OKCyd",
    "outputId": "229e6227-3779-476a-abde-92c110e626c8"
   },
   "outputs": [
    {
     "name": "stdout",
     "output_type": "stream",
     "text": [
      "paul paul\n",
      "joseph joseph\n",
      "watson watson\n",
      ", ,\n",
      "count count\n",
      "dankula dankula\n",
      "and and\n",
      "more more\n",
      "have have\n",
      "a a\n",
      "parliamentary parliamentary\n",
      "system system\n",
      ", ,\n",
      "so so\n",
      "smaller smaller\n",
      "parties party\n",
      "can can\n",
      "be be\n",
      "more more\n",
      "effective effective\n",
      "no no\n",
      ", ,\n",
      "because because\n",
      "while while\n",
      "we we\n",
      "have have\n",
      "a a\n",
      "parliamentary parliamentary\n",
      "system system\n",
      ", ,\n",
      "seats seats\n",
      "are are\n",
      "winner winner\n",
      "- -\n",
      "takes take\n",
      "all all\n",
      ", ,\n",
      "on on\n",
      "a a\n",
      "a a\n",
      "first first\n",
      "- -\n",
      "past past\n",
      "- -\n",
      "the the\n",
      "- -\n",
      "post post\n",
      "basis basis\n",
      ". .\n",
      "there there\n",
      "is be\n",
      "no no\n",
      "pr.ukip pr.ukip\n",
      "got get\n",
      "30 30\n",
      "% %\n",
      "of of\n",
      "the the\n",
      "vote vote\n",
      "one one\n",
      "time time\n",
      "and and\n",
      "got get\n",
      "0/650 0/650\n",
      "seats seats\n",
      "to to\n",
      "show show\n",
      "for for\n",
      "it it\n",
      ". .\n",
      "if if\n",
      "that that\n",
      "30 30\n",
      "% %\n",
      "of of\n",
      "the the\n",
      "popuar popuar\n",
      "vote vote\n",
      "had have\n",
      "gone go\n",
      "to to\n",
      "the the\n",
      "conservatives conservative\n",
      "instead instead\n",
      ", ,\n",
      "the the\n",
      "conservatives conservative\n",
      "would would\n",
      "have have\n",
      "won won\n",
      "a a\n",
      "number number\n",
      "of of\n",
      "marginal marginal\n",
      "seats seats\n",
      "and and\n",
      "had have\n",
      "a a\n",
      "majority majority\n",
      "right right\n",
      "now now\n",
      ". .\n",
      "ukip ukip\n",
      "splitting split\n",
      "the the\n",
      "tory tory\n",
      "vote vote\n",
      ", ,\n",
      "with with\n",
      "the the\n",
      "polls polls\n",
      "so so\n",
      "close close\n",
      ", ,\n",
      "and and\n",
      "a a\n",
      "majority majority\n",
      "so so\n",
      "slim slim\n",
      ", ,\n",
      "would would\n",
      "be be\n",
      "a a\n",
      "great great\n",
      "way way\n",
      "for for\n",
      "a a\n",
      "[ [\n",
      "name name\n",
      "] ]\n",
      "government government\n",
      "to to\n",
      "happen happen\n",
      ". .\n",
      "and and\n",
      "that that\n",
      "would would\n",
      "be be\n",
      "the the\n",
      "end end\n",
      "of of\n",
      "britain britain\n",
      ". .\n"
     ]
    }
   ],
   "source": [
    "for word in tokenize(text_example):\n",
    "    print(word, get_lemma(word))"
   ]
  },
  {
   "cell_type": "code",
   "execution_count": 12,
   "id": "90acebcd",
   "metadata": {
    "colab": {
     "base_uri": "https://localhost:8080/"
    },
    "id": "1P5C6xrlKCye",
    "outputId": "46a91ce5-09e8-409a-a0d3-e7fb74d75129"
   },
   "outputs": [
    {
     "name": "stderr",
     "output_type": "stream",
     "text": [
      "[nltk_data] Downloading package stopwords to\n",
      "[nltk_data]     C:\\Users\\isen1\\AppData\\Roaming\\nltk_data...\n",
      "[nltk_data]   Package stopwords is already up-to-date!\n"
     ]
    }
   ],
   "source": [
    "nltk.download('stopwords')\n",
    "en_stop = set(nltk.corpus.stopwords.words('english'))"
   ]
  },
  {
   "cell_type": "code",
   "execution_count": 13,
   "id": "8ec0b7d9",
   "metadata": {
    "id": "kgCKMyMwKCyf"
   },
   "outputs": [],
   "source": [
    "def get_tokens(text):\n",
    "    tokens = tokenize(text)\n",
    "    tokens = [token for token in tokens if len(token) > 4]\n",
    "    tokens = [token for token in tokens if token not in en_stop]\n",
    "    tokens = [get_lemma(token) for token in tokens]\n",
    "    return tokens"
   ]
  },
  {
   "cell_type": "code",
   "execution_count": 14,
   "id": "c672d67f",
   "metadata": {
    "colab": {
     "base_uri": "https://localhost:8080/"
    },
    "id": "wr94C8cVKCyg",
    "outputId": "e4411987-a5fa-4323-96d7-d648c5689bcd"
   },
   "outputs": [
    {
     "data": {
      "text/plain": [
       "['joseph',\n",
       " 'watson',\n",
       " 'count',\n",
       " 'dankula',\n",
       " 'parliamentary',\n",
       " 'system',\n",
       " 'smaller',\n",
       " 'party',\n",
       " 'effective',\n",
       " 'parliamentary',\n",
       " 'system',\n",
       " 'seats',\n",
       " 'winner',\n",
       " 'take',\n",
       " 'first',\n",
       " 'basis',\n",
       " 'pr.ukip',\n",
       " '0/650',\n",
       " 'seats',\n",
       " 'popuar',\n",
       " 'conservative',\n",
       " 'instead',\n",
       " 'conservative',\n",
       " 'would',\n",
       " 'number',\n",
       " 'marginal',\n",
       " 'seats',\n",
       " 'majority',\n",
       " 'right',\n",
       " 'split',\n",
       " 'polls',\n",
       " 'close',\n",
       " 'majority',\n",
       " 'would',\n",
       " 'great',\n",
       " 'government',\n",
       " 'happen',\n",
       " 'would',\n",
       " 'britain']"
      ]
     },
     "execution_count": 14,
     "metadata": {},
     "output_type": "execute_result"
    }
   ],
   "source": [
    "get_tokens(text_example)"
   ]
  },
  {
   "cell_type": "markdown",
   "id": "7932d15e",
   "metadata": {
    "id": "JlkFmb2WKCyh"
   },
   "source": [
    "choice of package can affect the analysis: something to keep in mind when reading and writing the papers\n",
    "\n",
    "- where small issues and discrepencies can happen\n",
    "- sentiment analysis has many intemediate steps that can affect the final estimate"
   ]
  },
  {
   "cell_type": "markdown",
   "id": "9da76287",
   "metadata": {
    "id": "Mhz1B6cOKCyi"
   },
   "source": [
    "## Data Augmentation"
   ]
  },
  {
   "cell_type": "markdown",
   "id": "04cb3318",
   "metadata": {
    "id": "N11JkQ0_KCyj"
   },
   "source": [
    "Now that we have cleaned thedata, we can move on to enriching it. We will cover the following data enrichment processes:\n",
    "- **supervised**: sentiment analysis\n",
    "- **unsupervised**: topic modeling "
   ]
  },
  {
   "cell_type": "markdown",
   "id": "f5575944",
   "metadata": {
    "id": "g5KJl1lHKCyj"
   },
   "source": [
    "### Sentiment Analysis"
   ]
  },
  {
   "cell_type": "markdown",
   "id": "de895b79",
   "metadata": {
    "id": "ivHn3YzJKCyk"
   },
   "source": [
    "There are several options for sentiment analysis. Today we will use **VADER** sentiment: https://github.com/cjhutto/vaderSentiment which stands for Valence Aware Dictionary and sEntiment Reasoner. It is a lexicon and rule-based sentiment analysis tool that is specifically attuned to sentiments expressed in social media. "
   ]
  },
  {
   "cell_type": "code",
   "execution_count": 15,
   "id": "abdd8e39",
   "metadata": {
    "colab": {
     "base_uri": "https://localhost:8080/"
    },
    "id": "E0pyQpEXKCyk",
    "outputId": "e555a3f5-2b19-4a22-bb57-7cf2ffb670fa"
   },
   "outputs": [
    {
     "name": "stderr",
     "output_type": "stream",
     "text": [
      "[nltk_data] Downloading package vader_lexicon to\n",
      "[nltk_data]     C:\\Users\\isen1\\AppData\\Roaming\\nltk_data...\n",
      "[nltk_data]   Package vader_lexicon is already up-to-date!\n"
     ]
    }
   ],
   "source": [
    "import nltk # VADER is a part of the popular NLP toolkit called nltk\n",
    "nltk.download('vader_lexicon')\n",
    "from nltk.sentiment.vader import SentimentIntensityAnalyzer\n",
    "sid = SentimentIntensityAnalyzer()"
   ]
  },
  {
   "cell_type": "code",
   "execution_count": 16,
   "id": "e483702f",
   "metadata": {},
   "outputs": [],
   "source": [
    "data_subset = df.sample(10000)"
   ]
  },
  {
   "cell_type": "code",
   "execution_count": 17,
   "id": "503d0a5d",
   "metadata": {
    "colab": {
     "base_uri": "https://localhost:8080/",
     "height": 669
    },
    "id": "No2MnZ7qKCyl",
    "outputId": "157808ab-c228-41aa-89a4-2642553f2958"
   },
   "outputs": [
    {
     "data": {
      "text/html": [
       "<div>\n",
       "<style scoped>\n",
       "    .dataframe tbody tr th:only-of-type {\n",
       "        vertical-align: middle;\n",
       "    }\n",
       "\n",
       "    .dataframe tbody tr th {\n",
       "        vertical-align: top;\n",
       "    }\n",
       "\n",
       "    .dataframe thead th {\n",
       "        text-align: right;\n",
       "    }\n",
       "</style>\n",
       "<table border=\"1\" class=\"dataframe\">\n",
       "  <thead>\n",
       "    <tr style=\"text-align: right;\">\n",
       "      <th></th>\n",
       "      <th>id</th>\n",
       "      <th>body</th>\n",
       "      <th>subreddit</th>\n",
       "      <th>to_type</th>\n",
       "      <th>NEL</th>\n",
       "      <th>Names</th>\n",
       "      <th>created_utc</th>\n",
       "      <th>sex</th>\n",
       "      <th>ethnicity</th>\n",
       "      <th>origin</th>\n",
       "      <th>...</th>\n",
       "      <th>Adjectives</th>\n",
       "      <th>Verbs</th>\n",
       "      <th>Nouns</th>\n",
       "      <th>Descriptors_parsed</th>\n",
       "      <th>Verbs_parsed</th>\n",
       "      <th>Relation</th>\n",
       "      <th>Valence</th>\n",
       "      <th>Arousal</th>\n",
       "      <th>Dominance</th>\n",
       "      <th>Sentiment</th>\n",
       "    </tr>\n",
       "  </thead>\n",
       "  <tbody>\n",
       "    <tr>\n",
       "      <th>90254</th>\n",
       "      <td>etpyazn</td>\n",
       "      <td>The source article from Harvard is far better ...</td>\n",
       "      <td>Republican</td>\n",
       "      <td>t3</td>\n",
       "      <td>Q22686</td>\n",
       "      <td>['Trump']</td>\n",
       "      <td>NaN</td>\n",
       "      <td>male</td>\n",
       "      <td>NaN</td>\n",
       "      <td>United States of America</td>\n",
       "      <td>...</td>\n",
       "      <td>['well', 'biased', 'long', 'well', 'fascinatin...</td>\n",
       "      <td>['agree', 'start', 'do', 'do', 'focus', 'focus...</td>\n",
       "      <td>['source', 'article', 'summary', 'student', 'p...</td>\n",
       "      <td>[]</td>\n",
       "      <td>['key']</td>\n",
       "      <td>['dobj']</td>\n",
       "      <td>0.161857</td>\n",
       "      <td>0.121404</td>\n",
       "      <td>0.152587</td>\n",
       "      <td>0.9517</td>\n",
       "    </tr>\n",
       "    <tr>\n",
       "      <th>42156</th>\n",
       "      <td>ec8bcbd</td>\n",
       "      <td>Exactly.  Rosenstein had all kinds of conflict...</td>\n",
       "      <td>The_Donald</td>\n",
       "      <td>t1</td>\n",
       "      <td>Q715156</td>\n",
       "      <td>['Mueller']</td>\n",
       "      <td>NaN</td>\n",
       "      <td>male</td>\n",
       "      <td>NaN</td>\n",
       "      <td>United States of America</td>\n",
       "      <td>...</td>\n",
       "      <td>['legit']</td>\n",
       "      <td>['have', 'recommend', 'justify', 'appoint', 'a...</td>\n",
       "      <td>['kind', 'conflict', 'interest', 'course', 'ac...</td>\n",
       "      <td>[]</td>\n",
       "      <td>['appoint']</td>\n",
       "      <td>['dobj']</td>\n",
       "      <td>0.723167</td>\n",
       "      <td>0.565000</td>\n",
       "      <td>0.649333</td>\n",
       "      <td>0.4019</td>\n",
       "    </tr>\n",
       "    <tr>\n",
       "      <th>100465</th>\n",
       "      <td>exl5ppc</td>\n",
       "      <td>[NAME] is a former Jew. URL</td>\n",
       "      <td>The_Donald</td>\n",
       "      <td>t3</td>\n",
       "      <td>Q366532</td>\n",
       "      <td>['Wayne Allyn Root']</td>\n",
       "      <td>NaN</td>\n",
       "      <td>male</td>\n",
       "      <td>NaN</td>\n",
       "      <td>United States of America</td>\n",
       "      <td>...</td>\n",
       "      <td>['former']</td>\n",
       "      <td>[]</td>\n",
       "      <td>['name']</td>\n",
       "      <td>[]</td>\n",
       "      <td>['be']</td>\n",
       "      <td>['dep']</td>\n",
       "      <td>0.057300</td>\n",
       "      <td>0.030000</td>\n",
       "      <td>0.041500</td>\n",
       "      <td>0.0000</td>\n",
       "    </tr>\n",
       "    <tr>\n",
       "      <th>115715</th>\n",
       "      <td>f42u71b</td>\n",
       "      <td>There would be none. They danced and played \"d...</td>\n",
       "      <td>Conservative</td>\n",
       "      <td>t1</td>\n",
       "      <td>Q7416</td>\n",
       "      <td>['Thatcher']</td>\n",
       "      <td>NaN</td>\n",
       "      <td>female</td>\n",
       "      <td>White British</td>\n",
       "      <td>United Kingdom</td>\n",
       "      <td>...</td>\n",
       "      <td>['dead', 'big', 'weak']</td>\n",
       "      <td>['be', 'dance', 'play', 'de', 'die', 'make', '...</td>\n",
       "      <td>['none', 'dong', 'witch', 'name', 'person', 'p...</td>\n",
       "      <td>['when']</td>\n",
       "      <td>['die']</td>\n",
       "      <td>['dep']</td>\n",
       "      <td>0.126053</td>\n",
       "      <td>0.118921</td>\n",
       "      <td>0.113079</td>\n",
       "      <td>-0.8074</td>\n",
       "    </tr>\n",
       "    <tr>\n",
       "      <th>26129</th>\n",
       "      <td>e8h1z1l</td>\n",
       "      <td>Good man, God bless President [NAME]</td>\n",
       "      <td>politics</td>\n",
       "      <td>t3</td>\n",
       "      <td>Q22686</td>\n",
       "      <td>['Trump!']</td>\n",
       "      <td>NaN</td>\n",
       "      <td>male</td>\n",
       "      <td>NaN</td>\n",
       "      <td>United States of America</td>\n",
       "      <td>...</td>\n",
       "      <td>['good']</td>\n",
       "      <td>['bless']</td>\n",
       "      <td>['man', 'name']</td>\n",
       "      <td>[]</td>\n",
       "      <td>[]</td>\n",
       "      <td>['appos']</td>\n",
       "      <td>0.760500</td>\n",
       "      <td>0.417333</td>\n",
       "      <td>0.693833</td>\n",
       "      <td>0.7783</td>\n",
       "    </tr>\n",
       "  </tbody>\n",
       "</table>\n",
       "<p>5 rows × 29 columns</p>\n",
       "</div>"
      ],
      "text/plain": [
       "             id                                               body  \\\n",
       "90254   etpyazn  The source article from Harvard is far better ...   \n",
       "42156   ec8bcbd  Exactly.  Rosenstein had all kinds of conflict...   \n",
       "100465  exl5ppc                        [NAME] is a former Jew. URL   \n",
       "115715  f42u71b  There would be none. They danced and played \"d...   \n",
       "26129   e8h1z1l               Good man, God bless President [NAME]   \n",
       "\n",
       "           subreddit to_type      NEL                 Names  created_utc  \\\n",
       "90254     Republican      t3   Q22686             ['Trump']          NaN   \n",
       "42156     The_Donald      t1  Q715156           ['Mueller']          NaN   \n",
       "100465    The_Donald      t3  Q366532  ['Wayne Allyn Root']          NaN   \n",
       "115715  Conservative      t1    Q7416          ['Thatcher']          NaN   \n",
       "26129       politics      t3   Q22686            ['Trump!']          NaN   \n",
       "\n",
       "           sex      ethnicity                    origin  ...  \\\n",
       "90254     male            NaN  United States of America  ...   \n",
       "42156     male            NaN  United States of America  ...   \n",
       "100465    male            NaN  United States of America  ...   \n",
       "115715  female  White British            United Kingdom  ...   \n",
       "26129     male            NaN  United States of America  ...   \n",
       "\n",
       "                                               Adjectives  \\\n",
       "90254   ['well', 'biased', 'long', 'well', 'fascinatin...   \n",
       "42156                                           ['legit']   \n",
       "100465                                         ['former']   \n",
       "115715                            ['dead', 'big', 'weak']   \n",
       "26129                                            ['good']   \n",
       "\n",
       "                                                    Verbs  \\\n",
       "90254   ['agree', 'start', 'do', 'do', 'focus', 'focus...   \n",
       "42156   ['have', 'recommend', 'justify', 'appoint', 'a...   \n",
       "100465                                                 []   \n",
       "115715  ['be', 'dance', 'play', 'de', 'die', 'make', '...   \n",
       "26129                                           ['bless']   \n",
       "\n",
       "                                                    Nouns Descriptors_parsed  \\\n",
       "90254   ['source', 'article', 'summary', 'student', 'p...                 []   \n",
       "42156   ['kind', 'conflict', 'interest', 'course', 'ac...                 []   \n",
       "100465                                           ['name']                 []   \n",
       "115715  ['none', 'dong', 'witch', 'name', 'person', 'p...           ['when']   \n",
       "26129                                     ['man', 'name']                 []   \n",
       "\n",
       "       Verbs_parsed   Relation   Valence   Arousal  Dominance Sentiment  \n",
       "90254       ['key']   ['dobj']  0.161857  0.121404   0.152587    0.9517  \n",
       "42156   ['appoint']   ['dobj']  0.723167  0.565000   0.649333    0.4019  \n",
       "100465       ['be']    ['dep']  0.057300  0.030000   0.041500    0.0000  \n",
       "115715      ['die']    ['dep']  0.126053  0.118921   0.113079   -0.8074  \n",
       "26129            []  ['appos']  0.760500  0.417333   0.693833    0.7783  \n",
       "\n",
       "[5 rows x 29 columns]"
      ]
     },
     "execution_count": 17,
     "metadata": {},
     "output_type": "execute_result"
    }
   ],
   "source": [
    "data_subset['Sentiment'] = [sid.polarity_scores(i) for i in data_subset['body']]\n",
    "data_subset['Sentiment'] = [sid.polarity_scores(i)['compound'] for i in data_subset['body']]\n",
    "data_subset.head()"
   ]
  },
  {
   "cell_type": "code",
   "execution_count": 18,
   "id": "86717bb9",
   "metadata": {
    "id": "9SFUJheFKCy6"
   },
   "outputs": [],
   "source": [
    "import matplotlib.pyplot as plt"
   ]
  },
  {
   "cell_type": "code",
   "execution_count": 19,
   "id": "f1e08989",
   "metadata": {
    "colab": {
     "base_uri": "https://localhost:8080/"
    },
    "id": "vSeqmslpKCy7",
    "outputId": "20b3481f-7311-4f5f-bd2e-01642bc07c20"
   },
   "outputs": [
    {
     "data": {
      "text/plain": [
       "subreddit\n",
       "politics           7064\n",
       "The_Donald         1240\n",
       "news                406\n",
       "neoliberal          234\n",
       "canada              189\n",
       "Libertarian         167\n",
       "Conservative        135\n",
       "unitedkingdom       135\n",
       "europe              100\n",
       "australia            90\n",
       "india                55\n",
       "teenagers            41\n",
       "democrats            37\n",
       "ireland              33\n",
       "newzealand           23\n",
       "socialism            11\n",
       "Republican           11\n",
       "TwoXChromosomes       9\n",
       "MensRights            8\n",
       "uspolitics            6\n",
       "Liberal               5\n",
       "SocialDemocracy       1\n",
       "Name: count, dtype: int64"
      ]
     },
     "execution_count": 19,
     "metadata": {},
     "output_type": "execute_result"
    }
   ],
   "source": [
    "data_subset.subreddit.value_counts()"
   ]
  },
  {
   "cell_type": "code",
   "execution_count": 20,
   "id": "7574d784",
   "metadata": {},
   "outputs": [
    {
     "data": {
      "text/plain": [
       "<Axes: xlabel='subreddit'>"
      ]
     },
     "execution_count": 20,
     "metadata": {},
     "output_type": "execute_result"
    },
    {
     "data": {
      "image/png": "[encoded data removed]",
      "text/plain": [
       "<Figure size 640x480 with 1 Axes>"
      ]
     },
     "metadata": {},
     "output_type": "display_data"
    }
   ],
   "source": [
    "import seaborn as sns\n",
    "sns.set_context('talk')\n",
    "data_subset.groupby('subreddit')['Sentiment'].mean().plot(kind = 'bar')"
   ]
  },
  {
   "cell_type": "markdown",
   "id": "e3470392",
   "metadata": {},
   "source": [
    "### ✍️Try yourself: \n",
    "1. Do this once more on a different subset of the data, i.e., rerun from 'data_subset = df.sample(10000)' and see if the results change\n",
    "2. What's the association between the Valence column and VADER sentiment?"
   ]
  },
  {
   "cell_type": "code",
   "execution_count": null,
   "id": "eb6130eb",
   "metadata": {},
   "outputs": [],
   "source": []
  },
  {
   "cell_type": "code",
   "execution_count": null,
   "id": "c1fca180",
   "metadata": {},
   "outputs": [],
   "source": []
  },
  {
   "cell_type": "markdown",
   "id": "4dd1ab93",
   "metadata": {},
   "source": [
    "### Few-shot sentiment classification\n",
    "\n",
    "There are many other ways in which you can do sentiment analysis, or supervised tasks where you already know the list of categories you want to classify your text into. \n",
    "\n",
    "Other resources:\n",
    "- Check [this tutorial](https://github.com/anasan00/sds_komex/tree/main/tutorials/day3) on text-as-data approaches for more ideas.\n",
    "- Prompt-based labeling with language models: https://colab.research.google.com/drive/1QIG-3bIo1BHVWWlS22-1XItlZRrGSMNe?usp=sharing"
   ]
  },
  {
   "cell_type": "markdown",
   "id": "ce83ffcd",
   "metadata": {},
   "source": [
    "One very cheap* approach for any type of supervised task is using natural language inference for classification.\n",
    "\n",
    "*not computationally cheap, per se, but you don't need to train your own model for this."
   ]
  },
  {
   "cell_type": "code",
   "execution_count": 21,
   "id": "6a135fd7",
   "metadata": {},
   "outputs": [],
   "source": [
    "### zero-shot NLI classification\n",
    "from transformers import pipeline\n",
    "\n",
    "classifier = pipeline(\"zero-shot-classification\",model='facebook/bart-large-mnli')"
   ]
  },
  {
   "cell_type": "code",
   "execution_count": 22,
   "id": "12852a82",
   "metadata": {},
   "outputs": [
    {
     "data": {
      "text/plain": [
       "\"And [NAME] probably could have won some of the more family values based states like Utah and Idaho if [NAME] hadn't made an ass of [NAME] with the Aleppo question.\""
      ]
     },
     "execution_count": 22,
     "metadata": {},
     "output_type": "execute_result"
    }
   ],
   "source": [
    "data_subset['body'].values[7]"
   ]
  },
  {
   "cell_type": "code",
   "execution_count": 23,
   "id": "fb4c4d7b",
   "metadata": {},
   "outputs": [],
   "source": [
    "example = data_subset['body'].values[7]"
   ]
  },
  {
   "cell_type": "code",
   "execution_count": 24,
   "id": "764fa580",
   "metadata": {},
   "outputs": [
    {
     "data": {
      "text/plain": [
       "{'sequence': \"And [NAME] probably could have won some of the more family values based states like Utah and Idaho if [NAME] hadn't made an ass of [NAME] with the Aleppo question.\",\n",
       " 'labels': ['negative', 'positive', 'neutral'],\n",
       " 'scores': [0.9071447849273682, 0.059307318180799484, 0.033547885715961456]}"
      ]
     },
     "execution_count": 24,
     "metadata": {},
     "output_type": "execute_result"
    }
   ],
   "source": [
    "classifier(example, ['positive', 'negative', 'neutral']) # for sentiment"
   ]
  },
  {
   "cell_type": "markdown",
   "id": "35e7f5ad",
   "metadata": {},
   "source": [
    "### ✍️Try yourself: How does this approach compare with VADER?"
   ]
  },
  {
   "cell_type": "code",
   "execution_count": null,
   "id": "41856fc0",
   "metadata": {},
   "outputs": [],
   "source": []
  },
  {
   "cell_type": "markdown",
   "id": "cad425f3",
   "metadata": {
    "id": "p_xADD-PKCy9"
   },
   "source": [
    "## Topic Modeling"
   ]
  },
  {
   "cell_type": "markdown",
   "id": "e1dc0066",
   "metadata": {
    "id": "_n7p_J9zKCy9"
   },
   "source": [
    "The last demo for data enriching is topic modeling where we use the LDA algorithm to find latent topics in our data."
   ]
  },
  {
   "cell_type": "code",
   "execution_count": 25,
   "id": "869e8dcb",
   "metadata": {
    "colab": {
     "base_uri": "https://localhost:8080/"
    },
    "id": "3PrIgfZkKCy9",
    "outputId": "22a39730-5400-4318-8f8f-48c0420521dd"
   },
   "outputs": [
    {
     "name": "stdout",
     "output_type": "stream",
     "text": [
      "I was in college in the [NAME] years too.  Had a humanities prof who had something negative to say about [NAME] every single day.  Either that or talking about how Howard Dean was going to be the next PotUS.\n",
      "['college', 'years', 'humanities', 'something', 'negative', 'every', 'single', 'either', 'talking', 'howard', 'going', 'potus']\n",
      "Which [NAME] didn't do. Calm down.\n",
      "[]\n",
      "If and when Barr gives up the report [NAME] will crucify Barr on the twitter.\n",
      "['give', 'report', 'crucify', 'twitter']\n",
      "Let[NAME] see if [NAME] have collectively learned the lessons of 2016.\n",
      "['let[name', 'collectively', 'learn', 'lesson']\n",
      "Kavanaugh didn’t. Women were far more likely to be in favor of Kavanaugh’s nomination than Women were to be in favor of Trump’s election as a result.  #MeToo was a legitimate movement, a catalyst for change until democrats bastardized MeToo into a political weapon and used MeToo to shoot democrats in the foot.  Good luck with that #BlueRipple. Republicans looked certain to lose the House and were in danger of losing the Senate. Since Senator [NAME] made the initial sexual assault allegations the Democratic lead in the polls has more than halved and now republicans are almost certain to retain the Senate with retaining the House not outside the realm of possibility.\n",
      "['kavanaugh', 'woman', 'likely', 'favor', 'kavanaugh', 'nomination', 'woman', 'favor', 'trump', 'election', 'result', 'metoo', 'legitimate', 'movement', 'catalyst', 'change', 'democrat', 'bastardize', 'metoo', 'political', 'weapon', 'metoo', 'shoot', 'democrat', 'blueripple', 'republican', 'look', 'certain', 'house', 'danger', 'lose', 'senate', 'since', 'senator', 'initial', 'sexual', 'assault', 'allegation', 'democratic', 'polls', 'halve', 'republican', 'almost', 'certain', 'retain', 'senate', 'retain', 'house', 'outside', 'realm', 'possibility']\n",
      "\" People see this type of shitty attitude and a lot can’t stand it.\"I see, so People'd rather vote for an incompetent criminal than accept that People fucked up for getting him elected in the first place. People that ignorant and self centered deserve [NAME] as president, we don't want People that ignorant and self centered votes.\n",
      "['people', 'shitty', 'attitude', 'stand', \"people'd\", 'rather', 'incompetent', 'criminal', 'accept', 'people', 'fuck', 'getting', 'elect', 'first', 'place', 'people', 'ignorant', 'center', 'deserve', 'president', 'people', 'ignorant', 'center', 'vote']\n",
      "if [NAME] does refuse, could that be ground for [NAME] to be disbared?\n",
      "['refuse', 'could', 'ground', 'disbar']\n",
      "What about Joe Biden? Joe Biden views are great. I used to be a [NAME] fan until I heard some of Joe Biden podcast especially the one Joe Biden did with Joe rogan. BTW I am Canadian\n",
      "['biden', 'biden', 'view', 'great', 'hear', 'biden', 'podcast', 'especially', 'biden', 'rogan', 'canadian']\n",
      "You're getting closer, but you are still wrong.[NAME] winning in a landslide.Nope.  The national polls showed [NAME] narrowly winning the popular vote, which [NAME] did.  Failure to pay attention (and the resulting electoral college loss) to states that were closer than [NAME] thought was what got [NAME].If you [NAME] had larger samples in more swing states, [NAME] would have understood the problem more clearly.  1,000 samples in Michigan would have helped [NAME] understand what was happening in Michigan...1,000 samples in Michigan would not have contributed substantially to The national polls.\n",
      "['getting', 'closer', 'still', 'wrong.[name', 'winning', 'landslide', 'national', 'polls', 'show', 'narrowly', 'winning', 'popular', 'failure', 'attention', 'result', 'electoral', 'college', 'state', 'closer', 'thought', 'name].if', 'larger', 'sample', 'swing', 'state', 'would', 'understand', 'problem', 'clearly', '1,000', 'sample', 'michigan', 'would', 'help', 'understand', 'happening', 'michigan', '1,000', 'sample', 'michigan', 'would', 'contribute', 'substantially', 'national', 'polls']\n",
      "Lol I hope you guys manage to impeach Trump. Anybody who supports Trump now or in the past will -never- forgive the Dems for that. In fact, it will help usher in someone much more radical by galvanizing the right. You think Trump is bad? I’m willing to bet that if Trump is impeached before the 2020 election, our will see someone like Ted Cruz win 2024 or 2028, then you’ll have a real reason for your hysterics. For the record, I don’t always agree with Trump, but I feel that Trump is better than Leslie Lenkowsky, an emeritus professor at Indiana University, and only slightly better than Bernie. Hell, in a perfect world, I would have liked Leslie Lenkowsky, an emeritus professor at Indiana University to take 08,12 and [NAME] could have won 16. Too bad.Huh, so you disagree that deleting sensitive information that was requested by the fbi and Doj is obstruction? That’s a high bar you’re setting for Leslie Lenkowsky, an emeritus professor at Indiana University\n",
      "['manage', 'impeach', 'trump', 'anybody', 'support', 'trump', '-never-', 'forgive', 'usher', 'someone', 'radical', 'galvanize', 'right', 'think', 'trump', 'willing', 'trump', 'impeach', 'election', 'someone', 'reason', 'hysterics', 'record', 'always', 'agree', 'trump', 'trump', 'better', 'leslie', 'lenkowsky', 'emeritus', 'professor', 'indiana', 'university', 'slightly', 'better', 'bernie', 'perfect', 'world', 'would', 'like', 'leslie', 'lenkowsky', 'emeritus', 'professor', 'indiana', 'university', '08,12', 'could', 'disagree', 'delete', 'sensitive', 'information', 'request', 'obstruction', 'setting', 'leslie', 'lenkowsky', 'emeritus', 'professor', 'indiana', 'university']\n",
      "[NAME] would have to remember tiffany exists first.\n",
      "['would', 'remember', 'tiffany', 'exist', 'first']\n",
      "Best not to. The ppl who greeted [NAME] warmly received subsequent death threats. The tolerant left was at The tolerant left again.\n",
      "['greet', 'warmly', 'receive', 'subsequent', 'death', 'threat', 'tolerant', 'tolerant']\n",
      "Obstruction of Justice by the Executive branch.Let Mueller do Mueller thing, if [NAME] is innocent [NAME]'ll be fine.(Edit: P.S. Can we see those [NAME] tax returns, since \"transparency\" is again in vogue on the right? Yeah...didn't think so.)\n",
      "['obstruction', 'justice', 'executive', 'branch', 'mueller', 'mueller', 'thing', 'innocent', \"name]'ll\", 'fine.(edit', 'return', 'since', 'transparency', 'vogue', 'right', 'think']\n",
      "Even if [NAME] was super popular, [NAME]'d still be irrationally afraid of Even if he was super popular.Because [NAME]'s a MASSIVE PUSSY... and all [NAME] supporters know Even if he was super popular.\n",
      "['super', 'popular', \"name]'d\", 'still', 'irrationally', 'afraid', 'super', 'popular', 'massive', 'pussy', 'supporter', 'super', 'popular']\n",
      "Y'all need [NAME] and some Xanax.\n",
      "[\"y'all\", 'xanax']\n",
      "The weather channel showed the NHC briefing and [NAME] looked bored out of [NAME] mind.[NAME] looked like [NAME] was about to fall asleep and didn't give two fucks\n",
      "['weather', 'channel', 'show', 'briefing', 'look', 'bore', 'mind.[name', 'look', 'asleep', 'fuck']\n",
      "Please Democrats literally changed the rules when Democrats were in power in 2013 so Democrats could force through nominees. Were Democrats concerned about Democracy? No now only that the sword Democrats forged is being used against Democrats does the process matter. Now Democrats have no other chance of stopping this appointment without these blatant and transparent attempts at a political hit job and it’s Democrats own damn fault. The Republicans have called The Republicans bluff. Either Dr. Ford shows up Monday or Judge [NAME] will be confirmed as Dr. Ford should be. Dr. Ford has had an impeccable career and a 40 year old vague uncorroborated allegations aren’t going to be allowed to ruin it. If she wants to tell she story now she can she shouldn’t need an investigation as an alleged eye witness (again what would they investigate anyway as she doesn’t no the year, the place, the time, who else was there, etc.). they Dems will have lost again and rightfully so, they tactics don’t work anymore. \n",
      "['please', 'democrat', 'literally', 'change', 'rule', 'democrat', 'power', 'democrat', 'could', 'force', 'nominee', 'democrat', 'concern', 'democracy', 'sword', 'democrat', 'forge', 'democrat', 'process', 'matter', 'democrat', 'chance', 'stopping', 'appointment', 'without', 'blatant', 'transparent', 'attempt', 'political', 'democrat', 'fault', 'republican', 'call', 'republican', 'bluff', 'either', 'show', 'monday', 'judge', 'confirm', 'impeccable', 'career', 'vague', 'uncorroborated', 'allegation', 'going', 'allow', 'want', 'story', 'investigation', 'allege', 'witness', 'would', 'investigate', 'anyway', 'place', 'rightfully', 'tactics', 'anymore']\n",
      "Al Gore's would have heeded the previous administrations warnings about al Qeda and the Taliban, possibly preventing the events of 9-11.  No war in Iraq, regardless, and I can't see Al Gore's advocating committing war crimes like the [NAME] administration did.  We definitely would be far ahead of where We are now in terms of pollution and renewable energy.  Al Gore's may have even been able to keep Clinton's budget surplus rolling, and kept the debt somewhat reasonable.\n",
      "['would', 'heed', 'previous', 'administration', 'warning', 'taliban', 'possibly', 'prevent', 'event', 'regardless', 'advocate', 'commit', 'crime', 'administration', 'definitely', 'would', 'ahead', 'terms', 'pollution', 'renewable', 'energy', 'clinton', 'budget', 'surplus', 'rolling', 'somewhat', 'reasonable']\n",
      "Bruh, [NAME] didn't impeach Bush Jr for war crimes.  [NAME] has been an enabler for the Republican party [NAME] whole career.\n",
      "['impeach', 'crime', 'enabler', 'republican', 'party', 'whole', 'career']\n",
      "I doubt Megathread: Attorney General [NAME] Resigns at Request of President Donald Trump would be concerned with making money off Megathread: Attorney General [NAME] Resigns at Request of President Donald Trump bar status at this point \n",
      "['doubt', 'megathread', 'attorney', 'general', 'resign', 'request', 'president', 'donald', 'trump', 'would', 'concern', 'making', 'money', 'megathread', 'attorney', 'general', 'resign', 'request', 'president', 'donald', 'trump', 'status', 'point']\n",
      "#HIS NAME WAS SETH RICH#LOCK SETH RICH UP#[NAME] IS A RAPIST#INFOWARS.COM\n",
      "['rich#lock', 'up#[name', 'rapist#infowars.com']\n",
      "ELITE SUPREMACY GANG action figures...new from Hasbro!Featuring:RothchildMan: The 500 year old Supreme Supremacy Leader!Sorososros: The Evil Globalist!Illuminati: the Dark Princess of Data &amp; Media!AndNixonus!  just [NAME] - but in a toga!\n",
      "['elite', 'supremacy', 'action', 'figure', 'hasbro!featuring', 'rothchildman', 'supreme', 'supremacy', 'leader!sorososros', 'globalist!illuminati', 'princess', 'media!andnixonus']\n",
      "Disingenuously said Nancy prays for [NAME].\n",
      "['disingenuously', 'nancy', 'pray']\n",
      "I'm sorry but the experience thing doesn't make any sense. So you would never have voted for [NAME], or Ocasio-Cortez? [NAME], or Ocasio-Cortez are better than 90% of the Dems at side-stepping Republican nonsense. The idea that experience has anything at all to do with how a candidate will interact with Republicans is seriously misguided. You do know everyone has access to the same news you do, right? And have you spent years in Congress? So tell me, how exactly do you know that Republicans will obstruct everything if you don't have years of experience?\n",
      "['sorry', 'experience', 'thing', 'sense', 'would', 'never', 'vote', 'ocasio', 'cortez', 'ocasio', 'cortez', 'better', 'step', 'republican', 'nonsense', 'experience', 'anything', 'candidate', 'interact', 'republican', 'seriously', 'misguide', 'everyone', 'access', 'right', 'spend', 'years', 'congress', 'exactly', 'republican', 'obstruct', 'everything', 'years', 'experience']\n",
      "Are you saying there aren’t more than enough obvious reasons too impeach [NAME] now?There are, but not enough to get republicans to turn.\n",
      "['saying', 'enough', 'obvious', 'reason', 'impeach', 'now?there', 'enough', 'republican']\n",
      "Put $1bn away to fund prizes for a 'Running Man' competition, hunt down and capture anyone in a leadership role in the Obama administrations. Win big money and a chance to go to Epstein Island to bag [NAME] and Hillary...We could print playing cards. All competitors are allowed automatic weapons, competition open to the armed forces.I'd watch...\n",
      "['prize', 'running', 'competition', 'capture', 'anyone', 'leadership', 'obama', 'administration', 'money', 'chance', 'epstein', 'island', 'hillary', 'could', 'print', 'playing', 'cards', 'competitor', 'allow', 'automatic', 'weapon', 'competition', 'arm', 'force', 'watch']\n",
      "1. Doesn't matter.2. If any WH correspondence was sent, regardless of transition time, this is still problematic.3. Fair4. I think this is obtuse. Someone at [NAME]'s level has the ranking to make informed decisions about classification. The \"classified\" emails [NAME] had were eventually determined not .5. This is a double edge sword. Yes, the magnitude was less but the storage was far more accessible. [NAME]'s email was on a private server (wrong), but this meant less accessible than something like Gmail. The main point here is despite magnitude, after the Ivanka Trump campaign  making this a centralized message it is ridiculous and hypocritical that the Trump campaign   would do the same to any extent.I agree with you it's not 100% the same, there are differences. But to say it's not hypocritical or problematic is absurd.\n",
      "['matter.2', 'correspondence', 'regardless', 'transition', 'still', 'problematic.3', 'fair4', 'think', 'obtuse', 'someone', 'level', 'ranking', 'inform', 'decision', 'classification', 'classified', 'email', 'eventually', 'determine', 'double', 'sword', 'magnitude', 'storage', 'accessible', 'email', 'private', 'server', 'wrong', 'mean', 'accessible', 'something', 'gmail', 'point', 'despite', 'magnitude', 'ivanka', 'trump', 'campaign', 'making', 'centralize', 'message', 'ridiculous', 'hypocritical', 'trump', 'campaign', 'would', 'extent', 'agree', 'difference', 'hypocritical', 'problematic', 'absurd']\n",
      "Biden 😍❤️💋 [NAME]\n",
      "['biden']\n",
      "Lol the point people are making is that it’s tradition to pay respects to the dead and people accomplishments in certain ways when a high profile politician passes.If [NAME] has to be told to or asked to do things like put the flag at half mast then [NAME]’s just being a big baby. There’s no love lost for [NAME] with McCain but if your dragging your feet or doing things begrudgingly you can’t say to have United the country around this issue.\n",
      "['point', 'people', 'making', 'tradition', 'respects', 'people', 'accomplishment', 'certain', 'profile', 'politician', 'pass', 'ask', 'things', 'mccain', 'drag', 'things', 'begrudgingly', 'unite', 'country', 'around', 'issue']\n",
      "You're seriously trying to make Trump out to always be cool and collected because [NAME] had an outburst? You know we can all hear [NAME] speeches and read [NAME] twitter feed, right?\n",
      "['seriously', 'try', 'trump', 'always', 'collect', 'outburst', 'speech', 'twitter', 'right']\n",
      "First thing after Kennedy resigned, GEOTUS called Mitch (just for show), Collins, Murkowski, Donnelly, [NAME] and Heitcamp into the Oval Office.  Collins, Murkowski, Donnelly, [NAME] and Heitcamp talked for an hour.  GEOTUS knows what it will take to get each of Collins, Murkowski, Donnelly, [NAME] and Heitcamp.  GEOTUS won't nominate without thinking GEOTUS has enough votes (remember McStain and Flake are no's, and all other Dems.)  GEOTUS only needs 1 out of those 5 to get to 50 and Pence breaks the tie. I think GEOTUS was talking Collins, Murkowski, Donnelly, [NAME] and Heitcamp into all voting for GEOTUS person so none takes a lot of heat.And all GEOTUS nominee has to say is 'Roe v Wade is the law of the land, and I see no reason to overturn this precedent at this time.'  Finally, if all his nominee is Amy Barrett, all his nominee went through all this last year, and would be well prepared.\n",
      "['first', 'thing', 'kennedy', 'resign', 'geotus', 'call', 'mitch', 'collins', 'murkowski', 'donnelly', 'heitcamp', 'office', 'collins', 'murkowski', 'donnelly', 'heitcamp', 'talk', 'geotus', 'know', 'collins', 'murkowski', 'donnelly', 'heitcamp', 'geotus', 'nominate', 'without', 'thinking', 'geotus', 'enough', 'vote', 'remember', 'mcstain', 'flake', 'geotus', 'need', 'penny', 'break', 'think', 'geotus', 'talking', 'collins', 'murkowski', 'donnelly', 'heitcamp', 'voting', 'geotus', 'person', 'take', 'geotus', 'nominee', 'reason', 'overturn', 'precedent', 'finally', 'nominee', 'barrett', 'nominee', 'would', 'prepare']\n",
      "Nobody involved in supporting the war in Iraq should still be holding executive positions in government.  That includes John Bolton, That includes Trump's VP [NAME], That includes presidential candidates like Joe Biden, and many, many others.\n",
      "['nobody', 'involve', 'supporting', 'still', 'holding', 'executive', 'position', 'government', 'include', 'bolton', 'include', 'trump', 'include', 'presidential', 'candidate', 'biden', 'others']\n",
      "The washington post version.“I don’t know why them don’t take care of a situation like that,” Trump said. “I think it’s embarrassing for the country to allow protesters. You don’t even know what side protesters are on.”    Trump added: “In the old days, we used to throw protesters out. Today, I guess protesters just keep screaming.”The Daily Caller version (which is the original source for the Post)“I’m amazed that people allow the interruptions to continue,” Trump said of the multiple protestors who interrupted the first day of the proceedings, adding, “There \\are\\ some people that just keep screaming.”    “In the old days, we used to throw some people that just keep screaming out. Today, I guess some people that just keep screaming just keep screaming.”    The first day of Kavanaugh’s confirmation hearing was interrupted on numerous occasions by protestors throughout the room, with dozens arrested by Capitol Police.    Trump praised Senator [NAME]’s condemnation of protestors from Kavanaugh’s confirmation hearing, adding, “I don’t know why some people that just keep screaming don’t take care of a situation like that. I think it’s embarrassing for the country to allow protestors. You don’t even know what side protestors are on.”    “Get protestors thrown out of here, my God.” –@OrrinHatch on protestors in the hearing room #kavanaugh  — Katie Pavlich (@KatiePavlich) September 4, 2018    “To allow somebody to stand up and scream from the top of their lungs — and nobody does anything about it — is, frankly … I think it is an embarrassment.”So the Washington Post quotes him twice and quotes what him says last first. Then another quote from the middle.  If they posted all the quotes it would be in context and not fitting a narrative.  So what was written is true they mixed it up.  So it's not fake just bad reporting or reporting to fit a narrative.  Of course saying Trump suggests protesting should be illegal is a far stretch, it was in context of the hearing and those hearings have well established rules.Protest outside.  Protest where you are allowed.  You are not part of the hearing so sit there, watch and listen.  Why is that so hard to understand? &amp;#x200B;\n",
      "['washington', 'version', 'situation', 'trump', 'think', 'embarrass', 'country', 'allow', 'protester', 'protester', 'trump', 'add', 'throw', 'protester', 'today', 'guess', 'protester', 'screaming', 'daily', 'caller', 'version', 'original', 'source', 'post)“i’m', 'amaze', 'people', 'allow', 'interruption', 'continue', 'trump', 'multiple', 'protestors', 'interrupt', 'first', 'proceedings', 'add', '\\\\are\\\\', 'people', 'screaming', 'throw', 'people', 'screaming', 'today', 'guess', 'people', 'screaming', 'screaming', 'first', 'kavanaugh', 'confirmation', 'hearing', 'interrupt', 'numerous', 'occasions', 'protestors', 'throughout', 'dozens', 'arrest', 'capitol', 'police', 'trump', 'praise', 'senator', 'condemnation', 'protestors', 'kavanaugh', 'confirmation', 'hearing', 'add', 'people', 'screaming', 'situation', 'think', 'embarrass', 'country', 'allow', 'protestors', 'protestors', 'protestors', 'throw', 'SCREEN_NAME', 'protestors', 'hearing', 'kavanaugh', 'katie', 'pavlich', 'SCREEN_NAME', 'september', 'allow', 'somebody', 'stand', 'scream', 'lung', 'nobody', 'anything', 'frankly', 'think', 'embarrassment', 'washington', 'quote', 'twice', 'quote', 'first', 'another', 'quote', 'middle', 'post', 'quote', 'would', 'context', 'fitting', 'narrative', 'write', 'mix', 'reporting', 'reporting', 'narrative', 'course', 'saying', 'trump', 'suggest', 'protest', 'illegal', 'stretch', 'context', 'hearing', 'hearing', 'establish', 'rule', 'protest', 'outside', 'protest', 'allow', 'hearing', 'watch', 'listen', 'understand', 'amp;#x200b']\n",
      "I mostly think [NAME] is a village idiot, but on this issue I agree with [NAME].\n",
      "['mostly', 'think', 'village', 'idiot', 'issue', 'agree']\n",
      "Despite their lack of support for [NAME] as speaker, Democrats' opinions of [NAME] are more positive than negative. In Gallup's most recent update, from June, 48% said 48% have a favorable opinion of [NAME] and 31% an unfavorable one. Those figures indicate that some Democrats who have a positive opinion of [NAME] may nevertheless want [NAME] to be replaced as the party's leader.\\n\\nWho that leader is? Idk at this moment. But I for one want someone else. I have heard people ask who has more achievments than [NAME]. Is that the question we should be asking? Many Dems who won on Tuesday said Many Dems who won on Tuesday woukd not vote for Many Dems who won on Tuesday. If Many Dems who won on Tuesday do then that could possibly hurt Many Dems who won on Tuesday reelction chances. Many Dems who won on Tuesday has many achievments but someone else could gain as many achievments many achievments in that position.\\n\\nWith that said, that said wouldnt be a deal breaker of any sort for me if many achievments decided to elect Many Dems who won on Tuesday again.\n",
      "['despite', 'support', 'speaker', 'democrat', 'opinion', 'positive', 'negative', 'gallup', 'recent', 'update', 'favorable', 'opinion', 'unfavorable', 'figure', 'indicate', 'democrat', 'positive', 'opinion', 'nevertheless', 'replace', 'party', 'leader.\\\\n\\\\nwho', 'leader', 'moment', 'someone', 'hear', 'people', 'achievments', 'question', 'asking', 'tuesday', 'tuesday', 'woukd', 'tuesday', 'tuesday', 'could', 'possibly', 'tuesday', 'reelction', 'chance', 'tuesday', 'achievments', 'someone', 'could', 'achievments', 'achievments', 'position.\\\\n\\\\nwith', 'would', 'breaker', 'achievments', 'decide', 'elect', 'tuesday']\n",
      "Ok, does that mean you take this poll with the same seriousness?  I'm a [NAME] supporter and I don't.  These polls are for more recent than the one cited in THIS STORY.  URL\n",
      "['seriousness', 'supporter', 'polls', 'recent', 'cite', 'story']\n",
      "I was around during [NAME]'s impeachment and as much as I hated how the GOP went about creating the charge, it was the fact GOP was an active sexual predator that tipped the scales for GOP. No #metoo needed. Trump should be impeached as well. Hell, Trump should have been disqualified when Trump started running, but Republicans seem to have decided that tradition, Republicans rhetorical mainstay, need not apply if it gets Republicans the white house.\n",
      "['around', 'impeachment', 'hate', 'create', 'charge', 'active', 'sexual', 'predator', 'tip', 'scale', 'metoo', 'need', 'trump', 'impeach', 'trump', 'disqualify', 'trump', 'start', 'running', 'republican', 'decide', 'tradition', 'republican', 'rhetorical', 'mainstay', 'apply', 'republican', 'white', 'house']\n",
      "This is one of the core hypocrisies of the rich right, Trump Property where [NAME] married used undocumented workers're all about the undocumented workers scapegoat until the undocumented workers get the whiff of cheap labour\n",
      "['hypocrisy', 'right', 'trump', 'property', 'married', 'undocumented', \"workers're\", 'undocumented', 'worker', 'scapegoat', 'undocumented', 'worker', 'whiff', 'cheap', 'labour']\n",
      "To everyone who was there: THANK YOU for giving [NAME] such a warm send-off.  All of us would love to be able to stand and cheer for [NAME] to thank [NAME] for the work [NAME]'s done.  So glad you all did a great job of making sure [NAME] knows.\n",
      "['everyone', 'thank', 'giving', 'would', 'stand', 'cheer', 'thank', 'great', 'making', 'know']\n",
      "Really? You’ve never seen anyone act more immature? Do you remember Brett Kavanaugh screaming and crying during Brett Kavanaugh hearings? How about nearly everything [NAME] has done? \n",
      "['really', 'never', 'anyone', 'immature', 'remember', 'brett', 'kavanaugh', 'screaming', 'crying', 'brett', 'kavanaugh', 'hearing', 'nearly', 'everything']\n",
      "Oh really how’s the economy doing?Well wages are still stagnate, Fox still hasnt beat Obama's job growth. But i realise i need to explain it to you like you're a 4 year old, barney style.So take a ball, put a ball on a hill.. now let a ball go, as a ball rolls down a hill does a ball keep gaining speed? now this is how momentum works. When Obama left trump took over an economy already with a high level of growth, Obama cant take all the credit for all the credit. Is illegal immigration a problem?It wasnt a problem under Obama either, in fact the highest a problem under Obama ever beemn was under [NAME], a Republican.You’re pro abortion in 3rd trimester and anti gun? I can see they hand you guys out notes with keywords, its pathetic lol. Ive never met a liberal who was anti gun, ive met tons of liberals that just want gun control. Big difference. And yes i am pro gun control, im also pro abortion, never met anybody who said \"3rd trimester\" seems like a made up scare tactic what a suprise...How was our national debt trending before trump took over, has How was our national debt trending before trump took over changed since?Oh you mean the national debt that is higher than any time in history? the largest deficit in in history to be exact, the largest deficit in in history to be exact grew a whopping 17% this year.. so much winning! but dont worry, when trump's in prison the largest deficit in in history to be exact wont be trump problem anymore and they will blame the next president for it as Republicans always do. Isis?The ones who just killed a bunch of people last week? like 200 dead and 500 wounded? lmfao, yeah trump totally destroyed them..How do you think Israel has been handled now vs past?Dont know anything about isreal, never read up on it or looked.I mean I’m just curious since you’re so much smarter than idiot trump supporters, I look forward to being enlightened!!!Very much so, after all im an engineer. And its a fact (I know how much you guys hate those) democrats more educated, by a margin of almost 22% more having college educations, and 80% of all medical, science and engineering jobs being done by democratic voters.Well consider that all the trump supporters i work with work under me, and half didnt complete highschool yes, id say im more intelligent.\n",
      "['really', 'economy', 'doing?well', 'wages', 'still', 'stagnate', 'still', 'obama', 'growth', 'realise', 'explain', 'barney', 'style', 'roll', 'gain', 'speed', 'momentum', 'works', 'obama', 'trump', 'economy', 'already', 'level', 'growth', 'obama', 'credit', 'credit', 'illegal', 'immigration', 'problem?it', 'problem', 'obama', 'either', 'high', 'problem', 'obama', 'beemn', 'republican', 'you’re', 'abortion', 'trimester', 'note', 'keywords', 'pathetic', 'never', 'liberal', 'liberal', 'control', 'difference', 'control', 'abortion', 'never', 'anybody', 'trimester', 'seem', 'scare', 'tactic', 'suprise', 'national', 'trend', 'trump', 'national', 'trend', 'trump', 'change', 'since?oh', 'national', 'higher', 'history', 'large', 'deficit', 'history', 'exact', 'large', 'deficit', 'history', 'exact', 'whop', 'winning', 'worry', 'trump', 'prison', 'large', 'deficit', 'history', 'exact', 'trump', 'problem', 'anymore', 'blame', 'president', 'republican', 'always', 'isis?the', 'kill', 'bunch', 'people', 'wounded', 'lmfao', 'trump', 'totally', 'destroy', 'think', 'israel', 'handle', 'past?dont', 'anything', 'isreal', 'never', 'look', 'curious', 'since', 'smart', 'idiot', 'trump', 'supporter', 'forward', 'enlightened!!!very', 'engineer', 'democrat', 'educate', 'margin', 'almost', 'college', 'education', 'medical', 'science', 'engineering', 'democratic', 'voter', 'consider', 'trump', 'supporter', 'complete', 'highschool', 'intelligent']\n",
      "Anyone else remember Sean Penn's rescue boat springing a leak in New Orleans?\\n\\nThat was back when Bush summoned hurricane Katrina using the same super secret government weather machine that [NAME] did.\n",
      "['anyone', 'remember', 'rescue', 'spring', 'orleans?\\\\n\\\\nthat', 'summon', 'hurricane', 'katrina', 'using', 'super', 'secret', 'government', 'weather', 'machine']\n",
      "You do realize, Russia paid to help [NAME], Hillary and Trump right? You also realize they were behind one of the biggest BLM activist pages on Facebook? BLM surely aint fucking Republican. Learn some damn context in the tweets please. Trump literally is talking about a conspiracy theory and saying Trump had nothing to do with a conspiracy theory. Furthermore, if any of this 'out of context' shenanigans were even remotely true; The Mueller report would have found The Mueller report, shown The Mueller report, and indicted people. God damn the mental gymnastics going on here is ridiculous.\n",
      "['realize', 'russia', 'hillary', 'trump', 'right', 'realize', 'behind', 'big', 'activist', 'page', 'facebook', 'surely', 'fucking', 'republican', 'learn', 'context', 'tweet', 'please', 'trump', 'literally', 'talking', 'conspiracy', 'theory', 'saying', 'trump', 'nothing', 'conspiracy', 'theory', 'furthermore', 'context', 'shenanigan', 'remotely', 'mueller', 'report', 'would', 'found', 'mueller', 'report', 'show', 'mueller', 'report', 'indict', 'people', 'mental', 'gymnastics', 'going', 'ridiculous']\n",
      "Yeah, Hollywood People get get out of jail free cards. Especially if you are good friends with Mr. [NAME]\n",
      "['hollywood', 'people', 'cards', 'especially', 'friend']\n",
      " The Discussion Thread is still worse than [NAME] tho.WOKEST TAKE\n",
      "['discussion', 'thread', 'still', 'worse', 'wokest']\n",
      "So do you guys think that's what [NAME] means when [NAME] says \"nothing will fundamentally change for you\" to a crowd of billionaires?That [NAME]'s going to take 90% of a crowd of billionaires wealth but it won't matter to a crowd of billionaires because a crowd of billionaires'll still be wealthy?There are actually people who think this is what [NAME] said/means? And that the billionaires would donate to a man like that because that's fine with the billionaires?Y'all gonna break your fucking arms reaching this far.\n",
      "['think', 'means', 'nothing', 'fundamentally', 'change', 'crowd', 'billionaires?that', 'going', 'crowd', 'billionaire', 'wealth', 'matter', 'crowd', 'billionaire', 'crowd', \"billionaires'll\", 'still', 'wealthy?there', 'actually', 'people', 'think', 'means', 'billionaire', 'would', 'donate', \"billionaires?y'all\", 'break', 'fucking', 'reaching']\n",
      "\"TrumpFat Orange Sack of Goo hurt millions of Americans and caused widespread chaos when Trump recklessly shut down the government to try to get Trump expensive and ineffective wall, which Trump promised would be paid for by Mexico,\" House Speaker Nancy Pelosi and Senate Minority Leader [NAME] said in a joint statement Sunday. \"Congress refused to fund Trump wall and Trump was forced to admit defeat and reopen the government. The same thing will repeat The same thing if Trump tries this again. We hope Trump learned Trump lesson.\"\n",
      "['trumpfat', 'orange', 'million', 'american', 'cause', 'widespread', 'chaos', 'trump', 'recklessly', 'government', 'trump', 'expensive', 'ineffective', 'trump', 'promise', 'would', 'mexico', 'house', 'speaker', 'nancy', 'pelosi', 'senate', 'minority', 'leader', 'joint', 'statement', 'sunday', 'congress', 'refuse', 'trump', 'trump', 'force', 'admit', 'defeat', 'reopen', 'government', 'thing', 'repeat', 'thing', 'trump', 'try', 'trump', 'learn', 'trump', 'lesson']\n",
      "I don’t think I did give [NAME] credit for It. I also don’t believe that the evidence is strong enough on lead poisoning to make that conclusion. But to blame [NAME] for trying to solve a problem in a way that you didn’t like in an era in which that was popular and then not give [NAME] credit for trying something different today seems that people want it both ways on [NAME].\n",
      "['think', 'credit', 'believe', 'evidence', 'strong', 'enough', 'poisoning', 'conclusion', 'blame', 'try', 'solve', 'problem', 'popular', 'credit', 'try', 'something', 'different', 'today', 'seem', 'people']\n",
      "I’ll gladly vote 3rd party againDid you vote for [NAME]?\n",
      "['gladly', 'party', 'againdid']\n",
      "Oooopsy. I saw Barr microsmile at Graham’s jab at [NAME].\n",
      "['oooopsy', 'microsmile', 'graham']\n",
      "[NAME], Ocasio-Cortez, David Hoag and the like. \n",
      "['ocasio', 'cortez', 'david']\n",
      "That was an unfortunate result when it comes to making changes to Union contracts and making sure all the details are covered. The biggest outcome here is everyone is making at least $15 an hour without losing any benefits, hours, positions, or anything like that. This isn't as simple as just going \"Okay let's pay X amount\" especially when there are already existing contracts and so forth in place. And yes Bernie Sanders is paying over the minimum wage which is currently $7.25 an hour nationally. Bernie Sanders has been leading the charge on the front to increase the federal minimum wage to $15 an hour.It's nice to see others, like [NAME], following Bernie Sanders example and platform.\n",
      "['unfortunate', 'result', 'come', 'making', 'change', 'union', 'contract', 'making', 'details', 'cover', 'big', 'outcome', 'everyone', 'making', 'least', 'without', 'lose', 'benefit', 'hours', 'position', 'anything', 'simple', 'going', 'amount', 'especially', 'already', 'exist', 'contract', 'forth', 'place', 'bernie', 'sander', 'pay', 'minimum', 'currently', 'nationally', 'bernie', 'sander', 'leading', 'charge', 'front', 'increase', 'federal', 'minimum', 'others', 'following', 'bernie', 'sander', 'example', 'platform']\n",
      "I disagree with your take here. Not polling well compared to what? To who? If it's past primary leaders, then of course it's past primary leaders're polling statistically lower, there's a much larger field than we've ever seen. Compared to [NAME]? Actually both Bernie Sanders and Joe Biden are polling well ahead of Bernie Sanders nationally (which i don't think makes this a run away, but it's certainly not unfavorable). I don't enter races with a false dichotomy, but at this point in the race, it's really down to 3: Joe Biden, Bernie Sanders and Warren hanging in there.\n",
      "['disagree', 'poll', 'compare', 'primary', 'leaders', 'course', 'primary', \"leaders're\", 'poll', 'statistically', 'lower', 'larger', 'field', 'compare', 'actually', 'bernie', 'sander', 'biden', 'poll', 'ahead', 'bernie', 'sander', 'nationally', 'think', 'make', 'certainly', 'unfavorable', 'enter', 'race', 'false', 'dichotomy', 'point', 'really', 'biden', 'bernie', 'sander', 'warren', 'hanging']\n",
      "Counterpoint, some of that comes down to a disparity between public perception and the GOP weaponizing  veteran trash talk.  It's like a \"I can say that, i am a vet mentality\" to try to relate to vets that vote.  that vote plays up the \"im from this branch, we're better than this branch\" and \"I did this that and the third in my service and got tortured for years when captured.  [NAME] got hit with some stray shrapnel, [NAME] got an easy Purple Heart.\"Essentially, its if Forrest Gump and Lt Dan were running for President and people representing Lt Dan said Forrest Gump's a pussy and got to lay around eating ice cream while Lt Dan lost Lt Dan legs.However, it looks like shit to the public...not like the public matters though.  the GOP the GOP didn't do the public for the public, the people who hated it wasn't voting for the people who hated it anyway.  the people who hated it did it to solidify the elderly vet vote and appear trash talky and tough to young Repub vets.\n",
      "['counterpoint', 'come', 'disparity', 'public', 'perception', 'weaponize', 'veteran', 'trash', 'mentality', 'relate', 'play', 'branch', 'better', 'branch', 'third', 'service', 'torture', 'years', 'capture', 'stray', 'shrapnel', 'purple', 'heart', '\"essentially', 'forrest', 'running', 'president', 'people', 'represent', 'forrest', 'pussy', 'around', 'eating', 'cream', 'however', 'look', 'public', 'public', 'matter', 'though', 'public', 'public', 'people', 'hate', 'voting', 'people', 'hate', 'anyway', 'people', 'hate', 'solidify', 'elderly', 'appear', 'trash', 'talky', 'tough', 'young', 'repub']\n",
      "But - as the article points out - [NAME] plan polls poorly. Is the goal to make the most “pure” bill?  Or is it to pass something people want?\n",
      "['article', 'point', 'polls', 'poorly', 'something', 'people']\n",
      "Guarantee most of the people criticising [NAME] haven't actually read [NAME] very well-reasoned statements on the issue, and are just responding to the headlines.\n",
      "['guarantee', 'people', 'criticise', 'actually', 'reason', 'statement', 'issue', 'respond', 'headline']\n",
      "Clown World thinks [NAME] should prove [NAME] innocence. Not how it works. That's not how any of this works.\n",
      "['clown', 'world', 'think', 'prove', 'innocence', 'works', 'works']\n",
      "Any time you think that [NAME] or [NAME] progeny can't sink any lower, remember the time that [NAME] cut off medical insurance that covered [NAME] nephew's seriously ill infant sonURL. There is no bottom for these people.\n",
      "['think', 'progeny', 'lower', 'remember', 'medical', 'insurance', 'cover', 'nephew', 'seriously', 'infant', 'sonurl', 'bottom', 'people']\n",
      "NO unless you think Biden, O'Rourke and Klobuchar're going to get into a tie. Only one of the is going to be the highest thus the \"right\" choice because otherwise that's being responsible for getting [NAME] reelected\n",
      "['unless', 'think', 'biden', \"o'rourke\", \"klobuchar're\", 'going', 'going', 'high', 'right', 'choice', 'otherwise', 'responsible', 'getting', 'reelect']\n",
      "but I haven’t seen any evidence of [NAME] trying to enrich [NAME]I would add a slight caveat to this.While [NAME] probably didn't pull a Cheney and profit from the Halliburton stock Cheney was holding while simultaneously giving them no-bid contracts, after Cheney was done fucking up the middle east for the Bush administration Cheney was given more than a fair share of think tank, university, and speaking honorariums.\n",
      "['evidence', 'try', 'enrich', 'name]i', 'would', 'slight', 'caveat', 'probably', 'cheney', 'profit', 'halliburton', 'stock', 'cheney', 'holding', 'simultaneously', 'giving', 'contract', 'cheney', 'fucking', 'middle', 'administration', 'cheney', 'given', 'share', 'think', 'university', 'speaking', 'honorarium']\n",
      "Do you think that sentence means anything at all? Just because you came up with a good government bureau for the people doesn’t mean you’re immune to corporate influence. And also, that’s definitely not the only reason I personally dislike Never Warren. Never Warren voted for trumps military budget as well, and Never Warren foreign policy might as well be [NAME]’s.\n",
      "['think', 'sentence', 'means', 'anything', 'government', 'bureau', 'people', 'immune', 'corporate', 'influence', 'definitely', 'reason', 'personally', 'dislike', 'never', 'warren', 'never', 'warren', 'vote', 'trump', 'military', 'budget', 'never', 'warren', 'foreign', 'policy', 'might']\n",
      "[NAME] is terrible.  Booker is a much better candidate.\n",
      "['terrible', 'booker', 'better', 'candidate']\n",
      " It's because the dynastic system is inherently brittleIndian politics or Indian Parties are not in a Monarchy. Enough regional parties have such legacies, Enough regional parties fight elections, Enough regional parties win and then the lose and then Enough regional parties win. It goes on. a Monarchy doesn't work like that. Hence the India condition isn't brittle. Furthermore even if argunedo this argument is accepted for India or INC, then by the same analogy a Monarchy also doesn't on a Monarchy own mean leader has absolute power outright for all conditions and situations. They are in fact rare moments on a Monarchy own throughout history. That is usually when great progress is made, i.e. when there is absolute power at top and the person is good.  A person might be good but if A person/A person has power in name, it is not all that effective. System defines the efficacy in that situation, if System is good, things are less bad (this is what generally happens in Democracies) otherwise the bad becomes even more bad.   Notice that all these people left the INC  And people left Congress even when there was no Gandhi and people leave other parties and no Gandhi and people will leave when a non-RG person comes in because why would someone accept to play 2nd 5th and lower fiddle to someone who isn't even a Gandhi, when no Gandhi and people can already have no Gandhi and people local fiefdom. There is a reason why Indian regional party dynamic is the way Indian regional party dynamic is. It isn't an accident, it is because this happens to every Party because Party is nothing but a collection of powerful leaders from different places, some have more power and the bigger Party higher the number of such people and thus higher the chances of splits or dis-function.   You keep talking about Scindia, well, maybe Scindia isn't the knight in shining armor.You say that now since now we know the results. Before election if you now claim Scindia name was just meh in this list of potential successors then again the entire debate is in poor faith.  Scindia is being listed here because Scindia didn't just lose, Scindia got Scindia behind handed to Scindia politically speaking, it was a bloodbath.  And one is to entertain, (let alone accept) the position there were alternatives who could have done better.  then how did Jagan script such a big victory in AP?AP is not India? Then how was Punjab the way Punjab was. This is not an argument.   goes against objective verifiable factsLike what exactly. For future of course it is a projection because we haven't seen a Post ex-INC President RG world but we did see a non RG INC President moment where Congress didn't get this much in a GE, 2014 is that, it was worse.    the INC has fought without Gandhis in the past and delivered better results.And they've fought with they and done fine enough in both past and in modern era.  This thus isn't an argument which sways the fundamentals, This a high-beam like distraction not the fundamental cause which if This didn't exist picture would be dearly rosy. This position is what I called farce by referencing a real world scenario for it because the context was 2019 since it was about the scale of culpability of even RG in this a GE and the idea if there was no RG INC would have gotten 25-30% vote share IS FARCICAL. Period.  They would have done the same if not even worse because the INC or even RG were trivial in election, we know this now because this is post fact, we are no longer predicting stuff, we are analyzing. a GE was Modi-wave on steroids, a GE can't even be called a wave, a GE was the entire ocean space since the ruling coalition Govt is basically 50% of vote. They not only won, They slapped everyone, hence the idea someone else would have done better is just not convincing at all.    Nobody in 2001 would predict that Modi would take the BJP to an absolute majority twice.Of course but the same premise applies currently. RG is young, RG could even win 3 terms in the future. This is Indian politics, a CM on whose watch a massacre happened is now a 2 time PM with an unprecedented in Indian Independent history margins.   For all you know, the INC the INC might be having a potential mass leader who can deliver, but whose ambitions have no place in that party.Hence my reference to the Doomsday dynamic, you are re-iterating it again and again. It is a false negative and in practical serious debate a tool which has no fair space.    Motilal Vora or Sushil Shinde as a figurehead will lead Motilal Vora or Sushil Shinde as a figurehead to victory? No. Does it mean that [NAME] will automatically make them win 2024? No.Says who and why not. See anyone can do this because one can't counter this on fair grounds or on practical terms. It is dishonest rhetorical tool when It gets interjected because it is always Win-Win no matter what the position. Anything is possible in Politics in this country. Nothing is sacred or beyond stupid or genius, whatever the terms of use. This entire chain started because of 1 fundamental aspect/quote, that is the scale of even RG's fault in a GE, i objected to the Absolutist narrative that ALL of it is his fault (my position was it is a spectrum) and nothing in this exchange has arrived which changes that position because A) there can't be such an Absolute to being with anyway and B) the context and arguments offered.\n",
      "['dynastic', 'system', 'inherently', 'brittleindian', 'politics', 'indian', 'party', 'monarchy', 'enough', 'regional', 'party', 'legacy', 'enough', 'regional', 'party', 'fight', 'election', 'enough', 'regional', 'party', 'enough', 'regional', 'party', 'monarchy', 'hence', 'india', 'condition', 'brittle', 'furthermore', 'argunedo', 'argument', 'accept', 'india', 'analogy', 'monarchy', 'monarchy', 'leader', 'absolute', 'power', 'outright', 'conditions', 'situation', 'moment', 'monarchy', 'throughout', 'history', 'usually', 'great', 'progress', 'absolute', 'power', 'person', 'person', 'might', 'person', 'person', 'power', 'effective', 'system', 'define', 'efficacy', 'situation', 'system', 'things', 'generally', 'happen', 'democracy', 'otherwise', 'become', 'notice', 'people', 'people', 'congress', 'gandhi', 'people', 'leave', 'party', 'gandhi', 'people', 'leave', 'person', 'come', 'would', 'someone', 'accept', 'lower', 'fiddle', 'someone', 'gandhi', 'gandhi', 'people', 'already', 'gandhi', 'people', 'local', 'fiefdom', 'reason', 'indian', 'regional', 'party', 'dynamic', 'indian', 'regional', 'party', 'dynamic', 'accident', 'happen', 'every', 'party', 'party', 'nothing', 'collection', 'powerful', 'leaders', 'different', 'place', 'power', 'bigger', 'party', 'higher', 'number', 'people', 'higher', 'chance', 'split', 'function', 'talking', 'scindia', 'maybe', 'scindia', 'knight', 'shining', 'armor', 'since', 'result', 'election', 'claim', 'scindia', 'potential', 'successor', 'entire', 'debate', 'faith', 'scindia', 'list', 'scindia', 'scindia', 'scindia', 'behind', 'hand', 'scindia', 'politically', 'speaking', 'bloodbath', 'entertain', 'alone', 'accept', 'position', 'alternative', 'could', 'better', 'jagan', 'script', 'victory', 'ap?ap', 'india', 'punjab', 'punjab', 'argument', 'objective', 'verifiable', 'factslike', 'exactly', 'future', 'course', 'projection', 'president', 'world', 'president', 'moment', 'congress', 'worse', 'fight', 'without', 'gandhi', 'deliver', 'better', 'result', 'fight', 'enough', 'modern', 'argument', 'sway', 'fundamentals', 'distraction', 'fundamental', 'cause', 'exist', 'picture', 'would', 'dearly', 'position', 'call', 'farce', 'reference', 'world', 'scenario', 'context', 'since', 'scale', 'culpability', 'would', 'get', 'share', 'farcical', 'period', 'would', 'worse', 'trivial', 'election', 'longer', 'predict', 'stuff', 'analyze', 'steroid', 'call', 'entire', 'ocean', 'space', 'since', 'ruling', 'coalition', 'basically', 'slap', 'everyone', 'hence', 'someone', 'would', 'better', 'convince', 'nobody', 'would', 'predict', 'would', 'absolute', 'majority', 'twice', 'course', 'premise', 'apply', 'currently', 'young', 'could', 'terms', 'future', 'indian', 'politics', 'whose', 'watch', 'massacre', 'happen', 'unprecedented', 'indian', 'independent', 'history', 'margin', 'might', 'potential', 'leader', 'deliver', 'whose', 'ambition', 'place', 'party', 'hence', 'reference', 'doomsday', 'dynamic', 'iterate', 'false', 'negative', 'practical', 'serious', 'debate', 'space', 'motilal', 'sushil', 'shinde', 'figurehead', 'motilal', 'sushil', 'shinde', 'figurehead', 'victory', 'automatically', 'anyone', 'counter', 'grounds', 'practical', 'terms', 'dishonest', 'rhetorical', 'interject', 'always', 'matter', 'position', 'anything', 'possible', 'politics', 'country', 'nothing', 'sacred', 'beyond', 'stupid', 'genius', 'whatever', 'terms', 'entire', 'chain', 'start', 'fundamental', 'aspect', 'quote', 'scale', 'fault', 'object', 'absolutist', 'narrative', 'fault', 'position', 'spectrum', 'nothing', 'exchange', 'arrive', 'change', 'position', 'absolute', 'anyway', 'context', 'argument', 'offer']\n",
      "I don't know what else you'd call someone who would block impeachment proceedings even though they want impeachment. Like [NAME] filibustering [NAME] own bill.\n",
      "['someone', 'would', 'block', 'impeachment', 'proceedings', 'though', 'impeachment', 'filibuster']\n",
      "I think I recall during the campaign [NAME] saying [NAME] would be happy to show us [NAME] beautiful tax returns or something like that. I can’t wait for the dems to “help” [NAME] carry through with that election promise. \n",
      "['think', 'recall', 'campaign', 'saying', 'would', 'happy', 'beautiful', 'return', 'something', 'carry', 'election', 'promise']\n",
      "I'm way less fussed about House. I'm with the many people want [NAME] to go for it, but it really doesn't look like [NAME] wants to be speaker. Lots of other people I respect in House are too junior.In Senate? Anyone but Chuck Schumer and Manchin. I'm open to a whole lot of people. Many of Schumer and Manchin I'm way to the left of, like Dick Durbin, but I don't think Dick Durbin'd be harmful to the cause of the broader left the way Chuck Schumer is. So who would I pick instead Ron Wyden, Sherrod Brown, Tammy Baldwin, Sheldon Whitehouse, Chris Murphy, Jeff Merkley, Elizabeth Warren, Amy Klobuchar.\n",
      "['fuss', 'house', 'people', 'really', 'want', 'speaker', 'people', 'respect', 'house', 'junior', 'senate', 'anyone', 'chuck', 'schumer', 'manchin', 'whole', 'people', 'schumer', 'manchin', 'durbin', 'think', \"durbin'd\", 'harmful', 'cause', 'broad', 'chuck', 'schumer', 'would', 'instead', 'wyden', 'sherrod', 'brown', 'tammy', 'baldwin', 'sheldon', 'whitehouse', 'chris', 'murphy', 'merkley', 'elizabeth', 'warren', 'klobuchar']\n",
      "On Pod Save America, [NAME]: Trump faked being disabled to get out of Vietnam said that the first law [NAME]: Trump faked being disabled to get out of Vietnam wants passed is HR-1, the voting rights act. If we don’t make voting rights and fair elections a majority priority, nothing else matters because it’ll just all be reversed in 2024\n",
      "['america', 'trump', 'fake', 'disabled', 'vietnam', 'first', 'trump', 'fake', 'disabled', 'vietnam', 'want', 'pass', 'voting', 'right', 'voting', 'right', 'election', 'majority', 'priority', 'nothing', 'matter', 'reverse']\n",
      "I thought The Facebook comments section was mostly people exaggerating , but I have an American friend on Facebook who is a democrat, and anything that an American friend on Facebook who is a democrat posts that’s even slightly critical of [NAME] is instantly inundated by an American friend on Facebook who is a democrat family and “friends” defending [NAME]. And holy shit their arguments are... crazy. \n",
      "['thought', 'facebook', 'comment', 'section', 'mostly', 'people', 'exaggerate', 'american', 'friend', 'facebook', 'democrat', 'anything', 'american', 'friend', 'facebook', 'democrat', 'post', 'slightly', 'critical', 'instantly', 'inundate', 'american', 'friend', 'facebook', 'democrat', 'family', 'friend', 'defend', 'argument', 'crazy']\n",
      "No deal, knowing we we’ll elect [NAME] president \n",
      "['knowing', 'elect', 'president']\n",
      "That’s certainly a side of her story that people have left out, but literally replace “porn” with “reality”, “arrested and charged with” with “got accused of in civil court” and “trump” with “the president/[NAME]” and its sounds eerily similar to Trump. \n",
      "['certainly', 'story', 'people', 'literally', 'replace', 'reality', 'arrest', 'charge', 'accused', 'civil', 'court', 'trump', 'president/[name', 'sound', 'eerily', 'similar', 'trump']\n",
      "The 33% of voters who support [NAME] have lost faith in the possibility of a decent president.  The 33% of voters who support [NAME] have lost faith in our political institutions.  The 33% of voters who support [NAME] wave Bibles in everyone's faces, but The 33% of voters who support [NAME] have lost faith in human decency, which ultimately means The 33% of voters who support [NAME] have lost The 33% of voters who support [NAME] Faith.\\n\\nThe downfall of the orange buffoon is a comedy, and we have a right to rub their noses in a comedy.  But ultimately these are people who have lost these moral compass, whose religious institutions have failed these.  That is a tragedy; we need to have compassion equal to we rage.\n",
      "['voter', 'support', 'faith', 'possibility', 'decent', 'president', 'voter', 'support', 'faith', 'political', 'institution', 'voter', 'support', 'bible', 'everyone', 'face', 'voter', 'support', 'faith', 'human', 'decency', 'ultimately', 'means', 'voter', 'support', 'voter', 'support', 'faith.\\\\n\\\\nthe', 'downfall', 'orange', 'buffoon', 'comedy', 'right', 'nose', 'comedy', 'ultimately', 'people', 'moral', 'compass', 'whose', 'religious', 'institution', 'fail', 'tragedy', 'compassion', 'equal']\n",
      "Yesterday I saw dozens of articles (down voted into Oblivion) praising [NAME] and pushing narratives like [NAME] wasn't impeached. These sources exist on the white list.\n",
      "['yesterday', 'dozens', 'article', 'vote', 'oblivion', 'praise', 'pushing', 'narrative', 'impeach', 'source', 'exist', 'white']\n",
      " why would [NAME], a potential future Canadian Prime Minister, support a separatist movement on another continent? \\n\\nSame reason Trudeau gets involved in supporting groups in conflicts in Syria, Ukraine and Israel. \\n\\nJust because has brown skin, doesnt mean Just because has brown skin isnt allowed to comment or support the right of self determination  \n",
      "['would', 'potential', 'future', 'canadian', 'prime', 'minister', 'support', 'separatist', 'movement', 'another', 'continent', '\\\\n\\\\nsame', 'reason', 'trudeau', 'involve', 'supporting', 'group', 'conflict', 'syria', 'ukraine', 'israel', '\\\\n\\\\njust', 'brown', 'brown', 'allow', 'comment', 'support', 'right', 'determination']\n",
      "Them Trump and [NAME] go off for some special discussions.  \n",
      "['trump', 'special', 'discussion']\n",
      "Maybe Steve Doocy's sundowning. [NAME]'s on pretty late in the day. Hard to keep Trump's attention.\n",
      "['maybe', 'steve', 'doocy', 'sundowning', 'pretty', 'trump', 'attention']\n",
      "Not if you want to keep your job as an Anti-Evil Hate Speech Enforcer.Everyone knows [NAME] is evil. [NAME] is the reason they are expanding these censorship campaigns.\n",
      "['speech', 'enforcer', 'everyone', 'know', 'reason', 'expand', 'censorship', 'campaign']\n",
      "This whole Hunter Biden shit is stupid. What about all [NAME]s children &amp; all [NAME]s children &amp husband or wives? What about all [NAME]s children &amp; their husband or wives are all employed because [NAME] is president.\n",
      "['whole', 'hunter', 'biden', 'stupid', 'name]s', 'child', 'name]s', 'child', 'husband', 'wife', 'name]s', 'child', 'husband', 'wife', 'employ', 'president']\n",
      "As I understand it, and I'm far from an expert, the constant history lessons are being used to illustrate the importance of the US aid to Ukraine, and how lack of assistance only increases Russian power in the region. Establishing this is important in order to emphasize 2 things:  1: How withholding aid is actually counter productive to US interests (assuming that we agree that Russian ideals and goals do not mesh with American ones)   2: How little choice the current Ukraine President actually has in this scenario, and how the current Ukraine President singing [NAME]'s praises is not indicative the current Ukraine President actual opinions.\n",
      "['understand', 'expert', 'constant', 'history', 'lesson', 'illustrate', 'importance', 'ukraine', 'assistance', 'increase', 'russian', 'power', 'region', 'establish', 'important', 'order', 'emphasize', 'things', 'withholding', 'actually', 'counter', 'productive', 'interest', 'assume', 'agree', 'russian', 'ideal', 'goal', 'american', 'little', 'choice', 'current', 'ukraine', 'president', 'actually', 'scenario', 'current', 'ukraine', 'president', 'singing', 'praise', 'indicative', 'current', 'ukraine', 'president', 'actual', 'opinion']\n",
      "So I say a positive thing about a [NAME] and your first reaction is to insult me...?This is why I hate considering Hunter Biden for liberal because I'm in the same bracket as you incels.\n",
      "['positive', 'thing', 'first', 'reaction', 'insult', '?this', 'consider', 'hunter', 'biden', 'liberal', 'bracket', 'incels']\n",
      "Maybe you should learn how our government works, Kavanaugh Kavanaugh upheld a lower court's decision on the National Security Agency’s warrantless phone records collection program when Kavanaugh was on The Appeals CourtThe Appeals Court decides whether The Appeals Court made the correct legal determinations, rather than hearing direct evidence and determining what the facts of the case wereso no, Kavanaugh did not say that mass warrantless data collection didn't violate the 4th amendment.  the slight mis phrase that gives the wrong impression is a Grandstand Rand specialtysince this is such an important to Kavanaugh, where is all the legislation Kavanaugh has introduced to put an end to it? that's the only thing that can be done, nowit's been three years. surely we should have heard something on this vitally crucial and crucially vital issue from the Champion of the People TM[NAME] is fake news\n",
      "['maybe', 'learn', 'government', 'works', 'kavanaugh', 'kavanaugh', 'uphold', 'lower', 'court', 'decision', 'national', 'security', 'agency', 'warrantless', 'phone', 'record', 'collection', 'program', 'kavanaugh', 'appeal', 'courtthe', 'appeal', 'court', 'decide', 'whether', 'appeal', 'court', 'correct', 'legal', 'determination', 'rather', 'hearing', 'direct', 'evidence', 'determine', 'fact', 'wereso', 'kavanaugh', 'warrantless', 'collection', 'violate', 'amendment', 'slight', 'phrase', 'give', 'wrong', 'impression', 'grandstand', 'specialtysince', 'important', 'kavanaugh', 'legislation', 'kavanaugh', 'introduce', 'thing', 'nowit', 'three', 'years', 'surely', 'hear', 'something', 'vitally', 'crucial', 'crucially', 'vital', 'issue', 'champion', 'people', 'tm[name']\n",
      "Nope, I'm saying we can't punish [NAME] .. but that doesn't mean [NAME] didn't do that... Are you even reading my words?\n",
      "['saying', 'punish', 'reading', 'words']\n",
      "You can't impeach me!The stock market will crash hardIf I am impeached!-- [NAME]\n",
      "['impeach', 'me!the', 'stock', 'market', 'crash', 'hardif', 'impeached!--']\n",
      "Dems need to take the House. Shortly after the new Congress is sworn in in January, [NAME] will give the State of the Union speech. If the SC Justices are invited, Dems should boycott. State that it is now just another politicized arm of the [NAME] WH, and taints the balance of power and checks and balances the Founders intended.\\n\\nWhen the SC rules against a liberal group or cause, the articulate Dems, not the stammering ancient leadership, come out en masse and say \"We already knew Kavanaugh would do this, Kavanaugh even said \\'what goes around comes around\\'\". When they overturn abortion rights, say \"The [NAME] court was built specifically for right wing activists Kavanaugh and Gorsuch to do this. [NAME] promised [NAME] would have the SC Justices overturn Roe v Wade and [NAME] did\". Make the court and extension of [NAME].\\n\\nInvestigate the hell out of Kavanaugh and Gorsuch, since Gorsuch tainted the appearance of impartiality by performing at the [NAME] DC hotel. Completely and continuously denigrate and delegitimize \"The [NAME] court.\\n\\nIn 2020 there\\'s a chance to take the WH and Senate. After which, pass Medicare for all, include birth control and abortion as \\'basic services\\' and mandate any hospital or clinic that refuses to perform any basic service loses any hospital or clinic that refuses to perform any basic service Medicare accreditation and will no longer be able to take the insurance 50% - 90% of people will carry.\\n\\nIn the meantime, the Dems need to run on \\'fiscal responsibility\\'. the Dems can\\'t compete with China on trade of we keep borrowing money from money. These deficits are out of control! And then refuse to pass any budget without first stripping as much red state funding as possible. I mean, why would the GOP be against fiscal conservatism?\n",
      "['house', 'shortly', 'congress', 'swear', 'january', 'state', 'union', 'speech', 'justice', 'invite', 'boycott', 'state', 'another', 'politicize', 'taint', 'balance', 'power', 'check', 'balance', 'founder', 'intended.\\\\n\\\\nwhen', 'rule', 'liberal', 'group', 'cause', 'articulate', 'stammer', 'ancient', 'leadership', 'masse', 'already', 'kavanaugh', 'would', 'kavanaugh', \"\\\\'what\", 'around', 'come', 'around\\\\', 'overturn', 'abortion', 'right', 'court', 'build', 'specifically', 'right', 'activist', 'kavanaugh', 'gorsuch', 'promise', 'would', 'justice', 'overturn', 'court', 'extension', 'name].\\\\n\\\\ninvestigate', 'kavanaugh', 'gorsuch', 'since', 'gorsuch', 'taint', 'appearance', 'impartiality', 'performing', 'hotel', 'completely', 'continuously', 'denigrate', 'delegitimize', 'court.\\\\n\\\\nin', 'there\\\\', 'chance', 'senate', 'medicare', 'include', 'birth', 'control', 'abortion', \"\\\\'basic\", 'services\\\\', 'mandate', 'hospital', 'clinic', 'refuse', 'perform', 'basic', 'service', 'lose', 'hospital', 'clinic', 'refuse', 'perform', 'basic', 'service', 'medicare', 'accreditation', 'longer', 'insurance', 'people', 'carry.\\\\n\\\\nin', 'meantime', \"\\\\'fiscal\", 'responsibility\\\\', \"can\\\\'t\", 'compete', 'china', 'trade', 'borrowing', 'money', 'money', 'deficit', 'control', 'refuse', 'budget', 'without', 'first', 'stripping', 'state', 'funding', 'possible', 'would', 'fiscal', 'conservatism']\n",
      "[NAME] is going to do all that [NAME] intends to do. [NAME]'s going to politely ask Vladimir once again if Russia interfered in the election and take [NAME] word on it.Afterwards they'll discuss they common interests of destroying America.\n",
      "['going', 'intend', 'going', 'politely', 'vladimir', 'russia', 'interfere', 'election', 'afterwards', 'discus', 'common', 'interest', 'destroy', 'america']\n",
      "I would have been an asshole about it and just wait outside.  Cold and or boredom will eventually drive [NAME] out.\n",
      "['would', 'asshole', 'outside', 'boredom', 'eventually', 'drive']\n",
      "And republicans in trying to give Don the con cover have admitted republicans in trying to give Don the con cover also know and support what Putin has done and is dong right now. Muller indictments of americans when Muller indictments of americans come are going to be amazing and could end up removing a lot of republicans from there positions of power. I just wish that [NAME] had all of Muller indictments of americans arrested over a week and imprisoned due to the fact that Muller indictments of americans could use the knowledge Muller indictments of americans are traitors to release seriously top secrets to Russian operativeness that Muller indictments of americans seem to have consistent contact with.\n",
      "['republican', 'try', 'cover', 'admit', 'republican', 'try', 'cover', 'support', 'putin', 'right', 'muller', 'indictment', 'american', 'muller', 'indictment', 'american', 'going', 'amaze', 'could', 'remove', 'republican', 'position', 'power', 'muller', 'indictment', 'american', 'arrest', 'imprison', 'muller', 'indictment', 'american', 'could', 'knowledge', 'muller', 'indictment', 'american', 'traitor', 'release', 'seriously', 'secret', 'russian', 'operativeness', 'muller', 'indictment', 'american', 'consistent', 'contact']\n",
      "No one in the GOP the GOP is backing this. Ryan, or Mcconnell or [NAME] are not going with this its two idots, who if Ryan, or Mcconnell or [NAME] did do this deserve to be punished just like Avenatti and  Julie Swetnick deserve to be if Ryan, or Mcconnell or [NAME] really did collude to go after Justice Kavanaugh.\n",
      "['backing', 'mcconnell', 'going', 'idots', 'mcconnell', 'deserve', 'punish', 'avenatti', 'julie', 'swetnick', 'deserve', 'mcconnell', 'really', 'collude', 'justice', 'kavanaugh']\n",
      "What’s [NAME] gonna do in prison?  Karen Pence can’t come with [NAME]\n",
      "['prison', 'karen', 'penny']\n",
      "Pelosi fucking played him like a fiddle - Pelosi called it a \"Trump shutdown\" during the office talk, and him actually, literally, perked up at the sound of him name (giving away the fact that him was barely paying attention to the rest of those words), and then [NAME] got [NAME] to admit that [NAME] wanted the shutdown and [NAME] would own the shutdown live on camera. After the cameras turned off him went into the next room tantruming, threw him folder of briefing papers in the air, it went so badly.\n",
      "['pelosi', 'fucking', 'play', 'fiddle', 'pelosi', 'call', 'trump', 'shutdown', 'office', 'actually', 'literally', 'perk', 'sound', 'giving', 'barely', 'pay', 'attention', 'words', 'admit', 'want', 'shutdown', 'would', 'shutdown', 'camera', 'camera', 'turn', 'tantruming', 'throw', 'folder', 'briefing', 'papers', 'badly']\n",
      "This headline won't harm undecided voters, the news cycle moves quickly and people will have forgotten about this by Monday morning the same way people've seemingly forgotten about every other scandal this election. this election would probably be more damaging to people if people put someone up there that didn't know what people were talking about, or said things that the people at the top didn't approve of. Conservatives has no platform other than saying he'll do the opposite of whatever [NAME] does so actually participating in a debate Conservatives have nothing to say at, that [NAME] wasn't going to be a part of anyway, wasn't going to do Conservatives any favours.\n",
      "['headline', 'undecided', 'voter', 'cycle', 'move', 'quickly', 'people', 'forget', 'monday', 'morning', \"people've\", 'seemingly', 'forget', 'every', 'scandal', 'election', 'election', 'would', 'probably', 'damage', 'people', 'people', 'someone', 'people', 'talking', 'things', 'people', 'approve', 'conservative', 'platform', 'saying', 'opposite', 'whatever', 'actually', 'participate', 'debate', 'conservative', 'nothing', 'going', 'anyway', 'going', 'conservative', 'favour']\n",
      "Cohen- proven liar. He himself admitted to lying about Trumps business dealings. Furthermore, all of Trump's real estate deals were cancelled during He himself campaign.Flynn- Proven liar. He himself pleaded guilty to lying to FBI.Manafort- was convicted of crimes connected to Manafort- own private affairs and has also is a proven liar by Mueller's investigators.[NAME], on the other hand, was found to have illegally used campaign funds to pay a Russian agent to falsify a dossier in order to mislead the FISA court. Additionally, [NAME] destroyed over 35,000 emails and files that were supeanead but never turned over.\n",
      "['cohen-', 'prove', 'admit', 'lying', 'trump', 'business', 'dealings', 'furthermore', 'trump', 'estate', 'deal', 'cancel', 'campaign', 'flynn-', 'prove', 'plead', 'guilty', 'lying', 'fbi.manafort-', 'convict', 'crime', 'connect', 'manafort-', 'private', 'affairs', 'prove', 'mueller', 'investigators.[name', 'found', 'illegally', 'campaign', 'funds', 'russian', 'agent', 'falsify', 'dossier', 'order', 'mislead', 'court', 'additionally', 'destroy', '35,000', 'email', 'file', 'supeanead', 'never', 'turn']\n",
      "Holy shit, this. Being against Netanyahu is NOT the same as being against Israel, nor is it the same as being anti-Semitic (for that matter, being against Israel isn't the same as being anti-Semitic - I know a few older Jews who aren't in favor of the state of Israel). It's only to the advantage of assholes to confuse the three; anti-Semites get to pretend anti-Semites're legitimately criticizing Israel or Netanyahu, while Netanyahu gets to pretend that any criticism of Netanyahu is anti-Semetic, or - like [NAME] - that to criticize Netanyahu is to criticize Israel. All of these things are wrong, and need to be kept far clear of each other.\n",
      "['netanyahu', 'israel', 'semitic', 'matter', 'israel', 'semitic', 'older', 'favor', 'state', 'israel', 'advantage', 'asshole', 'confuse', 'three', 'semite', 'pretend', \"semites're\", 'legitimately', 'criticize', 'israel', 'netanyahu', 'netanyahu', 'pretend', 'criticism', 'netanyahu', 'semetic', 'criticize', 'netanyahu', 'criticize', 'israel', 'things', 'wrong', 'clear']\n",
      "It was fun while it lasted. And, well, technically [NAME] did vote “yes” to move the nomination forward. \n",
      "['last', 'technically', 'nomination', 'forward']\n",
      "Like [NAME]?  Oh, wait.Conservatives are never going to let this go even if this’s bullshit and we have liberals to thank for that.\n",
      "['conservative', 'never', 'going', 'bullshit', 'liberal', 'thank']\n",
      "I like Tulsi Gabbard. 15 years ago I served with Tulsi Gabbard in the army in Hawaii. I really respected Tulsi Gabbard and so did everyone who knew Tulsi Gabbard. But I don’t care much about politics. I didn’t vote in 2016 because I lived in a territory and not a state. I wasn’t planning on voting this year but I might now. Tulsi Gabbard present vote was the best, most principled thing I’ve seen from any politician in a while. Tulsi Gabbard explanation that Trump ought to be impeached but not like this is exactly what I believe. Trump is a terrible president and a terrible human being but the first article of impeachment is really not enough or maybe just barely to impeach. Trump is a steward of taxpayers money and has a duty to make sure other countries who receive our money are not using it for corrupt purposes. There was sufficient reasons to at least ask about the prosecutor and about [NAME]’s son [NAME]’s son was kicked out of the military for smoking crack then was given a six figure salary because of who sufficient reasons to at least ask about the prosecutor and about [NAME]’s son [NAME]’s son father is. the first article of impeachment is nonsense. Congressional subpoenas without a court order are not real subpoenas. Congressional subpoenas without a court order don’t have to be obeyed, especially by the co-equal executive branch, without a court order. Given the pathetically weak reasons for impeachment, and the partisan nature of the procedure I think ‘present’ was the only honorable way of dealing with this. He should be impeached but not for this nonsense. Tulsi was right on this one.\n",
      "['tulsi', 'gabbard', 'years', 'serve', 'tulsi', 'gabbard', 'hawaii', 'really', 'respect', 'tulsi', 'gabbard', 'everyone', 'tulsi', 'gabbard', 'politics', 'live', 'territory', 'state', 'planning', 'voting', 'might', 'tulsi', 'gabbard', 'present', 'principled', 'thing', 'politician', 'tulsi', 'gabbard', 'explanation', 'trump', 'ought', 'impeach', 'exactly', 'believe', 'trump', 'terrible', 'president', 'terrible', 'human', 'first', 'article', 'impeachment', 'really', 'enough', 'maybe', 'barely', 'impeach', 'trump', 'steward', 'taxpayer', 'money', 'country', 'receive', 'money', 'using', 'corrupt', 'purpose', 'sufficient', 'reason', 'least', 'prosecutor', 'kick', 'military', 'smoking', 'crack', 'given', 'figure', 'salary', 'sufficient', 'reason', 'least', 'prosecutor', 'father', 'first', 'article', 'impeachment', 'nonsense', 'congressional', 'subpoena', 'without', 'court', 'order', 'subpoena', 'congressional', 'subpoena', 'without', 'court', 'order', 'obey', 'especially', 'equal', 'executive', 'branch', 'without', 'court', 'order', 'given', 'pathetically', 'reason', 'impeachment', 'partisan', 'nature', 'procedure', 'think', 'present', 'honorable', 'dealing', 'impeach', 'nonsense', 'tulsi', 'right']\n",
      "Fair point. I agree. But Trump has NO claim to anything happening in [NAME]'s economy before Trump policies took effect.\n",
      "['point', 'agree', 'trump', 'claim', 'anything', 'happening', 'economy', 'trump', 'policy', 'effect']\n",
      "And Harris is much more likely than [NAME], Sanders, or Buttigieg.\n",
      "['harris', 'likely', 'sander', 'buttigieg']\n",
      "Because the Italians are complicit in trying to take down [NAME] and John Brennan is a Treasonous Rat.\n",
      "['italian', 'complicit', 'try', 'brennan', 'treasonous']\n",
      "Yet, Whenever a moderate loses it is solely because of those guys ideology? Despite facts like [NAME] being perceived as liberal, while Trump was seen as the more moderate.\n",
      "['whenever', 'moderate', 'lose', 'solely', 'ideology', 'despite', 'fact', 'perceive', 'liberal', 'trump', 'moderate']\n",
      "Hot take: Mitch McConnell is more infuriatingly shitty than Donald TrumpURL\\n\\nAfter putting [NAME]'s nominees through a documentary wringer Mitch McConnell stonewalls 40,000 pages of a Republican nominee's record and drops [NAME]'s nominees the night before the hearing and says everything is fine.\\n\\nFUCK YOU, turtle man.\n",
      "['mitch', 'mcconnell', 'infuriatingly', 'shitty', 'donald', 'trumpurl\\\\n\\\\nafter', 'putting', 'nominee', 'documentary', 'wringer', 'mitch', 'mcconnell', 'stonewall', '40,000', 'page', 'republican', 'nominee', 'record', 'drop', 'nominee', 'night', 'hearing', 'everything', 'fine.\\\\n\\\\nfuck', 'turtle']\n",
      "I mean the interests of urban centers and farmers tried with Heitkamp, Donnelly, and [NAME] and failed.I think it's clear Abortion and Immigration are two hills middle America wants to die on, and I don't think those are things the Democratic Party want to compromise on. Abortion and Immigration were essentially DOA the second Abortion and Immigration didn't vote for Kavanaugh.The good thing is that a D prez doesn't need MO, ND, and IN to win the presidency, Abortion and Immigration made gains/held in MI, WI, and PA which are the states Abortion and Immigration need to win, but idk how a D can win over the farmers in the former states in 2018 without compromising on some vital and core positions.\n",
      "['interest', 'urban', 'center', 'farmer', 'try', 'heitkamp', 'donnelly', 'fail', 'think', 'clear', 'abortion', 'immigration', 'hill', 'middle', 'america', 'want', 'think', 'things', 'democratic', 'party', 'compromise', 'abortion', 'immigration', 'essentially', 'second', 'abortion', 'immigration', 'kavanaugh', 'thing', 'presidency', 'abortion', 'immigration', 'gain', 'state', 'abortion', 'immigration', 'farmer', 'former', 'state', 'without', 'compromise', 'vital', 'position']\n",
      "I don't think [NAME] Needs cares as much for the party as for [NAME] Needs and [NAME] Needs associates. [NAME] Needs did the essenitally a more obvious version of self preservation. [NAME] is just punting [NAME] Needs responsibility to Congress. [NAME] Needs like the rest of Congress is a coward.\n",
      "['think', 'need', 'care', 'party', 'need', 'need', 'associate', 'need', 'essenitally', 'obvious', 'version', 'preservation', 'punting', 'need', 'responsibility', 'congress', 'need', 'congress', 'coward']\n",
      "Unfortunately many old school democrats still rely on donor money as many old school democrats gauge for how successful many old school democrats campaign is, and well, we've all read the power point [NAME] presented to the insurance lobby.\n",
      "['unfortunately', 'school', 'democrat', 'still', 'donor', 'money', 'school', 'democrat', 'gauge', 'successful', 'school', 'democrat', 'campaign', 'power', 'point', 'present', 'insurance', 'lobby']\n",
      "If there are other telescopes there which are no longer being used, it makes sense to demo those sites and re-use those sites rather than break ground on something new.Yes it's more expensive, but respect the land. We're not talking about New Jersey here.#Hawaii SenateSupport TMT: Sens. Roz Baker, Mike Gabbard, Breene Harimoto, Lorraine Inouye, Donna Kim, Sharon Moriwaki, Clarence Nishihara, Karl Rhoads and [NAME].Support with reservations: Sen. Stanley Chang.Oppose #Hawaii SenateSupport TMT: Sens: none on record.Neither “yes” or “no”: Sens. J. Kalani English, Kai Kahele, Gil Riviere and Laura Thielen.Declined comment: Sens. Les Ihara, Jarrett Keohokalole and Russell Ruderman.Did not respond: Sens. Donovan Dela Cruz, Kurt Fevella, Dru Kanuha, Gil Keith-Agaran, Michelle Kidani, Ron Kouchi and Maile Shimabukuro.Could not be reached: The office of Sen. Brian Taniguchi said Sen. Brian Taniguchi was traveling abroad and could not be reached for comment.#Hawaii House of RepresentativesSupport TMT: Reps. Della Au Belatti, Tom Brower, Rida Cabanilla, Romy Cachola, Bert Kobayashi, Bob McDermott, Val Okimoto, Richard Onishi, Scott Saiki, Calvin Say, Gregg Takayama, Cynthia Thielen and Jimmy Tokioka.Support with reservations: Rep. John Mizuno.Oppose TMT: Reps. Dale Kobayashi and Amy Perusso.Neither “yes” or “no”: Reps. David Tarnas, Gene Ward and Tina Wildberger.Declined comment: Reps. Sharon Har, Nicole Lowen and Chris Lee.Did not respond: Reps. Henry Aquino, Richard Creagan, Ty Cullen, Lynn DeCoite, Stacelynn Eli, Cedric Gates, Mark Hashem, Troy Hashimoto, Daniel Holt, Linda Ichiyama, Aaron Ling Johanson, Sam Kong, Sylvia Luke, Scot Matayoshi, Lauren Matsumoto, Angus McKelvey, Dee Morikawa, Mark Nakashima, Scott Nishimoto, Takashi Ohno, Sean Quinlan, Joy San Buenaventura, Roy Takumi, Chris Todd, Justin Woodson, Ryan Yamane and Kyle Yamashita. Could not be reached: Rep. Lisa Kitagawa was traveling and Rep. Lisa Kitagawa office said Rep. Lisa Kitagawa could not be reached for comment. Rep. Nadine Nakamura could not be reached because of a family emergency.\n",
      "['telescope', 'longer', 'make', 'sense', 'site', 'site', 'rather', 'break', 'ground', 'something', 'expensive', 'respect', 'talking', 'jersey', 'here.#hawaii', 'senatesupport', 'baker', 'gabbard', 'breene', 'harimoto', 'lorraine', 'inouye', 'donna', 'sharon', 'moriwaki', 'clarence', 'nishihara', 'rhoads', 'name].support', 'reservation', 'stanley', 'chang', 'oppose', 'hawaii', 'senatesupport', 'record', 'neither', 'kalani', 'english', 'kahele', 'riviere', 'laura', 'thielen', 'decline', 'comment', 'ihara', 'jarrett', 'keohokalole', 'russell', 'ruderman', 'respond', 'donovan', 'fevella', 'kanuha', 'keith', 'agaran', 'michelle', 'kidani', 'kouchi', 'maile', 'shimabukuro', 'could', 'reach', 'office', 'brian', 'taniguchi', 'brian', 'taniguchi', 'traveling', 'abroad', 'could', 'reach', 'comment.#hawaii', 'house', 'representativessupport', 'della', 'belatti', 'brower', 'cabanilla', 'cachola', 'kobayashi', 'mcdermott', 'okimoto', 'richard', 'onishi', 'scott', 'saiki', 'calvin', 'gregg', 'takayama', 'cynthia', 'thielen', 'jimmy', 'tokioka', 'support', 'reservation', 'mizuno', 'oppose', 'kobayashi', 'perusso', 'neither', 'david', 'tarnas', 'wildberger', 'decline', 'comment', 'sharon', 'nicole', 'lowen', 'chris', 'respond', 'henry', 'aquino', 'richard', 'creagan', 'cullen', 'decoite', 'stacelynn', 'cedric', 'gates', 'hashem', 'hashimoto', 'daniel', 'linda', 'ichiyama', 'aaron', 'johanson', 'sylvia', 'matayoshi', 'lauren', 'matsumoto', 'angus', 'mckelvey', 'morikawa', 'nakashima', 'scott', 'nishimoto', 'takashi', 'quinlan', 'buenaventura', 'takumi', 'chris', 'justin', 'woodson', 'yamane', 'yamashita', 'could', 'reach', 'kitagawa', 'traveling', 'kitagawa', 'office', 'kitagawa', 'could', 'reach', 'comment', 'nadine', 'nakamura', 'could', 'reach', 'family', 'emergency']\n",
      "Look at [NAME]'s manager talk trash on Twitter after matt went on pmt. It just keeps getting better\n",
      "['manager', 'trash', 'twitter', 'keep', 'getting', 'better']\n",
      "\"My duty, and the sacred duty of every elected official in this chamber, is to defend Americans — to protect Americans safety, Americans families, Americans communities, and Americans right to the American Dream. 'Because Americans are dreamers too.'”[NAME]\n",
      "['sacred', 'every', 'elect', 'official', 'chamber', 'defend', 'american', 'protect', 'american', 'safety', 'american', 'family', 'american', 'community', 'american', 'right', 'american', 'dream', 'american', 'dreamer', \"'”[name\"]\n",
      "Trump is just trying to prevent a repeat of the [NAME] ordeal. \\n\\nNot the attempted rape part, but the getting caught part. \n",
      "['trump', 'try', 'prevent', 'repeat', 'ordeal', '\\\\n\\\\nnot', 'attempt', 'getting', 'catch']\n",
      "Because [NAME]’s destroying the US, to the benefit of Russia, China and Saudi Arabia, as well as profiting handsomely for both the [NAME] and Kushner families.[NAME] is a caricature of an idiot.  I’m not surprised rednecks love this moron.  rednecks think Mexico paid for a wall that hasn’t been started, and rednecks think an imbecile who went bankrupt 6 times is somehow a business genius.\n",
      "['destroy', 'benefit', 'russia', 'china', 'saudi', 'arabia', 'profit', 'handsomely', 'kushner', 'families.[name', 'caricature', 'idiot', 'surprise', 'redneck', 'moron', 'redneck', 'think', 'mexico', 'start', 'redneck', 'think', 'imbecile', 'bankrupt', 'times', 'somehow', 'business', 'genius']\n",
      "There’s been several people who’ve testified Gordon Sondland was telling Ukraine several people who’ve testified Sondland would not receive military aid until several people who’ve testified Sondland did personal political favors for [NAME]. So... yes. [NAME] was using Gordon Sondland as a go between to extort Ukraine.\n",
      "['several', 'people', 'testify', 'gordon', 'sondland', 'telling', 'ukraine', 'several', 'people', 'testify', 'sondland', 'would', 'receive', 'military', 'several', 'people', 'testify', 'sondland', 'personal', 'political', 'favor', 'using', 'gordon', 'sondland', 'extort', 'ukraine']\n",
      "We know what side [NAME] is on. [NAME] was at Mueller's wedding. [NAME] worked with the deep state [NAME] entire life. [NAME] is personally calling for backdoors into all of our encryption.[NAME] is not a friend. No one at The DOJ is.\n",
      "['mueller', 'wedding', 'work', 'state', 'entire', 'personally', 'calling', 'backdoor', 'encryption.[name', 'friend']\n",
      "This is a classic criminal conspiracy: [NAME] announces the need for an exchange, Guiliani sets up the hand off, and Guilliani's minions make the delivery/take delivery. This is also your basic \"spokes of a wheel\" criminal conspiracy. The parties may not even know each other, The parties just know The parties part. This is so basic law professors will recreate this fact pattern for 1Ls in a few weeks and everyone will get A's because its so straight forward. I mean, if we have to have a criminal president, we have to have a criminal president should at least have the dignity to come up with something more sophisticated.\n",
      "['classic', 'criminal', 'conspiracy', 'announce', 'exchange', 'guiliani', 'guilliani', 'minion', 'delivery', 'delivery', 'basic', 'spoke', 'wheel', 'criminal', 'conspiracy', 'party', 'party', 'party', 'basic', 'professor', 'recreate', 'pattern', 'week', 'everyone', 'straight', 'forward', 'criminal', 'president', 'criminal', 'president', 'least', 'dignity', 'something', 'sophisticate']\n",
      "Given how much importance [NAME] has placed on the future US trade deal, this is a deal-breaker for the US government. So, what's [NAME] endgame here? Because now [NAME] can't take out the US trade deal card from [NAME] back pocket whenever the reality of No Deal - with us pleading on the world stage - is pointed out.\n",
      "['given', 'importance', 'place', 'future', 'trade', 'breaker', 'government', 'endgame', 'trade', 'pocket', 'whenever', 'reality', 'pleading', 'world', 'stage', 'point']\n",
      "yeah I know out of pocket, except pocket not out of his pocket either.  [NAME] is suing for $4,000 in medical costs related to the attack the attack but said the final amount \"will continue to be updated through trial and will certainly include the hernia surgery that is currently scheduled to take place in Ontario, CanadaOntario, CanadaCanada.\"\n",
      "['pocket', 'except', 'pocket', 'pocket', 'either', 'sue', '4,000', 'medical', 'costs', 'relate', 'attack', 'attack', 'final', 'amount', 'continue', 'update', 'trial', 'certainly', 'include', 'hernia', 'surgery', 'currently', 'schedule', 'place', 'ontario', 'canadaontario', 'canadacanada']\n",
      "And I wonder if [NAME] style sham bam even needs products to sell or if \"brands\" are just licensing the trademarks for some amount that is as hard to objectively value as art or real estate and other common money laundering vehicles and then not doing anything with the licensed marks.Have they actually been selling products with the marks they are getting?\n",
      "['wonder', 'style', 'need', 'product', 'brand', 'license', 'trademark', 'amount', 'objectively', 'value', 'estate', 'common', 'money', 'laundering', 'vehicle', 'anything', 'license', 'marks', 'actually', 'selling', 'product', 'marks', 'getting']\n",
      "[NAME] didn’t build it though. [NAME] would be nothing without Fox News.\n",
      "['build', 'though', 'would', 'nothing', 'without']\n",
      "Mayor Pete is 100% an astroturfed corporate establishment media invention.I'm sorry but, that's just the reality. I have no idea why Mayor Pete is being taken seriously considering Mayor Pete speaks some form of [NAME]'s political gibberish. Mayor Pete has even come out with a position of being against taking specific policy positions. The fuck? The other month, Barney Frank said Barney Frank wouldn't be getting the same attention if Barney Frank were straight. Barney Frank praised the idea that prejudice is diminishing- but to be fair, prejudice would've diminished decades ago if Democrats didn't stagnate progress on it and refuse to come out in favor of same-sex equality until the absolute 9000th hour.Anyways, I don't understand what Mayor Pete is fighting for or what Mayor Pete has to offer me. [NAME] and Buttigieg really shouldn't be getting so much attention.\n",
      "['mayor', 'astroturfed', 'corporate', 'establishment', 'medium', 'invention', 'sorry', 'reality', 'mayor', 'take', 'seriously', 'consider', 'mayor', 'speak', 'political', 'gibberish', 'mayor', 'position', 'taking', 'specific', 'policy', 'position', 'month', 'barney', 'frank', 'barney', 'frank', 'would', 'getting', 'attention', 'barney', 'frank', 'straight', 'barney', 'frank', 'praise', 'prejudice', 'diminishing-', 'prejudice', 'would', 'diminish', 'decade', 'democrat', 'stagnate', 'progress', 'refuse', 'favor', 'equality', 'absolute', '9000th', 'anyways', 'understand', 'mayor', 'fighting', 'mayor', 'offer', 'buttigieg', 'really', 'getting', 'attention']\n",
      "Look, I get that Beto is better than [NAME] but what in the ever loving fuck makes you think that [NAME]'s actually lefitst, much less Chomsky level leftist?\n",
      "['better', 'love', 'make', 'think', 'actually', 'lefitst', 'chomsky', 'level', 'leftist']\n",
      "Yes, but if [NAME] bothers you, are you not bothered by Trump? Trump's done things far worse than just being overly huggy.\n",
      "['bother', 'bother', 'trump', 'trump', 'things', 'worse', 'overly', 'huggy']\n"
     ]
    }
   ],
   "source": [
    "import random\n",
    "text_data = []\n",
    "for line in data_subset['body']:\n",
    "    tokens = get_tokens(line)\n",
    "    if random.random() > .99:\n",
    "        print(line)\n",
    "        print(tokens)\n",
    "        text_data.append(tokens)"
   ]
  },
  {
   "cell_type": "code",
   "execution_count": 26,
   "id": "0f0f8415",
   "metadata": {
    "id": "-kOtbn6ZKCy-"
   },
   "outputs": [],
   "source": [
    "from gensim import corpora\n",
    "dictionary = corpora.Dictionary(text_data)"
   ]
  },
  {
   "cell_type": "code",
   "execution_count": 27,
   "id": "cfa815e7",
   "metadata": {
    "id": "v_nH-oa8KCy-"
   },
   "outputs": [],
   "source": [
    "corpus = [dictionary.doc2bow(text) for text in text_data]"
   ]
  },
  {
   "cell_type": "code",
   "execution_count": 28,
   "id": "1d18d086",
   "metadata": {
    "id": "NQhvQuIoKCy-"
   },
   "outputs": [],
   "source": [
    "import pickle\n",
    "pickle.dump(corpus, open('corpus.pkl', 'wb'))\n",
    "dictionary.save('dictionary.gensim')"
   ]
  },
  {
   "cell_type": "code",
   "execution_count": 29,
   "id": "b679a577",
   "metadata": {
    "id": "ciNAcv-PKCy-"
   },
   "outputs": [],
   "source": [
    "import gensim\n",
    "NUM_TOPICS = 5\n",
    "ldamodel = gensim.models.ldamodel.LdaModel(corpus, num_topics = NUM_TOPICS, id2word=dictionary, passes=15)\n",
    "ldamodel.save('model5.gensim')"
   ]
  },
  {
   "cell_type": "code",
   "execution_count": 30,
   "id": "1d47795b",
   "metadata": {
    "colab": {
     "base_uri": "https://localhost:8080/"
    },
    "id": "kUiIVWqmKCy_",
    "outputId": "cdeca520-c206-45ef-8154-30bc831501ce"
   },
   "outputs": [
    {
     "name": "stdout",
     "output_type": "stream",
     "text": [
      "(0, '0.018*\"trump\" + 0.010*\"tulsi\" + 0.009*\"would\" + 0.009*\"try\"')\n",
      "(1, '0.017*\"party\" + 0.011*\"people\" + 0.009*\"would\" + 0.008*\"could\"')\n",
      "(2, '0.010*\"mayor\" + 0.008*\"think\" + 0.008*\"would\" + 0.008*\"mcconnell\"')\n",
      "(3, '0.018*\"trump\" + 0.017*\"people\" + 0.009*\"think\" + 0.009*\"would\"')\n",
      "(4, '0.013*\"democrat\" + 0.012*\"american\" + 0.011*\"trump\" + 0.010*\"republican\"')\n"
     ]
    }
   ],
   "source": [
    "topics = ldamodel.print_topics(num_words=4)\n",
    "for topic in topics:\n",
    "    print(topic)\n"
   ]
  },
  {
   "cell_type": "code",
   "execution_count": 31,
   "id": "8ff91617",
   "metadata": {
    "colab": {
     "base_uri": "https://localhost:8080/"
    },
    "id": "cCfjhK-0KCy_",
    "outputId": "52dadda5-ab9a-4869-f622-d5e87b54dfc2"
   },
   "outputs": [
    {
     "name": "stdout",
     "output_type": "stream",
     "text": [
      "[(57, 1), (1259, 1)]\n",
      "[(0, 0.73099244), (1, 0.067071535), (2, 0.06692692), (3, 0.067744195), (4, 0.06726497)]\n"
     ]
    }
   ],
   "source": [
    "new_doc = 'Trump is corrupt'\n",
    "new_doc = get_tokens(new_doc)\n",
    "new_doc_bow = dictionary.doc2bow(new_doc)\n",
    "print(new_doc_bow)\n",
    "print(ldamodel.get_document_topics(new_doc_bow))"
   ]
  },
  {
   "cell_type": "code",
   "execution_count": 32,
   "id": "575f997c",
   "metadata": {
    "colab": {
     "base_uri": "https://localhost:8080/"
    },
    "id": "Y1S6Faf3KCzA",
    "outputId": "e7eb3cb5-1115-4c94-9594-3e7463fca44d"
   },
   "outputs": [
    {
     "name": "stdout",
     "output_type": "stream",
     "text": [
      "(0, '0.014*\"would\" + 0.013*\"trump\" + 0.008*\"party\" + 0.008*\"people\"')\n",
      "(1, '0.015*\"people\" + 0.014*\"trump\" + 0.006*\"would\" + 0.006*\"support\"')\n",
      "(2, '0.011*\"trump\" + 0.010*\"think\" + 0.008*\"kavanaugh\" + 0.008*\"democrat\"')\n"
     ]
    }
   ],
   "source": [
    "ldamodel = gensim.models.ldamodel.LdaModel(corpus, num_topics = 3, id2word=dictionary, passes=15)\n",
    "ldamodel.save('model3.gensim')\n",
    "topics = ldamodel.print_topics(num_words=4)\n",
    "for topic in topics:\n",
    "    print(topic)"
   ]
  },
  {
   "cell_type": "code",
   "execution_count": 33,
   "id": "757aaa63",
   "metadata": {
    "colab": {
     "base_uri": "https://localhost:8080/"
    },
    "id": "AMnsBIu9KCzA",
    "outputId": "220176d5-0b84-4b65-828f-1bc6e7f4c9a0"
   },
   "outputs": [
    {
     "name": "stdout",
     "output_type": "stream",
     "text": [
      "(0, '0.023*\"democrat\" + 0.019*\"could\" + 0.011*\"reach\" + 0.009*\"friend\"')\n",
      "(1, '0.019*\"geotus\" + 0.016*\"trump\" + 0.012*\"israel\" + 0.012*\"netanyahu\"')\n",
      "(2, '0.016*\"kavanaugh\" + 0.016*\"support\" + 0.014*\"tuesday\" + 0.012*\"american\"')\n",
      "(3, '0.019*\"trump\" + 0.015*\"tulsi\" + 0.013*\"gabbard\" + 0.013*\"reason\"')\n",
      "(4, '0.016*\"party\" + 0.015*\"would\" + 0.010*\"scindia\" + 0.010*\"people\"')\n",
      "(5, '0.027*\"people\" + 0.013*\"public\" + 0.008*\"would\" + 0.008*\"conservative\"')\n",
      "(6, '0.032*\"trump\" + 0.012*\"going\" + 0.012*\"president\" + 0.009*\"think\"')\n",
      "(7, '0.030*\"trump\" + 0.019*\"people\" + 0.012*\"abortion\" + 0.012*\"think\"')\n",
      "(8, '0.018*\"people\" + 0.015*\"crowd\" + 0.011*\"billionaire\" + 0.011*\"name]s\"')\n",
      "(9, '0.018*\"would\" + 0.015*\"mayor\" + 0.010*\"think\" + 0.010*\"barney\"')\n"
     ]
    }
   ],
   "source": [
    "ldamodel = gensim.models.ldamodel.LdaModel(corpus, num_topics = 10, id2word=dictionary, passes=15)\n",
    "ldamodel.save('model10.gensim')\n",
    "topics = ldamodel.print_topics(num_words=4)\n",
    "for topic in topics:\n",
    "    print(topic)"
   ]
  },
  {
   "cell_type": "markdown",
   "id": "f7a40908",
   "metadata": {
    "id": "Wph8yHexKCzB"
   },
   "source": [
    "There are several other topic modeling techniques:\n",
    "\n",
    "- LSA\n",
    "- word-embedding based\n",
    "- hierarchical techniques"
   ]
  },
  {
   "cell_type": "markdown",
   "id": "4ce4cc6c",
   "metadata": {
    "id": "risd__-RKCzB"
   },
   "source": [
    "## Visualizing topics"
   ]
  },
  {
   "cell_type": "code",
   "execution_count": 34,
   "id": "e21262cc",
   "metadata": {
    "id": "mT0rRSZeKCzK"
   },
   "outputs": [],
   "source": [
    "dictionary = gensim.corpora.Dictionary.load('dictionary.gensim')\n",
    "corpus = pickle.load(open('corpus.pkl', 'rb'))\n",
    "lda = gensim.models.ldamodel.LdaModel.load('model5.gensim')"
   ]
  },
  {
   "cell_type": "code",
   "execution_count": 35,
   "id": "b1dc90b4",
   "metadata": {
    "colab": {
     "base_uri": "https://localhost:8080/"
    },
    "id": "4SEZATn2KCzL",
    "outputId": "268103bd-460e-471c-9805-2ecc7ff91ef7"
   },
   "outputs": [],
   "source": [
    "# !pip install pyLDAvis"
   ]
  },
  {
   "cell_type": "code",
   "execution_count": 36,
   "id": "f82f1cc5",
   "metadata": {
    "colab": {
     "base_uri": "https://localhost:8080/",
     "height": 916
    },
    "id": "vG8tTFiqKCzM",
    "outputId": "de1e95c2-625c-44d9-9045-c28e6d4e872a"
   },
   "outputs": [
    {
     "data": {
      "text/html": [
       "\n",
       "<link rel=\"stylesheet\" type=\"text/css\" href=\"https://cdn.jsdelivr.net/gh/bmabey/pyLDAvis@3.4.0/pyLDAvis/js/ldavis.v1.0.0.css\">\n",
       "\n",
       "\n",
       "<div id=\"ldavis_el2576823688629316484591130147\" style=\"background-color:white;\"></div>\n",
       "<script type=\"text/javascript\">\n",
       "\n",
       "var ldavis_el2576823688629316484591130147_data = {\"mdsDat\": {\"x\": [0.019154152962005618, -0.15322867727285738, 0.01624442035459537, 0.10539532402822956, 0.012434779928026956], \"y\": [0.04292665178800884, -0.05481562557226002, 0.023123799697494164, -0.10173649133703772, 0.09050166542379483], \"topics\": [1, 2, 3, 4, 5], \"cluster\": [1, 1, 1, 1, 1], \"Freq\": [12.862520237324912, 24.5799382367167, 9.6864103422761, 36.17609369344113, 16.69503749024116]}, \"tinfo\": {\"Term\": [\"party\", \"american\", \"democrat\", \"tulsi\", \"mayor\", \"biden\", \"sander\", \"try\", \"gabbard\", \"israel\", \"scindia\", \"mcconnell\", \"netanyahu\", \"friend\", \"think\", \"trump\", \"first\", \"bernie\", \"tuesday\", \"refuse\", \"barney\", \"kavanaugh\", \"court\", \"warren\", \"frank\", \"cheney\", \"never\", \"republican\", \"gandhi\", \"regional\", \"tulsi\", \"subpoena\", \"gorsuch\", \"gabbard\", \"refuse\", \"repeat\", \"nancy\", \"believe\", \"balance\", \"taint\", \"congressional\", \"perform\", \"prevent\", \"medicare\", \"hospital\", \"clinic\", \"prosecutor\", \"sufficient\", \"article\", \"conclusion\", \"strong\", \"solve\", \"poisoning\", \"responsible\", \"unless\", \"reelect\", \"klobuchar're\", \"o'rourke\", \"potus\", \"single\", \"try\", \"budget\", \"nonsense\", \"court\", \"terrible\", \"order\", \"twitter\", \"speech\", \"promise\", \"present\", \"overturn\", \"money\", \"thing\", \"impeachment\", \"trump\", \"without\", \"state\", \"right\", \"first\", \"would\", \"something\", \"kavanaugh\", \"think\", \"impeach\", \"reason\", \"going\", \"people\", \"government\", \"liberal\", \"scindia\", \"party\", \"tuesday\", \"regional\", \"gandhi\", \"achievments\", \"reach\", \"indian\", \"monarchy\", \"conspiracy\", \"kitagawa\", \"moment\", \"hence\", \"shutdown\", \"system\", \"fight\", \"india\", \"happen\", \"dynamic\", \"moderate\", \"obvious\", \"replace\", \"theory\", \"realize\", \"words\", \"sound\", \"behind\", \"senatesupport\", \"richard\", \"reservation\", \"person\", \"absolute\", \"argument\", \"enough\", \"criminal\", \"need\", \"could\", \"report\", \"leader\", \"politics\", \"terms\", \"context\", \"congress\", \"someone\", \"people\", \"would\", \"position\", \"trump\", \"nothing\", \"power\", \"better\", \"president\", \"mueller\", \"mayor\", \"mcconnell\", \"netanyahu\", \"cheney\", \"frank\", \"schumer\", \"criticize\", \"chuck\", \"manchin\", \"corporate\", \"prejudice\", \"semitic\", \"pretend\", \"magnitude\", \"accessible\", \"hypocritical\", \"warren\", \"barney\", \"israel\", \"putting\", \"stonewall\", \"trumpurl\\\\n\\\\nafter\", \"fine.\\\\n\\\\nfuck\", \"documentary\", \"40,000\", \"wringer\", \"infuriatingly\", \"drop\", \"night\", \"turtle\", \"policy\", \"wrong\", \"deserve\", \"mitch\", \"email\", \"justice\", \"nominee\", \"really\", \"think\", \"never\", \"attention\", \"would\", \"people\", \"trump\", \"house\", \"getting\", \"mueller\", \"position\", \"favor\", \"voter\", \"geotus\", \"screaming\", \"protestors\", \"immigration\", \"muller\", \"indictment\", \"obama\", \"public\", \"look\", \"donnelly\", \"prove\", \"sondland\", \"conservative\", \"russian\", \"collins\", \"murkowski\", \"heitcamp\", \"crowd\", \"protester\", \"school\", \"thank\", \"several\", \"testify\", \"current\", \"trash\", \"center\", \"michigan\", \"sample\", \"child\", \"ukraine\", \"hearing\", \"abortion\", \"national\", \"people\", \"allow\", \"trump\", \"think\", \"support\", \"first\", \"still\", \"would\", \"actually\", \"president\", \"never\", \"campaign\", \"kavanaugh\", \"election\", \"history\", \"american\", \"republican\", \"right\", \"democrat\", \"sander\", \"friend\", \"poll\", \"experience\", \"redneck\", \"appeal\", \"cortez\", \"ocasio\", \"bernie\", \"primary\", \"compare\", \"megathread\", \"general\", \"attorney\", \"canadian\", \"nationally\", \"minimum\", \"concern\", \"supporting\", \"defend\", \"involve\", \"others\", \"benefit\", \"determination\", \"attack\", \"warrantless\", \"include\", \"facebook\", \"biden\", \"especially\", \"democrat\", \"american\", \"super\", \"pocket\", \"republican\", \"making\", \"kavanaugh\", \"popular\", \"anything\", \"trump\", \"years\", \"going\", \"place\", \"point\", \"would\", \"court\", \"without\", \"right\", \"think\", \"president\"], \"Freq\": [15.0, 13.0, 14.0, 4.0, 3.0, 7.0, 5.0, 6.0, 4.0, 4.0, 6.0, 3.0, 3.0, 4.0, 19.0, 42.0, 8.0, 5.0, 5.0, 4.0, 3.0, 13.0, 6.0, 3.0, 2.0, 2.0, 7.0, 13.0, 4.0, 4.0, 4.176725378257586, 1.8566074290723433, 1.856311442346859, 3.5970066379230707, 2.9458053438857075, 1.2765756935281178, 1.2764785301182329, 1.2765307285698209, 1.2762240871042183, 1.2762327868461498, 1.276276481055625, 1.2762269218515894, 1.2761503836725754, 1.2761696404047154, 1.2761387514333637, 1.2761255551956028, 1.2758803984229756, 1.2757624142824011, 1.85862655119969, 0.6964620435598644, 0.696461799185091, 0.6964615548103177, 0.6964613104355443, 0.6964588666878108, 0.6964587200629467, 0.6964586711879921, 0.6964584756881734, 0.6964582313134001, 0.696457204939352, 0.6964568139397146, 3.6002042329574317, 1.2758762929267833, 1.2762650443162322, 3.0195815014613308, 1.2793594154463293, 1.8567585504321846, 1.279587856984459, 1.2785275637178377, 1.2775286573942826, 1.277144304750754, 1.2767190926451208, 2.43815487471081, 2.4375097253091598, 1.8604490005094427, 7.670710649728773, 2.4384070694769093, 2.4388969920225265, 3.0204802141278115, 2.438639518761322, 3.6010225951984345, 1.8596398267599183, 2.4392015807400327, 2.4398426246454905, 1.8599299484908423, 1.859656053244869, 1.858386868421986, 1.8539406160457037, 1.2782075305146554, 1.2777005017349041, 5.930345684190337, 13.880065087571179, 5.214950080254492, 4.48456771220619, 4.484585644767012, 3.7662214548249953, 3.7628665715711036, 3.7608697062045056, 3.7606858974560744, 3.041299925142187, 2.315962023812779, 2.315650819163504, 2.3149613495593777, 2.3144902462427677, 2.314755872299952, 2.314753817527358, 2.3145483402679323, 2.314467083351705, 2.3142593645221767, 1.5935135063459103, 1.5935108911807905, 1.593471663703991, 1.59343785335494, 1.593403669410872, 1.5926400411958437, 1.592582694360713, 1.5924980750893316, 1.5923912269144305, 1.5923256609889227, 1.5922145164713246, 3.7609672145039785, 3.0376254313511346, 3.038338437441341, 5.211414750607323, 3.0411207863314695, 4.492476718718983, 6.664430752453486, 2.3201843946964633, 2.3160675644051207, 2.3145380664049613, 2.31433595150069, 3.0405284514317987, 3.0404796972820622, 3.764965054782363, 8.839172178610848, 7.384228800071275, 3.7631463942389396, 5.92636913882793, 3.0431848988011523, 3.037121264875508, 3.0400119563206065, 3.0408319973832225, 2.3195205163510106, 3.1844986988107102, 2.6720384007700133, 2.6695308554020074, 2.1572472280072477, 2.157329085406532, 1.6442689905228773, 1.6429471996401883, 1.1304187361752671, 1.1304182208858833, 1.130107648612879, 1.1300021615147005, 1.12944285169477, 1.129281050828199, 1.1287868146961888, 1.128760682163144, 1.1286037397393363, 2.157876175506785, 2.1576556316504396, 2.6704371758156666, 0.6165812168367184, 0.6165811800303339, 0.6165811064175647, 0.6165811064175647, 0.6165811064175647, 0.6165811064175647, 0.6165810328047956, 0.6165809223856419, 0.6165808119664882, 0.6165808119664882, 0.6165804439026424, 1.1310219928183745, 1.1293406035584337, 1.1310454752917305, 1.1306760128034137, 1.1269625430513461, 1.1302043021787607, 1.6446875527282108, 1.645132615530435, 2.673548640341702, 1.6447184700912498, 1.1331670689111322, 2.6734326266175366, 2.1611127817403597, 1.6388823025282435, 1.1315731316209303, 1.1313182106013964, 1.1313171064098593, 1.1311618570797417, 1.1300670879770824, 6.410291521290972, 6.407355337649725, 5.625308323274696, 5.624363685915958, 4.846233782451088, 4.846271172055507, 4.8461985922351625, 4.844815176871609, 4.066126353805366, 4.065286737247279, 4.064140580917657, 3.284699292062454, 3.2845084951104853, 3.284342716202651, 3.284178311912626, 3.281788676312465, 3.2816778821170134, 3.2816316949586115, 3.2816916282951087, 3.280724997051417, 2.5025807975613277, 2.5025530302815744, 2.502463130276828, 2.5024485593280468, 2.5023339162027285, 2.5023077984643463, 2.502205801822876, 2.5022266960135817, 2.5021829831672373, 2.502051569704642, 4.849039102476864, 5.626374476847801, 5.6287426684101325, 4.064676132016267, 20.4986152889043, 4.844958686970927, 21.27717462297288, 11.106462126400865, 6.410254681533676, 5.627439530726657, 4.8559963181346735, 11.0981099485899, 4.850513792462973, 6.416018728932777, 4.847908066943147, 4.079397738909667, 6.4047628084608705, 4.848324851063009, 4.0639291646985445, 5.6270546377399775, 5.62168593042291, 4.847779952563295, 4.832190137061368, 4.5683347871963695, 3.933062672213253, 2.0304083179221997, 2.0297202722059673, 2.0286816695445107, 2.028154501934157, 2.0197410083733005, 2.019546635141276, 3.935017823326501, 1.395878297608868, 1.3958762676012229, 1.3958752525974, 1.3958742375935775, 1.395873856967144, 1.3958708119556764, 1.395829577425384, 1.3957844097552792, 1.3957868203893578, 1.3956988956832266, 1.395664131802303, 1.3955894021458657, 1.3955446151021942, 1.3951466067282643, 1.3951724893257402, 1.3947737196989434, 1.394258859009939, 2.663837439714464, 2.6644116781270895, 5.207551207034038, 2.03007032164928, 7.120764392340453, 6.4724200431263075, 2.031409111691265, 2.030267105515383, 5.213966538694666, 2.669146417208477, 3.936883907854317, 2.031184415220041, 2.6667824733056844, 5.843256221147486, 2.029863768371385, 2.667107274528911, 2.032968538189184, 2.0337551661516846, 3.3053541119650585, 2.0296772614189855, 2.0304850775862824, 2.031503887673199, 2.0300543353390745, 2.0286106192769298], \"Total\": [15.0, 13.0, 14.0, 4.0, 3.0, 7.0, 5.0, 6.0, 4.0, 4.0, 6.0, 3.0, 3.0, 4.0, 19.0, 42.0, 8.0, 5.0, 5.0, 4.0, 3.0, 13.0, 6.0, 3.0, 2.0, 2.0, 7.0, 13.0, 4.0, 4.0, 4.7109500701784075, 2.388598252791363, 2.3885822072986636, 4.854424575529303, 4.087663407987021, 1.8079432581231654, 1.8079502794497646, 1.8080282608829388, 1.8080329730771694, 1.8080464757602481, 1.8081116940135784, 1.808059467797124, 1.8079690908304082, 1.8080644228418588, 1.8080653651544853, 1.8080535834144518, 1.80824742729827, 1.8082921119798339, 3.1698104874799595, 1.2274442987106968, 1.2274443102633812, 1.2274442382944026, 1.227444233472782, 1.2274431997024047, 1.2274431992882455, 1.2274432602269705, 1.2274433441211041, 1.2274431272020045, 1.2274426921191506, 1.227442712128245, 6.989367935734509, 2.3219581598470516, 2.442672871645255, 6.958630948891749, 2.5315901242731425, 3.952600454863754, 2.5888510813655063, 2.5891753464335325, 2.5894573645405417, 2.589728517794016, 2.589723808989574, 5.9492289841035575, 6.315956866580151, 4.5859356089779615, 42.35639293520531, 7.160417017077252, 7.245333428725478, 11.383179115618898, 8.442605004608778, 28.062148082442206, 5.76698226996561, 13.54537371164227, 19.11422549619792, 7.541445062678504, 8.112874793261689, 10.074495416621183, 35.37580146579974, 5.096039275481233, 4.877894269097052, 6.440972973268889, 15.188530509996593, 5.717659227511699, 4.992547487732775, 4.992567869382658, 4.268895076375714, 4.2680244529842835, 4.268206784326182, 4.268252166500503, 3.544472713461421, 2.819673188267698, 2.819877638578651, 2.8197433980655076, 2.819211569735243, 2.8197610148542216, 2.819780887067623, 2.8196930646767098, 2.8197541204205776, 2.819755213665725, 2.0957166783348904, 2.095715988475286, 2.0957226842521903, 2.095713289695627, 2.095708945153802, 2.095494576826151, 2.095493800058408, 2.0955961338786304, 2.0954633245908694, 2.0954596408933717, 2.095419592484359, 5.049863939420779, 4.057867670506284, 4.178443735443345, 7.659772688942202, 4.326290716059979, 7.191557281590192, 11.709222609474496, 3.4009476244648758, 3.4003392621753092, 3.400224799676362, 3.4001874076356353, 5.107881106863197, 5.339677138372495, 7.912757562974431, 35.37580146579974, 28.062148082442206, 8.128634098252961, 42.35639293520531, 6.525310928917438, 7.104717688244342, 7.887411003417138, 12.285390113614625, 5.264013622947199, 3.7306474940380907, 3.2163420708943793, 3.216930504225166, 2.7025986554557835, 2.7027324663204517, 2.188639143791851, 2.188934642447195, 1.6747665268710181, 1.6747664700432998, 1.6748907222143377, 1.6748761978136817, 1.674984726638409, 1.6750225717010274, 1.6754689550295017, 1.6755316660402437, 1.6755780479788673, 3.3372023921587117, 3.4843688794462233, 4.63287791512142, 1.1608789283530787, 1.160878908169863, 1.1608788901903184, 1.1608788920367283, 1.1608788942702626, 1.1608789069128054, 1.1608788734815396, 1.160878867654439, 1.1608788689202107, 1.1608788727078503, 1.1608788470221798, 2.3090967930357706, 2.309678025243892, 2.4563531322615395, 2.456401674769394, 2.458349829047119, 2.835769043307565, 5.168625497359946, 5.547493345806532, 19.11422549619792, 7.515336844100979, 3.8143531591781348, 28.062148082442206, 35.37580146579974, 42.35639293520531, 5.75602179083853, 5.96337537162117, 5.264013622947199, 8.128634098252961, 4.020285870166972, 6.9035529280664365, 6.902542590886253, 6.120201868061076, 6.1200023163707185, 5.33880322768834, 5.339049672016534, 5.33905428694928, 5.338818311304816, 4.557391768888323, 4.557173572564426, 4.556847832444299, 3.775354036893922, 3.775341179138411, 3.775325914600255, 3.7752464478094248, 3.7747249886496546, 3.774697750661896, 3.7746765213726783, 3.7751327557310987, 3.7743473922326927, 2.9932368493652417, 2.9932236299080883, 2.9932311564607206, 2.9932302176815577, 2.9931882561235588, 2.9931958123484717, 2.993109405712003, 2.9931738499490126, 2.99316574707476, 2.99313618076215, 5.974046700243968, 7.268802506810035, 7.281999047809884, 5.19159975159614, 35.37580146579974, 6.607534812097532, 42.35639293520531, 19.11422549619792, 9.621020626500352, 8.442605004608778, 7.125248301401323, 28.062148082442206, 7.27887736250802, 12.285390113614625, 7.515336844100979, 5.589498196575495, 13.54537371164227, 8.146434038264491, 6.005396665757725, 13.046610144260573, 13.882094738157704, 11.383179115618898, 14.278687133821244, 5.088668159168014, 4.454283103723074, 2.5505737081955444, 2.550733104513051, 2.5505201466790735, 2.55071437963338, 2.552091299797649, 2.5521333950564697, 5.235786298717967, 1.9160430482674142, 1.9160424477783975, 1.9160420403607206, 1.9160418245117916, 1.9160418043199363, 1.9160406747225287, 1.9160390574220818, 1.9160355876040016, 1.916061062241267, 1.9160667373245763, 1.9160588567229664, 1.9160816110809415, 1.9160741346095096, 1.916033832640721, 1.9160907024030585, 1.9161979227358188, 1.916187811197884, 3.765718541007722, 3.9094324335409354, 7.664823738013268, 3.1310354579540167, 14.278687133821244, 13.046610144260573, 3.274676247675509, 3.3323678294517634, 13.882094738157704, 5.205353393928796, 13.54537371164227, 3.912746482275802, 6.768986153449292, 42.35639293520531, 4.49342741355704, 10.074495416621183, 5.562647709514966, 5.935158438683162, 28.062148082442206, 6.958630948891749, 7.160417017077252, 11.383179115618898, 19.11422549619792, 12.285390113614625], \"Category\": [\"Default\", \"Default\", \"Default\", \"Default\", \"Default\", \"Default\", \"Default\", \"Default\", \"Default\", \"Default\", \"Default\", \"Default\", \"Default\", \"Default\", \"Default\", \"Default\", \"Default\", \"Default\", \"Default\", \"Default\", \"Default\", \"Default\", \"Default\", \"Default\", \"Default\", \"Default\", \"Default\", \"Default\", \"Default\", \"Default\", \"Topic1\", \"Topic1\", \"Topic1\", \"Topic1\", \"Topic1\", \"Topic1\", \"Topic1\", \"Topic1\", \"Topic1\", \"Topic1\", \"Topic1\", \"Topic1\", \"Topic1\", \"Topic1\", \"Topic1\", \"Topic1\", \"Topic1\", \"Topic1\", \"Topic1\", \"Topic1\", \"Topic1\", \"Topic1\", \"Topic1\", \"Topic1\", \"Topic1\", \"Topic1\", \"Topic1\", \"Topic1\", \"Topic1\", \"Topic1\", \"Topic1\", \"Topic1\", \"Topic1\", \"Topic1\", \"Topic1\", \"Topic1\", \"Topic1\", \"Topic1\", \"Topic1\", \"Topic1\", \"Topic1\", \"Topic1\", \"Topic1\", \"Topic1\", \"Topic1\", \"Topic1\", \"Topic1\", \"Topic1\", \"Topic1\", \"Topic1\", \"Topic1\", \"Topic1\", \"Topic1\", \"Topic1\", \"Topic1\", \"Topic1\", \"Topic1\", \"Topic1\", \"Topic1\", \"Topic2\", \"Topic2\", \"Topic2\", \"Topic2\", \"Topic2\", \"Topic2\", \"Topic2\", \"Topic2\", \"Topic2\", \"Topic2\", \"Topic2\", \"Topic2\", \"Topic2\", \"Topic2\", \"Topic2\", \"Topic2\", \"Topic2\", \"Topic2\", \"Topic2\", \"Topic2\", \"Topic2\", \"Topic2\", \"Topic2\", \"Topic2\", \"Topic2\", \"Topic2\", \"Topic2\", \"Topic2\", \"Topic2\", \"Topic2\", \"Topic2\", \"Topic2\", \"Topic2\", \"Topic2\", \"Topic2\", \"Topic2\", \"Topic2\", \"Topic2\", \"Topic2\", \"Topic2\", \"Topic2\", \"Topic2\", \"Topic2\", \"Topic2\", \"Topic2\", \"Topic2\", \"Topic2\", \"Topic2\", \"Topic2\", \"Topic2\", \"Topic2\", \"Topic2\", \"Topic2\", \"Topic3\", \"Topic3\", \"Topic3\", \"Topic3\", \"Topic3\", \"Topic3\", \"Topic3\", \"Topic3\", \"Topic3\", \"Topic3\", \"Topic3\", \"Topic3\", \"Topic3\", \"Topic3\", \"Topic3\", \"Topic3\", \"Topic3\", \"Topic3\", \"Topic3\", \"Topic3\", \"Topic3\", \"Topic3\", \"Topic3\", \"Topic3\", \"Topic3\", \"Topic3\", \"Topic3\", \"Topic3\", \"Topic3\", \"Topic3\", \"Topic3\", \"Topic3\", \"Topic3\", \"Topic3\", \"Topic3\", \"Topic3\", \"Topic3\", \"Topic3\", \"Topic3\", \"Topic3\", \"Topic3\", \"Topic3\", \"Topic3\", \"Topic3\", \"Topic3\", \"Topic3\", \"Topic3\", \"Topic3\", \"Topic3\", \"Topic4\", \"Topic4\", \"Topic4\", \"Topic4\", \"Topic4\", \"Topic4\", \"Topic4\", \"Topic4\", \"Topic4\", \"Topic4\", \"Topic4\", \"Topic4\", \"Topic4\", \"Topic4\", \"Topic4\", \"Topic4\", \"Topic4\", \"Topic4\", \"Topic4\", \"Topic4\", \"Topic4\", \"Topic4\", \"Topic4\", \"Topic4\", \"Topic4\", \"Topic4\", \"Topic4\", \"Topic4\", \"Topic4\", \"Topic4\", \"Topic4\", \"Topic4\", \"Topic4\", \"Topic4\", \"Topic4\", \"Topic4\", \"Topic4\", \"Topic4\", \"Topic4\", \"Topic4\", \"Topic4\", \"Topic4\", \"Topic4\", \"Topic4\", \"Topic4\", \"Topic4\", \"Topic4\", \"Topic4\", \"Topic4\", \"Topic4\", \"Topic4\", \"Topic4\", \"Topic4\", \"Topic5\", \"Topic5\", \"Topic5\", \"Topic5\", \"Topic5\", \"Topic5\", \"Topic5\", \"Topic5\", \"Topic5\", \"Topic5\", \"Topic5\", \"Topic5\", \"Topic5\", \"Topic5\", \"Topic5\", \"Topic5\", \"Topic5\", \"Topic5\", \"Topic5\", \"Topic5\", \"Topic5\", \"Topic5\", \"Topic5\", \"Topic5\", \"Topic5\", \"Topic5\", \"Topic5\", \"Topic5\", \"Topic5\", \"Topic5\", \"Topic5\", \"Topic5\", \"Topic5\", \"Topic5\", \"Topic5\", \"Topic5\", \"Topic5\", \"Topic5\", \"Topic5\", \"Topic5\", \"Topic5\", \"Topic5\", \"Topic5\", \"Topic5\", \"Topic5\", \"Topic5\", \"Topic5\", \"Topic5\", \"Topic5\", \"Topic5\"], \"logprob\": [30.0, 29.0, 28.0, 27.0, 26.0, 25.0, 24.0, 23.0, 22.0, 21.0, 20.0, 19.0, 18.0, 17.0, 16.0, 15.0, 14.0, 13.0, 12.0, 11.0, 10.0, 9.0, 8.0, 7.0, 6.0, 5.0, 4.0, 3.0, 2.0, 1.0, -4.6103, -5.4211, -5.4213, -4.7598, -4.9595, -5.7957, -5.7958, -5.7957, -5.796, -5.7959, -5.7959, -5.7959, -5.796, -5.796, -5.796, -5.796, -5.7962, -5.7963, -5.42, -6.4016, -6.4016, -6.4016, -6.4016, -6.4016, -6.4016, -6.4016, -6.4016, -6.4016, -6.4016, -6.4016, -4.7589, -5.7962, -5.7959, -4.9347, -5.7935, -5.421, -5.7933, -5.7941, -5.7949, -5.7952, -5.7956, -5.1486, -5.1489, -5.419, -4.0024, -5.1485, -5.1483, -4.9344, -5.1484, -4.7586, -5.4195, -5.1482, -5.1479, -5.4193, -5.4195, -5.4201, -5.4225, -5.7944, -5.7948, -4.9074, -4.057, -5.0359, -5.1868, -5.1868, -5.3614, -5.3623, -5.3628, -5.3629, -5.5752, -5.8476, -5.8478, -5.8481, -5.8483, -5.8482, -5.8482, -5.8483, -5.8483, -5.8484, -6.2215, -6.2215, -6.2216, -6.2216, -6.2216, -6.2221, -6.2221, -6.2222, -6.2222, -6.2223, -6.2223, -5.3628, -5.5764, -5.5762, -5.0366, -5.5752, -5.1851, -4.7907, -5.8458, -5.8476, -5.8483, -5.8483, -5.5754, -5.5755, -5.3617, -4.5083, -4.6881, -5.3622, -4.9081, -5.5746, -5.5766, -5.5756, -5.5753, -5.8461, -4.598, -4.7734, -4.7744, -4.9874, -4.9874, -5.259, -5.2598, -5.6337, -5.6337, -5.6339, -5.634, -5.6345, -5.6347, -5.6351, -5.6351, -5.6353, -4.9871, -4.9872, -4.774, -6.2398, -6.2398, -6.2398, -6.2398, -6.2398, -6.2398, -6.2398, -6.2398, -6.2398, -6.2398, -6.2398, -5.6331, -5.6346, -5.6331, -5.6334, -5.6367, -5.6339, -5.2587, -5.2584, -4.7729, -5.2587, -5.6312, -4.7729, -4.9856, -5.2622, -5.6327, -5.6329, -5.6329, -5.633, -5.634, -5.216, -5.2165, -5.3467, -5.3468, -5.4957, -5.4957, -5.4957, -5.496, -5.6712, -5.6715, -5.6717, -5.8847, -5.8847, -5.8848, -5.8848, -5.8855, -5.8856, -5.8856, -5.8856, -5.8859, -6.1566, -6.1566, -6.1567, -6.1567, -6.1567, -6.1567, -6.1568, -6.1568, -6.1568, -6.1568, -5.4952, -5.3465, -5.3461, -5.6716, -4.0536, -5.496, -4.0163, -4.6664, -5.216, -5.3463, -5.4937, -4.6672, -5.4949, -5.2151, -5.4954, -5.668, -5.2169, -5.4953, -5.6718, -5.3464, -5.3473, -5.4954, -5.4986, -4.7815, -4.9312, -5.5924, -5.5928, -5.5933, -5.5935, -5.5977, -5.5978, -4.9307, -5.9671, -5.9671, -5.9671, -5.9671, -5.9671, -5.9671, -5.9672, -5.9672, -5.9672, -5.9673, -5.9673, -5.9673, -5.9674, -5.9677, -5.9676, -5.9679, -5.9683, -5.3209, -5.3207, -4.6505, -5.5926, -4.3376, -4.4331, -5.5919, -5.5925, -4.6493, -5.3189, -4.9303, -5.592, -5.3198, -4.5354, -5.5927, -5.3197, -5.5912, -5.5908, -5.1051, -5.5928, -5.5924, -5.5919, -5.5926, -5.5933], \"loglift\": [30.0, 29.0, 28.0, 27.0, 26.0, 25.0, 24.0, 23.0, 22.0, 21.0, 20.0, 19.0, 18.0, 17.0, 16.0, 15.0, 14.0, 13.0, 12.0, 11.0, 10.0, 9.0, 8.0, 7.0, 6.0, 5.0, 4.0, 3.0, 2.0, 1.0, 1.9305, 1.7989, 1.7987, 1.7511, 1.7233, 1.7028, 1.7028, 1.7028, 1.7025, 1.7025, 1.7025, 1.7025, 1.7025, 1.7025, 1.7024, 1.7024, 1.7021, 1.702, 1.517, 1.4842, 1.4842, 1.4842, 1.4842, 1.4842, 1.4842, 1.4842, 1.4842, 1.4842, 1.4842, 1.4842, 1.3875, 1.4521, 1.4017, 1.216, 1.3684, 1.2953, 1.3462, 1.3452, 1.3443, 1.3439, 1.3436, 1.1588, 1.0988, 1.1487, 0.3421, 0.9736, 0.962, 0.7241, 0.809, -0.0024, 0.9191, 0.3365, -0.0076, 0.651, 0.5778, 0.3606, -0.8979, 0.6678, 0.7112, 1.3206, 1.3132, 1.3112, 1.2959, 1.2959, 1.278, 1.2773, 1.2767, 1.2766, 1.2501, 1.2064, 1.2062, 1.206, 1.206, 1.2059, 1.2059, 1.2058, 1.2058, 1.2057, 1.1293, 1.1293, 1.1293, 1.1292, 1.1292, 1.1288, 1.1288, 1.1287, 1.1287, 1.1287, 1.1286, 1.1086, 1.1137, 1.0846, 1.0181, 1.0508, 0.9327, 0.8396, 1.0208, 1.0192, 1.0186, 1.0185, 0.8845, 0.8401, 0.6605, 0.0164, 0.0682, 0.6331, -0.5635, 0.6405, 0.5534, 0.4498, 0.007, 0.5837, 2.1762, 2.149, 2.1479, 2.1091, 2.1091, 2.0485, 2.0475, 1.9414, 1.9414, 1.941, 1.9409, 1.9404, 1.9402, 1.9395, 1.9394, 1.9393, 1.8984, 1.8552, 1.7835, 1.7017, 1.7017, 1.7017, 1.7017, 1.7017, 1.7017, 1.7017, 1.7017, 1.7017, 1.7017, 1.7017, 1.6207, 1.619, 1.5589, 1.5586, 1.5545, 1.4145, 1.1894, 1.1189, 0.3674, 0.8151, 1.1207, -0.0166, -0.461, -0.9177, 0.7078, 0.6722, 0.7969, 0.3623, 1.0654, 0.9426, 0.9423, 0.9325, 0.9323, 0.92, 0.9199, 0.9199, 0.9197, 0.9027, 0.9026, 0.9023, 0.8776, 0.8775, 0.8775, 0.8774, 0.8768, 0.8768, 0.8768, 0.8767, 0.8766, 0.8377, 0.8377, 0.8377, 0.8377, 0.8377, 0.8376, 0.8376, 0.8376, 0.8376, 0.8376, 0.8081, 0.7606, 0.7593, 0.7721, 0.4711, 0.7065, 0.3283, 0.4739, 0.6107, 0.6111, 0.6333, 0.0891, 0.6109, 0.3672, 0.5784, 0.7018, 0.2678, 0.4978, 0.6263, 0.1758, 0.1128, 0.1632, -0.0667, 1.6822, 1.6656, 1.562, 1.5616, 1.5611, 1.5608, 1.5561, 1.556, 1.5045, 1.4733, 1.4733, 1.4733, 1.4733, 1.4733, 1.4733, 1.4733, 1.4733, 1.4732, 1.4732, 1.4732, 1.4731, 1.4731, 1.4728, 1.4728, 1.4724, 1.4721, 1.4439, 1.4066, 1.4035, 1.3568, 1.0943, 1.0891, 1.3126, 1.2945, 0.8108, 1.1221, 0.5544, 1.1344, 0.8586, -0.1908, 0.9954, 0.461, 0.7835, 0.719, -0.3488, 0.558, 0.5298, 0.0667, -0.4523, -0.011]}, \"token.table\": {\"Topic\": [3, 1, 4, 2, 3, 3, 2, 1, 2, 4, 5, 4, 5, 1, 4, 5, 2, 3, 4, 5, 5, 2, 5, 1, 4, 5, 2, 3, 4, 5, 5, 1, 3, 4, 2, 1, 5, 4, 5, 1, 2, 4, 5, 1, 4, 5, 1, 3, 3, 4, 5, 4, 3, 4, 3, 1, 4, 5, 5, 1, 1, 2, 5, 1, 4, 2, 2, 4, 3, 5, 2, 4, 5, 1, 2, 4, 5, 2, 4, 3, 4, 4, 5, 2, 3, 4, 5, 3, 4, 5, 3, 4, 3, 2, 2, 4, 5, 3, 4, 1, 2, 4, 1, 5, 5, 2, 5, 3, 4, 2, 3, 1, 4, 3, 5, 1, 2, 2, 5, 4, 1, 3, 4, 1, 2, 3, 4, 5, 1, 1, 2, 3, 4, 5, 2, 3, 4, 5, 4, 2, 2, 4, 1, 1, 2, 3, 4, 5, 3, 4, 1, 2, 4, 5, 1, 4, 5, 1, 5, 2, 2, 4, 3, 5, 3, 4, 5, 1, 3, 1, 3, 4, 5, 2, 1, 1, 2, 1, 2, 4, 4, 3, 2, 3, 4, 5, 3, 3, 3, 1, 5, 4, 5, 3, 4, 2, 2, 2, 1, 4, 5, 2, 3, 4, 5, 4, 4, 1, 4, 5, 5, 2, 4, 5, 3, 3, 4, 5, 3, 3, 4, 5, 1, 5, 2, 4, 5, 1, 4, 2, 5, 1, 4, 5, 1, 4, 2, 4, 1, 2, 3, 4, 5, 1, 2, 4, 2, 4, 5, 4, 5, 1, 2, 3, 4, 5, 1, 3, 5, 1, 2, 5, 1, 4, 5, 2, 3, 4, 5, 1, 1, 2, 4, 5, 3, 1, 4, 1, 2, 4, 5, 3, 1, 5, 1, 4, 1, 4, 4, 4, 4, 3, 2, 2, 1, 3, 4, 5, 1, 2, 3, 4, 5, 5, 1, 1, 3, 2, 1, 2, 1, 2, 2, 3, 4, 5, 2, 1, 2, 1, 2, 3, 4, 5, 4, 4, 5, 4, 3, 2, 4, 3, 2, 4, 2, 1, 1, 2, 3, 4, 1, 2, 3, 4, 5, 4, 2, 1, 4, 1, 3, 4, 5, 3, 4, 5, 3, 1, 1, 1, 2, 5, 2, 4, 5, 5, 2, 1, 1, 2, 1, 2, 4, 4, 2, 1, 3, 4, 5, 1, 2, 3, 4, 5, 4, 1, 2, 3, 4, 5, 3, 1, 3, 4, 2, 1, 3, 1, 4, 4, 5, 1, 4, 5, 3, 5, 1, 2, 4, 5, 2, 1, 2, 3, 4, 5, 3, 3, 5, 1, 4, 5], \"Freq\": [0.8614162890248043, 0.1373249286953364, 0.8239495721720185, 0.7393045420886536, 0.24643484736288454, 0.5968254854671194, 0.9370106147926208, 0.13738382310860073, 0.13738382310860073, 0.6869191155430037, 0.13738382310860073, 0.7567118664052521, 0.15134237328105044, 0.0766482625710953, 0.45988957542657183, 0.45988957542657183, 0.14773261125529516, 0.14773261125529516, 0.44319783376588545, 0.44319783376588545, 0.78409406242006, 0.7179706584422134, 0.2393235528140711, 0.6309525468161429, 0.31547627340807144, 0.5218667592397069, 0.26216764894823386, 0.26216764894823386, 0.26216764894823386, 0.26216764894823386, 0.5219092807606729, 0.5530872583026275, 0.5739920396481855, 0.28699601982409273, 0.9543823677028376, 0.5530886997925887, 0.5219114521698072, 0.1909932802728904, 0.7639731210915616, 0.12678431484891056, 0.3803529445467317, 0.3803529445467317, 0.12678431484891056, 0.13046614432117407, 0.13046614432117407, 0.6523307216058704, 0.43067098162779577, 0.43067098162779577, 0.17890693669293384, 0.7156277467717354, 0.5219095884510985, 1.002302152495611, 0.7400284892329702, 1.0022931864183013, 0.5970981530591666, 0.5530809535586505, 0.7947598855600869, 0.5219091054895337, 0.5219040351617362, 0.81470092048201, 0.18727724056829298, 0.5618317217048789, 0.18727724056829298, 0.5530631781824482, 0.7946333820871332, 0.8463882338849477, 0.5873276877899632, 0.3915517918599755, 0.5970538774481484, 0.7836710231168362, 0.5978193628615416, 0.34161106449230944, 0.08540276612307736, 0.4311192851056124, 0.14370642836853748, 0.14370642836853748, 0.28741285673707495, 0.6934346757751285, 0.23114489192504284, 0.913686485295893, 0.7946740403885518, 1.0022757485642628, 0.5219046359099319, 0.1400688999804958, 0.0700344499902479, 0.3501722499512395, 0.4902411499317353, 0.40710758842695804, 0.40710758842695804, 0.5218959617860749, 0.8614162984060518, 0.8777997745547705, 0.861416317216755, 0.7092814263830971, 0.2455061921088209, 0.6137654802720524, 0.12275309605441045, 0.40677693149457494, 0.40677693149457494, 0.13055217701742242, 0.652760885087112, 0.13055217701742242, 0.3193831604364687, 0.6387663208729374, 0.7840883064015477, 0.2557916058148263, 0.7673748174444789, 0.24873853061560214, 0.4974770612312043, 0.7092749685525607, 0.8614163000634192, 0.23689370744079696, 0.7106811223223909, 0.7399918508112036, 0.8980120721686133, 0.8239905549596183, 0.20599763873990456, 0.8011909111001447, 0.5219092752606277, 0.8692449080896767, 0.16769026561011965, 0.16769026561011965, 0.5030707968303589, 0.19852110872970813, 0.09926055436485406, 0.09926055436485406, 0.39704221745941626, 0.2977816630945622, 0.8373167956659421, 0.19623082671504083, 0.19623082671504083, 0.19623082671504083, 0.19623082671504083, 0.19623082671504083, 0.7092817013781656, 0.1375742426710747, 0.8254454560264484, 0.1375742426710747, 0.7947700903676472, 0.7092843984924675, 0.3330337879933618, 0.6660675759867236, 0.5530773495650461, 0.17373110046102191, 0.17373110046102191, 0.17373110046102191, 0.34746220092204383, 0.17373110046102191, 0.5968089646472929, 0.9365394802469543, 0.26520116282457645, 0.26520116282457645, 0.39780174423686465, 0.13260058141228823, 0.4361160231043295, 0.4361160231043295, 0.21805801155216475, 0.2655535694211485, 0.7966607082634454, 0.7092970596887676, 0.9371617173490521, 0.9364954411911375, 0.8614163181560058, 0.5218984380502761, 0.6475456627527761, 0.2158485542509254, 0.2158485542509254, 0.35263802683790735, 0.35263802683790735, 0.1476518878383545, 0.07382594391917725, 0.4429556635150635, 0.295303775676709, 0.7093020596577454, 0.8147015540794983, 0.294088302047916, 0.588176604095832, 0.20500649354687842, 0.20500649354687842, 0.6150194806406353, 0.8777370307071952, 0.5968478240066178, 0.19210991537411054, 0.19210991537411054, 0.19210991537411054, 0.5763297461223316, 0.597098173319738, 0.8041499511262507, 0.9327366100601917, 0.5530776378134975, 0.5219092164656975, 1.0022805725270865, 0.5219109741330524, 0.40709954331629394, 0.40709954331629394, 0.9543274721605307, 0.7092506329487732, 0.9371517529807898, 0.33617801657055635, 0.5042670248558345, 0.16808900828527817, 0.3799382264668697, 0.18996911323343485, 0.18996911323343485, 0.18996911323343485, 0.9364962506729261, 0.79476562049874, 0.5531125558963613, 0.7704754201766446, 0.19261885504416115, 0.5219100289873221, 0.556207764657549, 0.2781038823287745, 0.13905194116438724, 0.9325659960822137, 0.26612246948982227, 0.6653061737245557, 0.13306123474491113, 0.8614163144061823, 0.386950070385554, 0.5804251055783309, 0.193475035192777, 0.4093876063422496, 0.4093876063422496, 0.4597482070479216, 0.4597482070479216, 0.1532494023493072, 0.814701698057108, 0.9365368342677298, 0.954327786302321, 0.7836580971331818, 0.5059959950009518, 0.5059959950009518, 0.5219004744844057, 0.3861415632542558, 0.3861415632542558, 0.9217481566624012, 0.06583915404731437, 0.05653582158226266, 0.25441119712018195, 0.05653582158226266, 0.5653582158226266, 0.05653582158226266, 0.5530791535404335, 0.7921005492395111, 0.19802513730987778, 0.35954101435886, 0.35954101435886, 0.35954101435886, 0.30008692052597286, 0.6001738410519457, 0.16848749874685245, 0.16848749874685245, 0.16848749874685245, 0.3369749974937049, 0.3369749974937049, 0.8147009637828687, 0.4330697626084784, 0.4330697626084784, 0.2940982020056972, 0.5881964040113944, 0.7841373074510914, 0.2555749534322914, 0.2555749534322914, 0.5111499068645828, 0.49208759450246337, 0.12302189862561584, 0.24604379725123168, 0.12302189862561584, 0.8147019868386065, 0.14075154620916563, 0.4222546386274969, 0.4222546386274969, 0.14075154620916563, 0.5970590550545534, 0.3861408611478011, 0.3861408611478011, 0.08139749659978673, 0.2441924897993602, 0.4883849795987204, 0.16279499319957347, 0.5970068803219021, 0.5531068009247302, 0.5219089419229135, 0.38618129562346903, 0.38618129562346903, 0.5530216633539555, 0.794839395592934, 0.9803917857923489, 0.794627462930119, 0.8776950068911266, 0.8614162731153066, 0.9372017531912509, 0.9543309936357703, 0.1802615952222676, 0.3605231904445352, 0.3605231904445352, 0.1802615952222676, 0.24652173871352484, 0.24652173871352484, 0.12326086935676242, 0.3697826080702873, 0.12326086935676242, 0.7841537745169812, 0.8147016097632788, 0.733915614024922, 0.24463853800830734, 0.8011941818937985, 0.5531147039637211, 0.9543247372510325, 0.2940356954651266, 0.5880713909302532, 0.14407047623026237, 0.07203523811513118, 0.43221142869078716, 0.360176190575656, 0.9544627754619646, 0.8147016499357782, 0.9544445337765256, 0.2635467622470853, 0.08784892074902842, 0.08784892074902842, 0.4392446037451421, 0.17569784149805684, 0.7946501086679363, 1.002283285826025, 0.9825753701372205, 1.0022594772733044, 0.9138098464852316, 0.9315362795187931, 0.9803598197163459, 0.5970203692584937, 0.9544428559208937, 1.0022613834967837, 0.7094182009858251, 0.814701973557784, 0.8147009605825775, 0.5055127707585656, 0.1263781926896414, 0.37913457806892426, 0.3468018291673934, 0.3468018291673934, 0.1734009145836967, 0.1734009145836967, 0.1734009145836967, 0.7946301692088779, 0.9544289751390598, 0.38622335925508217, 0.38622335925508217, 0.2760397460896177, 0.13801987304480884, 0.4140596191344265, 0.13801987304480884, 0.14034598623087002, 0.7017299311543501, 0.14034598623087002, 0.8614162880920198, 0.8147009128140592, 0.8373111709609435, 0.5530079976432215, 0.30537369937252223, 0.6107473987450445, 0.2078781532274399, 0.6236344596823197, 0.10393907661371996, 0.5219024893654332, 0.7092799671547334, 0.5530831277882498, 0.29410143621917684, 0.5882028724383537, 0.3950086510497488, 0.3950086510497488, 1.0022616978401635, 1.0022639037137762, 0.954329015249253, 0.31665827399529467, 0.15832913699764734, 0.31665827399529467, 0.15832913699764734, 0.10463411140555118, 0.05231705570277559, 0.15695116710832677, 0.5754876127305315, 0.10463411140555118, 1.0022732183519225, 0.18887349572561574, 0.1416551217942118, 0.047218373931403934, 0.4957929262797413, 0.1416551217942118, 0.8614163014335255, 0.5722978153073354, 0.14307445382683384, 0.42922336148050155, 0.8744837355716246, 0.8490856282517375, 0.8614163334659279, 0.38627173544201837, 0.38627173544201837, 0.8369536180217356, 0.16739072360434712, 0.8147016502106716, 0.8691176938192164, 0.5218695130801718, 0.5993043768335173, 0.29965218841675867, 0.27931334100096344, 0.13965667050048172, 0.27931334100096344, 0.27931334100096344, 0.9544286213468577, 0.14254076303241736, 0.24944633530673038, 0.10690557227431302, 0.39198709833914774, 0.10690557227431302, 0.8614163138320753, 0.4329607802777637, 0.4329607802777637, 0.2225472691475816, 0.2225472691475816, 0.4450945382951632], \"Term\": [\"40,000\", \"abortion\", \"abortion\", \"absolute\", \"absolute\", \"accessible\", \"achievments\", \"actually\", \"actually\", \"actually\", \"actually\", \"allow\", \"allow\", \"american\", \"american\", \"american\", \"anything\", \"anything\", \"anything\", \"anything\", \"appeal\", \"argument\", \"argument\", \"article\", \"article\", \"attack\", \"attention\", \"attention\", \"attention\", \"attention\", \"attorney\", \"balance\", \"barney\", \"barney\", \"behind\", \"believe\", \"benefit\", \"bernie\", \"bernie\", \"better\", \"better\", \"better\", \"better\", \"biden\", \"biden\", \"biden\", \"budget\", \"budget\", \"campaign\", \"campaign\", \"canadian\", \"center\", \"cheney\", \"child\", \"chuck\", \"clinic\", \"collins\", \"compare\", \"concern\", \"conclusion\", \"congress\", \"congress\", \"congress\", \"congressional\", \"conservative\", \"conspiracy\", \"context\", \"context\", \"corporate\", \"cortez\", \"could\", \"could\", \"could\", \"court\", \"court\", \"court\", \"court\", \"criminal\", \"criminal\", \"criticize\", \"crowd\", \"current\", \"defend\", \"democrat\", \"democrat\", \"democrat\", \"democrat\", \"deserve\", \"deserve\", \"determination\", \"documentary\", \"donnelly\", \"drop\", \"dynamic\", \"election\", \"election\", \"election\", \"email\", \"email\", \"enough\", \"enough\", \"enough\", \"especially\", \"especially\", \"experience\", \"facebook\", \"facebook\", \"favor\", \"favor\", \"fight\", \"fine.\\\\n\\\\nfuck\", \"first\", \"first\", \"frank\", \"friend\", \"gabbard\", \"gabbard\", \"gandhi\", \"general\", \"geotus\", \"getting\", \"getting\", \"getting\", \"going\", \"going\", \"going\", \"going\", \"going\", \"gorsuch\", \"government\", \"government\", \"government\", \"government\", \"government\", \"happen\", \"hearing\", \"hearing\", \"hearing\", \"heitcamp\", \"hence\", \"history\", \"history\", \"hospital\", \"house\", \"house\", \"house\", \"house\", \"house\", \"hypocritical\", \"immigration\", \"impeach\", \"impeach\", \"impeach\", \"impeach\", \"impeachment\", \"impeachment\", \"impeachment\", \"include\", \"include\", \"india\", \"indian\", \"indictment\", \"infuriatingly\", \"involve\", \"israel\", \"israel\", \"israel\", \"justice\", \"justice\", \"kavanaugh\", \"kavanaugh\", \"kavanaugh\", \"kavanaugh\", \"kitagawa\", \"klobuchar're\", \"leader\", \"leader\", \"liberal\", \"liberal\", \"liberal\", \"look\", \"magnitude\", \"making\", \"making\", \"making\", \"making\", \"manchin\", \"mayor\", \"mcconnell\", \"medicare\", \"megathread\", \"michigan\", \"minimum\", \"mitch\", \"mitch\", \"moderate\", \"moment\", \"monarchy\", \"money\", \"money\", \"money\", \"mueller\", \"mueller\", \"mueller\", \"mueller\", \"muller\", \"murkowski\", \"nancy\", \"national\", \"national\", \"nationally\", \"need\", \"need\", \"need\", \"netanyahu\", \"never\", \"never\", \"never\", \"night\", \"nominee\", \"nominee\", \"nominee\", \"nonsense\", \"nonsense\", \"nothing\", \"nothing\", \"nothing\", \"o'rourke\", \"obama\", \"obvious\", \"ocasio\", \"order\", \"order\", \"others\", \"overturn\", \"overturn\", \"party\", \"party\", \"people\", \"people\", \"people\", \"people\", \"people\", \"perform\", \"person\", \"person\", \"place\", \"place\", \"place\", \"pocket\", \"pocket\", \"point\", \"point\", \"point\", \"point\", \"point\", \"poisoning\", \"policy\", \"policy\", \"politics\", \"politics\", \"poll\", \"popular\", \"popular\", \"popular\", \"position\", \"position\", \"position\", \"position\", \"potus\", \"power\", \"power\", \"power\", \"power\", \"prejudice\", \"present\", \"present\", \"president\", \"president\", \"president\", \"president\", \"pretend\", \"prevent\", \"primary\", \"promise\", \"promise\", \"prosecutor\", \"protester\", \"protestors\", \"prove\", \"public\", \"putting\", \"reach\", \"realize\", \"really\", \"really\", \"really\", \"really\", \"reason\", \"reason\", \"reason\", \"reason\", \"reason\", \"redneck\", \"reelect\", \"refuse\", \"refuse\", \"regional\", \"repeat\", \"replace\", \"report\", \"report\", \"republican\", \"republican\", \"republican\", \"republican\", \"reservation\", \"responsible\", \"richard\", \"right\", \"right\", \"right\", \"right\", \"right\", \"russian\", \"sample\", \"sander\", \"school\", \"schumer\", \"scindia\", \"screaming\", \"semitic\", \"senatesupport\", \"several\", \"shutdown\", \"single\", \"solve\", \"someone\", \"someone\", \"someone\", \"something\", \"something\", \"something\", \"something\", \"something\", \"sondland\", \"sound\", \"speech\", \"speech\", \"state\", \"state\", \"state\", \"state\", \"still\", \"still\", \"still\", \"stonewall\", \"strong\", \"subpoena\", \"sufficient\", \"super\", \"super\", \"support\", \"support\", \"support\", \"supporting\", \"system\", \"taint\", \"terms\", \"terms\", \"terrible\", \"terrible\", \"testify\", \"thank\", \"theory\", \"thing\", \"thing\", \"thing\", \"thing\", \"think\", \"think\", \"think\", \"think\", \"think\", \"trash\", \"trump\", \"trump\", \"trump\", \"trump\", \"trump\", \"trumpurl\\\\n\\\\nafter\", \"try\", \"try\", \"try\", \"tuesday\", \"tulsi\", \"turtle\", \"twitter\", \"twitter\", \"ukraine\", \"ukraine\", \"unless\", \"voter\", \"warrantless\", \"warren\", \"warren\", \"without\", \"without\", \"without\", \"without\", \"words\", \"would\", \"would\", \"would\", \"would\", \"would\", \"wringer\", \"wrong\", \"wrong\", \"years\", \"years\", \"years\"]}, \"R\": 30, \"lambda.step\": 0.01, \"plot.opts\": {\"xlab\": \"PC1\", \"ylab\": \"PC2\"}, \"topic.order\": [1, 2, 3, 4, 5]};\n",
       "\n",
       "function LDAvis_load_lib(url, callback){\n",
       "  var s = document.createElement('script');\n",
       "  s.src = url;\n",
       "  s.async = true;\n",
       "  s.onreadystatechange = s.onload = callback;\n",
       "  s.onerror = function(){console.warn(\"failed to load library \" + url);};\n",
       "  document.getElementsByTagName(\"head\")[0].appendChild(s);\n",
       "}\n",
       "\n",
       "if(typeof(LDAvis) !== \"undefined\"){\n",
       "   // already loaded: just create the visualization\n",
       "   !function(LDAvis){\n",
       "       new LDAvis(\"#\" + \"ldavis_el2576823688629316484591130147\", ldavis_el2576823688629316484591130147_data);\n",
       "   }(LDAvis);\n",
       "}else if(typeof define === \"function\" && define.amd){\n",
       "   // require.js is available: use it to load d3/LDAvis\n",
       "   require.config({paths: {d3: \"https://d3js.org/d3.v5\"}});\n",
       "   require([\"d3\"], function(d3){\n",
       "      window.d3 = d3;\n",
       "      LDAvis_load_lib(\"https://cdn.jsdelivr.net/gh/bmabey/pyLDAvis@3.4.0/pyLDAvis/js/ldavis.v3.0.0.js\", function(){\n",
       "        new LDAvis(\"#\" + \"ldavis_el2576823688629316484591130147\", ldavis_el2576823688629316484591130147_data);\n",
       "      });\n",
       "    });\n",
       "}else{\n",
       "    // require.js not available: dynamically load d3 & LDAvis\n",
       "    LDAvis_load_lib(\"https://d3js.org/d3.v5.js\", function(){\n",
       "         LDAvis_load_lib(\"https://cdn.jsdelivr.net/gh/bmabey/pyLDAvis@3.4.0/pyLDAvis/js/ldavis.v3.0.0.js\", function(){\n",
       "                 new LDAvis(\"#\" + \"ldavis_el2576823688629316484591130147\", ldavis_el2576823688629316484591130147_data);\n",
       "            })\n",
       "         });\n",
       "}\n",
       "</script>"
      ],
      "text/plain": [
       "<IPython.core.display.HTML object>"
      ]
     },
     "execution_count": 36,
     "metadata": {},
     "output_type": "execute_result"
    }
   ],
   "source": [
    "import pyLDAvis\n",
    "import pyLDAvis.gensim_models as gensimvis\n",
    "lda_display = gensimvis.prepare(lda, corpus, dictionary, sort_topics=False)\n",
    "pyLDAvis.display(lda_display)"
   ]
  },
  {
   "cell_type": "code",
   "execution_count": 37,
   "id": "80ebcb8a",
   "metadata": {
    "colab": {
     "base_uri": "https://localhost:8080/",
     "height": 1000
    },
    "id": "nzrAkZ4JKCzN",
    "outputId": "5cd40a2e-5681-4e86-dff2-6faa4afaa1e2"
   },
   "outputs": [
    {
     "data": {
      "text/html": [
       "\n",
       "<link rel=\"stylesheet\" type=\"text/css\" href=\"https://cdn.jsdelivr.net/gh/bmabey/pyLDAvis@3.4.0/pyLDAvis/js/ldavis.v1.0.0.css\">\n",
       "\n",
       "\n",
       "<div id=\"ldavis_el2576823688629380328774352432\" style=\"background-color:white;\"></div>\n",
       "<script type=\"text/javascript\">\n",
       "\n",
       "var ldavis_el2576823688629380328774352432_data = {\"mdsDat\": {\"x\": [0.08569000923149357, 0.018693307775997925, -0.10438331700749147], \"y\": [0.06452190170613277, -0.09964436784095727, 0.03512246613482455], \"topics\": [1, 2, 3], \"cluster\": [1, 1, 1], \"Freq\": [36.890308112476106, 32.843858904556114, 30.265832982967776]}, \"tinfo\": {\"Term\": [\"geotus\", \"american\", \"screaming\", \"protestors\", \"hearing\", \"scindia\", \"tulsi\", \"tuesday\", \"democrat\", \"reason\", \"allow\", \"state\", \"party\", \"congress\", \"voter\", \"position\", \"need\", \"facebook\", \"reach\", \"indictment\", \"muller\", \"refuse\", \"gandhi\", \"regional\", \"mayor\", \"support\", \"friend\", \"look\", \"achievments\", \"public\", \"scindia\", \"congress\", \"indictment\", \"muller\", \"refuse\", \"gandhi\", \"regional\", \"mayor\", \"netanyahu\", \"monarchy\", \"indian\", \"absolute\", \"cheney\", \"conservative\", \"university\", \"entire\", \"frank\", \"state\", \"experience\", \"criticize\", \"child\", \"name]s\", \"sample\", \"michigan\", \"scale\", \"debate\", \"gorsuch\", \"fight\", \"current\", \"system\", \"need\", \"position\", \"better\", \"party\", \"power\", \"abortion\", \"would\", \"person\", \"immigration\", \"someone\", \"getting\", \"try\", \"trump\", \"republican\", \"people\", \"american\", \"election\", \"president\", \"could\", \"right\", \"enough\", \"things\", \"kavanaugh\", \"geotus\", \"tulsi\", \"tuesday\", \"look\", \"achievments\", \"public\", \"sondland\", \"collins\", \"heitcamp\", \"murkowski\", \"credit\", \"several\", \"testify\", \"schumer\", \"receive\", \"military\", \"brown\", \"subpoena\", \"present\", \"certain\", \"positive\", \"school\", \"shutdown\", \"exact\", \"deserve\", \"large\", \"voter\", \"gabbard\", \"gordon\", \"chuck\", \"reason\", \"obama\", \"support\", \"never\", \"people\", \"trump\", \"warren\", \"donnelly\", \"order\", \"problem\", \"first\", \"really\", \"liberal\", \"democrat\", \"going\", \"would\", \"think\", \"without\", \"court\", \"enough\", \"president\", \"republican\", \"making\", \"impeach\", \"everyone\", \"still\", \"screaming\", \"protestors\", \"facebook\", \"reach\", \"crowd\", \"super\", \"conspiracy\", \"protester\", \"report\", \"hearing\", \"billionaire\", \"undocumented\", \"family\", \"poll\", \"redneck\", \"kitagawa\", \"appeal\", \"protest\", \"add\", \"twitter\", \"allow\", \"friend\", \"competition\", \"disabled\", \"fake\", \"worker\", \"vietnam\", \"supremacy\", \"defend\", \"brett\", \"mueller\", \"criminal\", \"comment\", \"quote\", \"kavanaugh\", \"biden\", \"democrat\", \"think\", \"american\", \"trump\", \"something\", \"could\", \"right\", \"people\", \"context\", \"point\", \"would\", \"still\", \"party\", \"president\", \"first\"], \"Freq\": [6.0, 12.0, 5.0, 5.0, 6.0, 6.0, 5.0, 5.0, 13.0, 8.0, 5.0, 7.0, 14.0, 5.0, 6.0, 8.0, 6.0, 3.0, 3.0, 4.0, 4.0, 4.0, 4.0, 4.0, 4.0, 8.0, 4.0, 4.0, 4.0, 4.0, 5.837611589884477, 5.138101453048161, 4.439692536120102, 4.439314342215764, 4.437382441404204, 4.436418873984478, 4.436174127299165, 4.435901065132505, 3.7393727447280196, 3.736140574584866, 3.7359454500797367, 3.7354996915119845, 3.038009205444276, 3.035904327880324, 3.035747050800759, 3.035192796279724, 3.034732459444347, 6.542596426916431, 2.337010543378098, 2.337008721094645, 2.336777291096104, 2.3367062220414345, 2.336165985085423, 2.33582045210759, 2.335500991800701, 2.3353976823464766, 2.3352084452186572, 2.3350831281873456, 2.3349332804172427, 2.334851978540106, 5.843703623643757, 6.5522730324035585, 5.79126279148507, 10.141028723060236, 5.159363856378637, 5.139160059558747, 16.411267225782705, 3.7392695754494456, 3.7376233526130678, 5.149702389861735, 4.372962198176305, 5.089432467286039, 15.206141275732838, 7.283590706386345, 10.033894155692263, 5.844029952557507, 4.4622095115201965, 5.106857982718242, 4.428361857960184, 3.9502686926166746, 3.7495147333739327, 3.749423619201279, 3.741947491071564, 5.612363394182415, 4.937831547019876, 4.934955157353491, 3.5896277244754895, 3.58804950407801, 3.576153820711971, 2.918374372476779, 2.918350660482827, 2.9183319404876014, 2.9182947500970866, 2.9164532017667684, 2.2448444194587096, 2.244837181060556, 2.244766544278572, 2.244625769914476, 2.2445596259313456, 2.244528925139176, 2.2443893987747616, 2.244231152415122, 2.2439493540869937, 2.2436653093594385, 2.243606403774462, 2.2435634725854117, 2.243301891852127, 2.243163114287522, 2.243167607086376, 4.945608082636491, 4.266022835162809, 1.5713069784425502, 1.5712772760501257, 6.286363593480549, 3.597211319341315, 6.290699643574651, 5.270055551887072, 16.168532759460945, 15.068505904019716, 2.9215565220651807, 2.9223395170654802, 2.920979197412426, 2.9191044522905742, 4.260843636483749, 3.6063521682099666, 3.1228958115141583, 5.616647527489758, 4.388485549529036, 6.927624268328808, 5.60703792994066, 3.6079892941924223, 3.593038008405706, 3.5812581394101284, 3.618946232197886, 3.592094021446467, 2.9574754505041585, 2.942325982367988, 2.930974676463107, 2.9253636698941783, 4.808591210246366, 4.807300865419844, 3.498198427258933, 3.4963243221526046, 2.8427377565841696, 2.842499698314036, 2.8416137075347554, 2.8407714182736634, 2.8365056900824546, 5.481390343258546, 2.1866592844470105, 2.1866330635360973, 2.1859552299881897, 2.1857036012466184, 2.185641959105173, 2.1854223014742766, 2.185204483907304, 2.185029907842539, 2.1848873028884492, 2.1659325744020186, 4.820264115762589, 3.753522017189176, 1.5306084132687074, 1.5305651717664996, 1.5305551664189143, 1.5305484961871907, 1.5305455060833146, 1.5304952493373976, 1.5304834039258883, 1.53045465292708, 3.781118375885459, 2.849540242902244, 2.8480297804288446, 2.841403480231468, 7.44721803602581, 4.824401959511098, 7.441650002592574, 9.422125524224768, 6.777595773377967, 11.11479296741702, 3.557144645047937, 4.829027880215379, 4.617971168114518, 7.0097460582686155, 2.8408654915417646, 2.887966987845667, 4.795366670826451, 2.8383333335747087, 3.4201886872040075, 2.8495278224707588, 2.8488874802252973], \"Total\": [6.0, 12.0, 5.0, 5.0, 6.0, 6.0, 5.0, 5.0, 13.0, 8.0, 5.0, 7.0, 14.0, 5.0, 6.0, 8.0, 6.0, 3.0, 3.0, 4.0, 4.0, 4.0, 4.0, 4.0, 4.0, 8.0, 4.0, 4.0, 4.0, 4.0, 6.286039607097738, 5.584927007342833, 4.88386720997554, 4.883846076883841, 4.88374478352993, 4.883722226338905, 4.883701592611557, 4.88370565797769, 4.182718508113711, 4.1825743775868665, 4.1825619302317385, 4.182543815619669, 3.4815215952669223, 3.4814258161484313, 3.4813786331980263, 3.4813739186654904, 3.481379317065222, 7.660724337503614, 2.7803414422954877, 2.7803408844190622, 2.780324347697384, 2.7803195514128984, 2.780286443214339, 2.780264044968278, 2.7802748198791973, 2.7802714311175993, 2.7802533749773226, 2.7802504861366177, 2.7802129120823786, 2.7802427821177447, 6.95969863330073, 8.33467173595934, 7.629526415095508, 14.452828131661423, 6.915209885791151, 6.931835300588129, 28.134258164937965, 4.856081118123527, 4.855961622687479, 7.588369409956298, 6.22640533391128, 7.601690902819055, 41.38944014716958, 13.682905570560962, 33.21217297342182, 12.847190046405924, 7.544100264041873, 11.575332037386886, 10.822416407819887, 11.482709242203928, 7.550628569311253, 6.2035341703293145, 13.41989057735719, 6.065088677771211, 5.391538614009838, 5.391718812015072, 4.044496479530805, 4.044640173704224, 4.044117325689433, 3.370943542680718, 3.3709459242464423, 3.370945930829397, 3.370945509393103, 3.3709963839901578, 2.6974067462595483, 2.697406479461577, 2.6974122871491604, 2.6974035664148746, 2.6974100352204164, 2.6974198780457272, 2.697404067974845, 2.6974194101502955, 2.6974125046371946, 2.6974522444579594, 2.6974504846417493, 2.6974568387217492, 2.6974327724961698, 2.6973729573422105, 2.6974328953976583, 6.092286998822843, 5.374034000824619, 2.023868685798254, 2.023872727733717, 8.14073488256839, 4.700679723466778, 8.796649523979305, 7.438000940887493, 33.21217297342182, 41.38944014716958, 4.027017744099684, 4.071773471042398, 4.071751779864835, 4.071862077445291, 8.043072531062242, 6.0576153900465455, 4.764690227998763, 13.98244145932091, 10.186614228270138, 28.134258164937965, 18.755034480262665, 7.504653386640743, 7.414802740640299, 7.550628569311253, 11.575332037386886, 13.682905570560962, 5.382082342539262, 7.489960497574502, 6.130088179782457, 6.696249158823426, 5.269565212643816, 5.269610868513637, 3.9573260985101677, 3.957453381787482, 3.30119894386855, 3.3012010291995804, 3.3012596339408864, 3.3012662573825846, 3.301582827097974, 6.625491334593702, 2.645102450223476, 2.6451001379633525, 2.645146557802734, 2.645125683439043, 2.645172428538158, 2.645182160564375, 2.6451859966573794, 2.645155353713047, 2.645161139861788, 2.6464365860425323, 5.942658463001217, 4.640002593342262, 1.9890019023822756, 1.9890033694031461, 1.989003662647837, 1.9890031247388178, 1.989003743276026, 1.9890035337286378, 1.989010746658769, 1.9890049313554563, 5.312359817465233, 3.974430029867411, 3.9744981864669233, 4.002227795328162, 13.41989057735719, 7.9896011831761475, 13.98244145932091, 18.755034480262665, 12.847190046405924, 41.38944014716958, 6.029261968612386, 10.822416407819887, 11.482709242203928, 33.21217297342182, 4.703459036440716, 6.046997306109642, 28.134258164937965, 6.696249158823426, 14.452828131661423, 11.575332037386886, 8.043072531062242], \"Category\": [\"Default\", \"Default\", \"Default\", \"Default\", \"Default\", \"Default\", \"Default\", \"Default\", \"Default\", \"Default\", \"Default\", \"Default\", \"Default\", \"Default\", \"Default\", \"Default\", \"Default\", \"Default\", \"Default\", \"Default\", \"Default\", \"Default\", \"Default\", \"Default\", \"Default\", \"Default\", \"Default\", \"Default\", \"Default\", \"Default\", \"Topic1\", \"Topic1\", \"Topic1\", \"Topic1\", \"Topic1\", \"Topic1\", \"Topic1\", \"Topic1\", \"Topic1\", \"Topic1\", \"Topic1\", \"Topic1\", \"Topic1\", \"Topic1\", \"Topic1\", \"Topic1\", \"Topic1\", \"Topic1\", \"Topic1\", \"Topic1\", \"Topic1\", \"Topic1\", \"Topic1\", \"Topic1\", \"Topic1\", \"Topic1\", \"Topic1\", \"Topic1\", \"Topic1\", \"Topic1\", \"Topic1\", \"Topic1\", \"Topic1\", \"Topic1\", \"Topic1\", \"Topic1\", \"Topic1\", \"Topic1\", \"Topic1\", \"Topic1\", \"Topic1\", \"Topic1\", \"Topic1\", \"Topic1\", \"Topic1\", \"Topic1\", \"Topic1\", \"Topic1\", \"Topic1\", \"Topic1\", \"Topic1\", \"Topic1\", \"Topic1\", \"Topic2\", \"Topic2\", \"Topic2\", \"Topic2\", \"Topic2\", \"Topic2\", \"Topic2\", \"Topic2\", \"Topic2\", \"Topic2\", \"Topic2\", \"Topic2\", \"Topic2\", \"Topic2\", \"Topic2\", \"Topic2\", \"Topic2\", \"Topic2\", \"Topic2\", \"Topic2\", \"Topic2\", \"Topic2\", \"Topic2\", \"Topic2\", \"Topic2\", \"Topic2\", \"Topic2\", \"Topic2\", \"Topic2\", \"Topic2\", \"Topic2\", \"Topic2\", \"Topic2\", \"Topic2\", \"Topic2\", \"Topic2\", \"Topic2\", \"Topic2\", \"Topic2\", \"Topic2\", \"Topic2\", \"Topic2\", \"Topic2\", \"Topic2\", \"Topic2\", \"Topic2\", \"Topic2\", \"Topic2\", \"Topic2\", \"Topic2\", \"Topic2\", \"Topic2\", \"Topic2\", \"Topic2\", \"Topic2\", \"Topic2\", \"Topic3\", \"Topic3\", \"Topic3\", \"Topic3\", \"Topic3\", \"Topic3\", \"Topic3\", \"Topic3\", \"Topic3\", \"Topic3\", \"Topic3\", \"Topic3\", \"Topic3\", \"Topic3\", \"Topic3\", \"Topic3\", \"Topic3\", \"Topic3\", \"Topic3\", \"Topic3\", \"Topic3\", \"Topic3\", \"Topic3\", \"Topic3\", \"Topic3\", \"Topic3\", \"Topic3\", \"Topic3\", \"Topic3\", \"Topic3\", \"Topic3\", \"Topic3\", \"Topic3\", \"Topic3\", \"Topic3\", \"Topic3\", \"Topic3\", \"Topic3\", \"Topic3\", \"Topic3\", \"Topic3\", \"Topic3\", \"Topic3\", \"Topic3\", \"Topic3\", \"Topic3\", \"Topic3\", \"Topic3\", \"Topic3\", \"Topic3\", \"Topic3\"], \"logprob\": [30.0, 29.0, 28.0, 27.0, 26.0, 25.0, 24.0, 23.0, 22.0, 21.0, 20.0, 19.0, 18.0, 17.0, 16.0, 15.0, 14.0, 13.0, 12.0, 11.0, 10.0, 9.0, 8.0, 7.0, 6.0, 5.0, 4.0, 3.0, 2.0, 1.0, -5.3292, -5.4568, -5.6029, -5.603, -5.6034, -5.6036, -5.6037, -5.6038, -5.7746, -5.7754, -5.7755, -5.7756, -5.9823, -5.983, -5.983, -5.9832, -5.9834, -5.2152, -6.2446, -6.2446, -6.2447, -6.2447, -6.245, -6.2451, -6.2453, -6.2453, -6.2454, -6.2454, -6.2455, -6.2455, -5.3281, -5.2137, -5.3371, -4.7769, -5.4527, -5.4566, -4.2955, -5.7746, -5.775, -5.4545, -5.618, -5.4663, -4.3718, -5.1079, -4.7875, -5.3281, -5.5978, -5.4629, -5.6055, -5.7197, -5.7719, -5.7719, -5.7739, -5.2523, -5.3804, -5.381, -5.6993, -5.6997, -5.703, -5.9063, -5.9063, -5.9063, -5.9063, -5.9069, -6.1687, -6.1687, -6.1687, -6.1688, -6.1688, -6.1688, -6.1689, -6.1689, -6.1691, -6.1692, -6.1692, -6.1692, -6.1694, -6.1694, -6.1694, -5.3788, -5.5266, -6.5254, -6.5254, -5.1389, -5.6971, -5.1382, -5.3153, -4.1942, -4.2647, -5.9052, -5.9049, -5.9054, -5.906, -5.5278, -5.6946, -5.8385, -5.2516, -5.4983, -5.0418, -5.2533, -5.6942, -5.6983, -5.7016, -5.6911, -5.6986, -5.893, -5.8981, -5.902, -5.9039, -5.3252, -5.3254, -5.6433, -5.6438, -5.8508, -5.8509, -5.8512, -5.8515, -5.853, -5.1942, -6.1132, -6.1132, -6.1135, -6.1136, -6.1136, -6.1137, -6.1138, -6.1139, -6.114, -6.1227, -5.3227, -5.5729, -6.4699, -6.4699, -6.4699, -6.4699, -6.4699, -6.47, -6.47, -6.47, -5.5655, -5.8484, -5.8489, -5.8513, -4.8877, -5.3219, -4.8885, -4.6525, -4.9819, -4.4873, -5.6266, -5.3209, -5.3656, -4.9483, -5.8514, -5.835, -5.3279, -5.8523, -5.6659, -5.8484, -5.8486], \"loglift\": [30.0, 29.0, 28.0, 27.0, 26.0, 25.0, 24.0, 23.0, 22.0, 21.0, 20.0, 19.0, 18.0, 17.0, 16.0, 15.0, 14.0, 13.0, 12.0, 11.0, 10.0, 9.0, 8.0, 7.0, 6.0, 5.0, 4.0, 3.0, 2.0, 1.0, 0.9232, 0.9138, 0.9019, 0.9018, 0.9014, 0.9012, 0.9011, 0.901, 0.8852, 0.8843, 0.8843, 0.8842, 0.861, 0.8603, 0.8603, 0.8601, 0.8599, 0.8394, 0.8235, 0.8235, 0.8234, 0.8234, 0.8232, 0.823, 0.8229, 0.8229, 0.8228, 0.8227, 0.8227, 0.8226, 0.8224, 0.7566, 0.7215, 0.6429, 0.7043, 0.698, 0.4582, 0.7359, 0.7355, 0.6095, 0.6439, 0.596, -0.0041, 0.3667, -0.1997, 0.2095, 0.4721, 0.1789, 0.1036, -0.0698, 0.2972, 0.4937, -0.2799, 1.0358, 1.0255, 1.0249, 0.9941, 0.9936, 0.9904, 0.9692, 0.9692, 0.9692, 0.9692, 0.9686, 0.9298, 0.9297, 0.9297, 0.9297, 0.9296, 0.9296, 0.9295, 0.9295, 0.9293, 0.9292, 0.9292, 0.9292, 0.9291, 0.929, 0.929, 0.9049, 0.8825, 0.8603, 0.8603, 0.8549, 0.8459, 0.7781, 0.7688, 0.3936, 0.103, 0.7925, 0.7817, 0.7813, 0.7806, 0.4781, 0.5948, 0.6909, 0.2013, 0.2713, -0.2881, -0.094, 0.381, 0.3889, 0.3675, -0.0493, -0.224, 0.5147, 0.179, 0.3755, 0.2853, 1.1036, 1.1033, 1.0718, 1.0713, 1.0456, 1.0455, 1.0452, 1.0449, 1.0433, 1.0056, 1.0048, 1.0048, 1.0045, 1.0044, 1.0043, 1.0042, 1.0041, 1.0041, 1.004, 0.9948, 0.9858, 0.9831, 0.9332, 0.9332, 0.9331, 0.9331, 0.9331, 0.9331, 0.9331, 0.9331, 0.8551, 0.8624, 0.8619, 0.8526, 0.6063, 0.6907, 0.5644, 0.5067, 0.5556, -0.1196, 0.6675, 0.3882, 0.2843, -0.3605, 0.691, 0.4561, -0.5742, 0.3368, -0.246, -0.2066, 0.1573]}, \"token.table\": {\"Topic\": [1, 2, 1, 2, 3, 2, 3, 1, 3, 3, 1, 2, 1, 2, 3, 3, 3, 2, 2, 1, 1, 2, 2, 2, 3, 3, 1, 1, 3, 1, 3, 1, 2, 3, 1, 2, 3, 2, 2, 3, 1, 3, 1, 1, 3, 1, 2, 3, 2, 3, 1, 2, 1, 2, 3, 1, 2, 1, 1, 2, 3, 2, 1, 3, 3, 3, 1, 1, 2, 3, 1, 1, 3, 2, 3, 1, 2, 1, 2, 1, 2, 3, 2, 1, 1, 3, 2, 1, 2, 1, 2, 3, 1, 1, 1, 2, 3, 3, 2, 1, 2, 2, 1, 2, 3, 1, 1, 2, 1, 1, 2, 3, 1, 2, 1, 1, 2, 1, 1, 2, 3, 2, 3, 1, 2, 1, 2, 3, 1, 2, 3, 1, 2, 1, 2, 3, 3, 1, 2, 2, 1, 2, 3, 2, 1, 2, 3, 1, 2, 3, 3, 3, 2, 1, 3, 3, 1, 2, 3, 1, 2, 2, 3, 1, 1, 3, 1, 2, 3, 1, 2, 3, 1, 1, 2, 2, 1, 3, 2, 2, 1, 2, 3, 1, 2, 3, 2, 1, 2, 1, 2, 3, 2, 3, 1, 2, 3, 3, 1, 2, 1, 2, 1, 2, 3, 1, 2, 3, 1, 2, 2, 2, 3, 3, 1, 3, 1, 2, 2, 3, 1, 2, 3, 3, 1, 2, 3], \"Freq\": [0.7213096940684348, 0.2885238776273739, 0.9563557911962666, 0.9889631285387396, 0.7560976039835902, 0.1682748564848485, 0.8413742824242424, 0.46702819669726414, 0.5448662294801415, 0.7560904989393273, 0.7864184057517141, 0.2621394685839047, 0.12516269298969748, 0.25032538597939497, 0.6258134649484874, 0.7561143803072833, 1.0055279242757085, 0.7414492702000084, 0.7414512969602336, 0.8616921992034908, 0.7193405336526169, 0.9882044323209744, 0.8899579131251222, 0.251604090147777, 0.754812270443331, 1.0055294555548446, 0.8952668483269709, 0.8617159056167849, 0.9087440349000188, 0.42521896853033403, 0.637828452795501, 0.369603224388016, 0.184801612194008, 0.46200403048502003, 0.2697307089557573, 0.5394614179115146, 0.2697307089557573, 0.889944591530229, 0.2516084048492761, 0.7548252145478282, 0.7193362552081054, 0.9087607414790985, 0.7193693660324744, 0.7193542247765536, 1.0055249843972394, 0.071518268315966, 0.429109609895796, 0.500627878211762, 0.7414621676828296, 1.0055287139107028, 0.245593230348346, 0.7367796910450379, 0.5302156466643957, 0.26510782333219785, 0.26510782333219785, 0.5297572199826628, 0.5297572199826628, 0.861728751374683, 0.3262595808321595, 0.4893893712482392, 0.16312979041607975, 0.7414457258740969, 0.719336110873049, 0.7580876393101451, 1.0055285656626314, 0.7561017721684792, 0.719359644022277, 0.1243305958187015, 0.497322383274806, 0.3729917874561045, 0.8617274151352684, 0.21551712092464267, 0.8620684836985707, 0.7443198162472028, 0.1860799540618007, 0.8190474016780046, 0.9892683056704903, 0.64242524947975, 0.321212624739875, 0.39267217844562163, 0.39267217844562163, 0.19633608922281082, 0.9882064058969124, 0.7193588965668689, 0.15093220253397605, 0.7546610126698803, 0.8899579113871671, 0.8237297389896264, 0.2059324347474066, 0.400536157830405, 0.400536157830405, 0.13351205261013502, 0.9563516492338887, 0.8190230872431999, 0.29806502347709374, 0.14903251173854687, 0.521613791084914, 0.7560915954360137, 0.7414456920920578, 0.20987723275769266, 0.629631698273078, 0.988998264739257, 0.1858016909358917, 0.557405072807675, 0.3716033818717834, 0.8190501803616832, 0.7193561358388244, 0.7414519757418236, 0.9563488031282297, 0.1882402612700179, 0.1882402612700179, 0.7529610450800716, 0.8190266312717656, 0.8899580226498863, 0.7193417745753876, 0.8621062945586798, 0.14368438242644663, 0.9563158487095725, 0.1344447262036352, 0.672223631018176, 0.1344447262036352, 0.8509407650198251, 0.21273519125495627, 0.24559453868113637, 0.736783616043409, 0.6919061036983667, 0.06919061036983667, 0.20757183110951, 0.30109442125339225, 0.48175107400542766, 0.2107660948773746, 0.8237094691584701, 0.20592736728961752, 0.3307426642937778, 0.3307426642937778, 0.4961139964406667, 0.7561077390469072, 0.839865110679645, 0.2399614601941843, 0.7414403736374175, 0.7230438529817614, 0.1446087705963523, 0.1446087705963523, 0.7414493988120904, 0.43195305187364136, 0.3455624414989131, 0.2591718311241848, 0.24558788607776358, 0.7367636582332908, 0.7560992579103408, 0.9087422116562497, 0.9488366645581774, 0.9890909876899004, 0.24986084029682404, 0.7495825208904721, 0.7580632569940661, 0.16508146120388079, 0.6603258448155231, 0.33016292240776157, 0.2456780657828035, 0.7370341973484105, 0.7414537538623502, 0.7560943772218625, 0.8190436186366056, 0.8190508621680552, 0.9086550776122557, 0.5115872475989776, 0.2923355700565586, 0.21925167754241895, 0.3483498463322809, 0.26126238474921065, 0.4354373079153511, 0.7193503406389179, 0.7193533479855418, 0.7414408573529837, 0.7414513567422646, 0.9544960539582406, 0.9488448853432878, 0.7414528797977423, 0.7414391108284591, 0.6589030831102878, 0.2635612332441151, 0.13178061662205756, 0.3317155582908422, 0.1658577791454211, 0.6634311165816844, 0.8899585418788332, 0.9137517147994751, 0.13053595925706787, 0.1493373344213653, 0.44801200326409585, 0.44801200326409585, 0.7414536159951588, 0.9087601674253051, 0.22735929111965666, 0.68207787335897, 0.11367964555982833, 1.0055286308369438, 0.7193616373590855, 0.7414529531341585, 0.6447937401766033, 0.32239687008830165, 0.21327606751187267, 0.319914101267809, 0.47987115190171353, 0.3624112804295995, 0.3624112804295995, 0.26576827231503963, 0.6577483962345497, 0.26309935849381993, 0.9273480636374891, 0.9273790578087616, 0.7557332038667096, 0.7561150412777717, 0.8617275844093328, 1.0055285249015482, 0.1641419716755335, 0.8207098583776674, 0.744968160221183, 0.24832272007372763, 0.3997519732677314, 0.5330026310236419, 0.13325065775591047, 1.0055288375993006, 0.5687016841247244, 0.24880698680456695, 0.17771927628897638], \"Term\": [\"abortion\", \"abortion\", \"absolute\", \"achievments\", \"add\", \"allow\", \"allow\", \"american\", \"american\", \"appeal\", \"better\", \"better\", \"biden\", \"biden\", \"biden\", \"billionaire\", \"brett\", \"brown\", \"certain\", \"cheney\", \"child\", \"chuck\", \"collins\", \"comment\", \"comment\", \"competition\", \"congress\", \"conservative\", \"conspiracy\", \"context\", \"context\", \"could\", \"could\", \"could\", \"court\", \"court\", \"court\", \"credit\", \"criminal\", \"criminal\", \"criticize\", \"crowd\", \"current\", \"debate\", \"defend\", \"democrat\", \"democrat\", \"democrat\", \"deserve\", \"disabled\", \"donnelly\", \"donnelly\", \"election\", \"election\", \"election\", \"enough\", \"enough\", \"entire\", \"everyone\", \"everyone\", \"everyone\", \"exact\", \"experience\", \"facebook\", \"fake\", \"family\", \"fight\", \"first\", \"first\", \"first\", \"frank\", \"friend\", \"friend\", \"gabbard\", \"gabbard\", \"gandhi\", \"geotus\", \"getting\", \"getting\", \"going\", \"going\", \"going\", \"gordon\", \"gorsuch\", \"hearing\", \"hearing\", \"heitcamp\", \"immigration\", \"immigration\", \"impeach\", \"impeach\", \"impeach\", \"indian\", \"indictment\", \"kavanaugh\", \"kavanaugh\", \"kavanaugh\", \"kitagawa\", \"large\", \"liberal\", \"liberal\", \"look\", \"making\", \"making\", \"making\", \"mayor\", \"michigan\", \"military\", \"monarchy\", \"mueller\", \"mueller\", \"mueller\", \"muller\", \"murkowski\", \"name]s\", \"need\", \"need\", \"netanyahu\", \"never\", \"never\", \"never\", \"obama\", \"obama\", \"order\", \"order\", \"party\", \"party\", \"party\", \"people\", \"people\", \"people\", \"person\", \"person\", \"point\", \"point\", \"point\", \"poll\", \"position\", \"position\", \"positive\", \"power\", \"power\", \"power\", \"present\", \"president\", \"president\", \"president\", \"problem\", \"problem\", \"protest\", \"protester\", \"protestors\", \"public\", \"quote\", \"quote\", \"reach\", \"really\", \"really\", \"really\", \"reason\", \"reason\", \"receive\", \"redneck\", \"refuse\", \"regional\", \"report\", \"republican\", \"republican\", \"republican\", \"right\", \"right\", \"right\", \"sample\", \"scale\", \"school\", \"schumer\", \"scindia\", \"screaming\", \"several\", \"shutdown\", \"someone\", \"someone\", \"someone\", \"something\", \"something\", \"something\", \"sondland\", \"state\", \"state\", \"still\", \"still\", \"still\", \"subpoena\", \"super\", \"support\", \"support\", \"support\", \"supremacy\", \"system\", \"testify\", \"things\", \"things\", \"think\", \"think\", \"think\", \"trump\", \"trump\", \"trump\", \"try\", \"try\", \"tuesday\", \"tulsi\", \"twitter\", \"undocumented\", \"university\", \"vietnam\", \"voter\", \"voter\", \"warren\", \"warren\", \"without\", \"without\", \"without\", \"worker\", \"would\", \"would\", \"would\"]}, \"R\": 30, \"lambda.step\": 0.01, \"plot.opts\": {\"xlab\": \"PC1\", \"ylab\": \"PC2\"}, \"topic.order\": [1, 2, 3]};\n",
       "\n",
       "function LDAvis_load_lib(url, callback){\n",
       "  var s = document.createElement('script');\n",
       "  s.src = url;\n",
       "  s.async = true;\n",
       "  s.onreadystatechange = s.onload = callback;\n",
       "  s.onerror = function(){console.warn(\"failed to load library \" + url);};\n",
       "  document.getElementsByTagName(\"head\")[0].appendChild(s);\n",
       "}\n",
       "\n",
       "if(typeof(LDAvis) !== \"undefined\"){\n",
       "   // already loaded: just create the visualization\n",
       "   !function(LDAvis){\n",
       "       new LDAvis(\"#\" + \"ldavis_el2576823688629380328774352432\", ldavis_el2576823688629380328774352432_data);\n",
       "   }(LDAvis);\n",
       "}else if(typeof define === \"function\" && define.amd){\n",
       "   // require.js is available: use it to load d3/LDAvis\n",
       "   require.config({paths: {d3: \"https://d3js.org/d3.v5\"}});\n",
       "   require([\"d3\"], function(d3){\n",
       "      window.d3 = d3;\n",
       "      LDAvis_load_lib(\"https://cdn.jsdelivr.net/gh/bmabey/pyLDAvis@3.4.0/pyLDAvis/js/ldavis.v3.0.0.js\", function(){\n",
       "        new LDAvis(\"#\" + \"ldavis_el2576823688629380328774352432\", ldavis_el2576823688629380328774352432_data);\n",
       "      });\n",
       "    });\n",
       "}else{\n",
       "    // require.js not available: dynamically load d3 & LDAvis\n",
       "    LDAvis_load_lib(\"https://d3js.org/d3.v5.js\", function(){\n",
       "         LDAvis_load_lib(\"https://cdn.jsdelivr.net/gh/bmabey/pyLDAvis@3.4.0/pyLDAvis/js/ldavis.v3.0.0.js\", function(){\n",
       "                 new LDAvis(\"#\" + \"ldavis_el2576823688629380328774352432\", ldavis_el2576823688629380328774352432_data);\n",
       "            })\n",
       "         });\n",
       "}\n",
       "</script>"
      ],
      "text/plain": [
       "<IPython.core.display.HTML object>"
      ]
     },
     "execution_count": 37,
     "metadata": {},
     "output_type": "execute_result"
    }
   ],
   "source": [
    "lda3 = gensim.models.ldamodel.LdaModel.load('model3.gensim')\n",
    "lda_display3 = gensimvis.prepare(lda3, corpus, dictionary, sort_topics=False)\n",
    "pyLDAvis.display(lda_display3)"
   ]
  },
  {
   "cell_type": "markdown",
   "id": "ecbd48d4",
   "metadata": {},
   "source": [
    "Topic modeling is quite versatile and can be used to uncover many different themes in the data (it can sometimes also be used for exploratory data analysis). Here are some more resources for topic modeling:\n",
    "\n",
    "- nice general intro: https://maria-antoniak.github.io/2022/07/27/topic-modeling-for-the-people.html\n",
    "- MALLET: http://programminghistorian.org/en/lessons/topic-modeling-and-mallet\n",
    "- BERTopic: https://maartengr.github.io/BERTopic/index.html\n",
    "- contextualized topic modeling: https://github.com/MilaNLProc/contextualized-topic-models"
   ]
  },
  {
   "cell_type": "markdown",
   "id": "2ceca3bf",
   "metadata": {},
   "source": [
    "### ✍️Try yourself: How do the results of BERTopic and LDA compare?"
   ]
  },
  {
   "cell_type": "code",
   "execution_count": null,
   "id": "03831635",
   "metadata": {},
   "outputs": [],
   "source": []
  },
  {
   "cell_type": "code",
   "execution_count": null,
   "id": "a23e378a",
   "metadata": {},
   "outputs": [],
   "source": []
  },
  {
   "cell_type": "code",
   "execution_count": null,
   "id": "4fda7053",
   "metadata": {},
   "outputs": [],
   "source": []
  },
  {
   "cell_type": "code",
   "execution_count": null,
   "id": "cc468b01",
   "metadata": {},
   "outputs": [],
   "source": []
  }
 ],
 "metadata": {
  "kernelspec": {
   "display_name": "Python 3 (ipykernel)",
   "language": "python",
   "name": "python3"
  },
  "language_info": {
   "codemirror_mode": {
    "name": "ipython",
    "version": 3
   },
   "file_extension": ".py",
   "mimetype": "text/x-python",
   "name": "python",
   "nbconvert_exporter": "python",
   "pygments_lexer": "ipython3",
   "version": "3.11.5"
  }
 },
 "nbformat": 4,
 "nbformat_minor": 5
}
